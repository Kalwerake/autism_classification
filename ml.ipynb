{
 "cells": [
  {
   "cell_type": "code",
   "execution_count": 110,
   "outputs": [],
   "source": [
    "import pandas as pd\n",
    "\n",
    "from sklearn.model_selection import StratifiedShuffleSplit, cross_val_score, cross_validate\n",
    "from sklearn.metrics import accuracy_score\n",
    "import numpy as np\n",
    "import os\n",
    "import matplotlib.pyplot as plt\n",
    "import seaborn as sns\n",
    "from sklearn.decomposition import PCA\n",
    "from sklearn.decomposition import KernelPCA\n",
    "from sklearn.ensemble import RandomForestClassifier\n",
    "from boruta import BorutaPy\n",
    "from sklearn.svm import SVC\n",
    "from sklearn.model_selection import train_test_split\n",
    "import pickle\n",
    "import xgboost as xgb\n",
    "from sklearn.linear_model import LogisticRegression\n",
    "\n",
    "import matplotlib.pyplot as plt\n",
    "from sklearn.inspection import permutation_importance\n",
    "from sklearn.metrics import accuracy_score, f1_score,  confusion_matrix\n"
   ],
   "metadata": {
    "collapsed": false,
    "pycharm": {
     "name": "#%%\n"
    }
   }
  },
  {
   "cell_type": "markdown",
   "source": [
    "# Machine learning, prototyping"
   ],
   "metadata": {
    "collapsed": false
   }
  },
  {
   "cell_type": "markdown",
   "source": [
    "## Granger Causality data"
   ],
   "metadata": {
    "collapsed": false,
    "pycharm": {
     "name": "#%% md\n"
    }
   }
  },
  {
   "cell_type": "code",
   "execution_count": 48,
   "outputs": [],
   "source": [
    "def get_spec_sense(true_y, preds):\n",
    "    \"\"\"\n",
    "    Calculate specificity and sensitivity\n",
    "    true_y: True classes\n",
    "    preds: predicted classes\n",
    "    \"\"\"\n",
    "    # Use sklearn confusion matrixs to get true positive, etc\n",
    "    tn, fp, fn, tp = confusion_matrix(true_y, preds).ravel()\n",
    "    # calculate specificity and sensitivity\n",
    "    specificity = tn / (tn + fp)\n",
    "    sensitivity = tp / (tp + fn)\n",
    "    # output specificity and sensitivity\n",
    "    return specificity, sensitivity"
   ],
   "metadata": {
    "collapsed": false,
    "pycharm": {
     "name": "#%%\n"
    }
   }
  },
  {
   "cell_type": "code",
   "execution_count": 2,
   "outputs": [],
   "source": [
    "gci_df = pd.read_csv('/Users/admin/Documents/MscProject/vectorised/gci_cc200_vectorised.csv.gz', compression='gzip', header=0, sep='\\t')\n"
   ],
   "metadata": {
    "collapsed": false,
    "pycharm": {
     "name": "#%%\n"
    }
   }
  },
  {
   "cell_type": "code",
   "execution_count": 3,
   "outputs": [
    {
     "data": {
      "text/plain": "          0         1         2         3         4         5         6  \\\n0  0.232827  0.310001  0.022694  0.171940  0.201924  1.564648  0.507979   \n1  0.000000  0.000000  0.034329  0.000000  0.000000  0.000000  0.000000   \n2  0.000000  0.211977  0.063180  0.000000  0.000000  0.000000  0.000000   \n3  0.003462  0.176266  0.119884  0.000000  0.000000  0.061226  0.000000   \n4  0.348111  0.137865  0.170946  0.007856  0.477393  0.028955  0.093623   \n\n          7         8        9  ...     39792     39793     39794  39795  \\\n0  0.157911  0.261360  0.02722  ...  0.000000  0.000000  0.365369    0.0   \n1  0.000000  0.000000  0.00000  ...  0.000000  0.000000  0.000000    0.0   \n2  0.000000  0.000000  0.00000  ...  0.300281  0.064557  0.000000    0.0   \n3  0.272025  0.083786  0.00000  ...  0.000000  0.000000  0.000000    0.0   \n4  0.025476  0.086795  0.00000  ...  0.082194  0.000000  0.270727    0.0   \n\n      39796     39797     39798     39799  DX_GROUP  DSM_IV_TR  \n0  0.159129  0.000000  0.000000  0.000000         1          1  \n1  0.000000  0.000000  0.000000  0.000000         1          1  \n2  0.314101  0.000000  0.087941  0.244485         1          1  \n3  0.000000  0.000000  0.130785  0.000000         1          1  \n4  0.139575  0.108761  0.019303  0.329178         1          1  \n\n[5 rows x 39802 columns]",
      "text/html": "<div>\n<style scoped>\n    .dataframe tbody tr th:only-of-type {\n        vertical-align: middle;\n    }\n\n    .dataframe tbody tr th {\n        vertical-align: top;\n    }\n\n    .dataframe thead th {\n        text-align: right;\n    }\n</style>\n<table border=\"1\" class=\"dataframe\">\n  <thead>\n    <tr style=\"text-align: right;\">\n      <th></th>\n      <th>0</th>\n      <th>1</th>\n      <th>2</th>\n      <th>3</th>\n      <th>4</th>\n      <th>5</th>\n      <th>6</th>\n      <th>7</th>\n      <th>8</th>\n      <th>9</th>\n      <th>...</th>\n      <th>39792</th>\n      <th>39793</th>\n      <th>39794</th>\n      <th>39795</th>\n      <th>39796</th>\n      <th>39797</th>\n      <th>39798</th>\n      <th>39799</th>\n      <th>DX_GROUP</th>\n      <th>DSM_IV_TR</th>\n    </tr>\n  </thead>\n  <tbody>\n    <tr>\n      <th>0</th>\n      <td>0.232827</td>\n      <td>0.310001</td>\n      <td>0.022694</td>\n      <td>0.171940</td>\n      <td>0.201924</td>\n      <td>1.564648</td>\n      <td>0.507979</td>\n      <td>0.157911</td>\n      <td>0.261360</td>\n      <td>0.02722</td>\n      <td>...</td>\n      <td>0.000000</td>\n      <td>0.000000</td>\n      <td>0.365369</td>\n      <td>0.0</td>\n      <td>0.159129</td>\n      <td>0.000000</td>\n      <td>0.000000</td>\n      <td>0.000000</td>\n      <td>1</td>\n      <td>1</td>\n    </tr>\n    <tr>\n      <th>1</th>\n      <td>0.000000</td>\n      <td>0.000000</td>\n      <td>0.034329</td>\n      <td>0.000000</td>\n      <td>0.000000</td>\n      <td>0.000000</td>\n      <td>0.000000</td>\n      <td>0.000000</td>\n      <td>0.000000</td>\n      <td>0.00000</td>\n      <td>...</td>\n      <td>0.000000</td>\n      <td>0.000000</td>\n      <td>0.000000</td>\n      <td>0.0</td>\n      <td>0.000000</td>\n      <td>0.000000</td>\n      <td>0.000000</td>\n      <td>0.000000</td>\n      <td>1</td>\n      <td>1</td>\n    </tr>\n    <tr>\n      <th>2</th>\n      <td>0.000000</td>\n      <td>0.211977</td>\n      <td>0.063180</td>\n      <td>0.000000</td>\n      <td>0.000000</td>\n      <td>0.000000</td>\n      <td>0.000000</td>\n      <td>0.000000</td>\n      <td>0.000000</td>\n      <td>0.00000</td>\n      <td>...</td>\n      <td>0.300281</td>\n      <td>0.064557</td>\n      <td>0.000000</td>\n      <td>0.0</td>\n      <td>0.314101</td>\n      <td>0.000000</td>\n      <td>0.087941</td>\n      <td>0.244485</td>\n      <td>1</td>\n      <td>1</td>\n    </tr>\n    <tr>\n      <th>3</th>\n      <td>0.003462</td>\n      <td>0.176266</td>\n      <td>0.119884</td>\n      <td>0.000000</td>\n      <td>0.000000</td>\n      <td>0.061226</td>\n      <td>0.000000</td>\n      <td>0.272025</td>\n      <td>0.083786</td>\n      <td>0.00000</td>\n      <td>...</td>\n      <td>0.000000</td>\n      <td>0.000000</td>\n      <td>0.000000</td>\n      <td>0.0</td>\n      <td>0.000000</td>\n      <td>0.000000</td>\n      <td>0.130785</td>\n      <td>0.000000</td>\n      <td>1</td>\n      <td>1</td>\n    </tr>\n    <tr>\n      <th>4</th>\n      <td>0.348111</td>\n      <td>0.137865</td>\n      <td>0.170946</td>\n      <td>0.007856</td>\n      <td>0.477393</td>\n      <td>0.028955</td>\n      <td>0.093623</td>\n      <td>0.025476</td>\n      <td>0.086795</td>\n      <td>0.00000</td>\n      <td>...</td>\n      <td>0.082194</td>\n      <td>0.000000</td>\n      <td>0.270727</td>\n      <td>0.0</td>\n      <td>0.139575</td>\n      <td>0.108761</td>\n      <td>0.019303</td>\n      <td>0.329178</td>\n      <td>1</td>\n      <td>1</td>\n    </tr>\n  </tbody>\n</table>\n<p>5 rows × 39802 columns</p>\n</div>"
     },
     "execution_count": 3,
     "metadata": {},
     "output_type": "execute_result"
    }
   ],
   "source": [
    "gci_df.head()"
   ],
   "metadata": {
    "collapsed": false,
    "pycharm": {
     "name": "#%%\n"
    }
   }
  },
  {
   "cell_type": "code",
   "execution_count": 4,
   "outputs": [],
   "source": [
    "X = gci_df.iloc[:,:-2].to_numpy()\n",
    "y = gci_df.loc[:,'DX_GROUP']"
   ],
   "metadata": {
    "collapsed": false,
    "pycharm": {
     "name": "#%%\n"
    }
   }
  },
  {
   "cell_type": "code",
   "execution_count": 5,
   "outputs": [
    {
     "name": "stdout",
     "output_type": "stream",
     "text": [
      "Iteration: \t1 / 100\n",
      "Confirmed: \t0\n",
      "Tentative: \t39800\n",
      "Rejected: \t0\n",
      "Iteration: \t2 / 100\n",
      "Confirmed: \t0\n",
      "Tentative: \t39800\n",
      "Rejected: \t0\n",
      "Iteration: \t3 / 100\n",
      "Confirmed: \t0\n",
      "Tentative: \t39800\n",
      "Rejected: \t0\n",
      "Iteration: \t4 / 100\n",
      "Confirmed: \t0\n",
      "Tentative: \t39800\n",
      "Rejected: \t0\n",
      "Iteration: \t5 / 100\n",
      "Confirmed: \t0\n",
      "Tentative: \t39800\n",
      "Rejected: \t0\n",
      "Iteration: \t6 / 100\n",
      "Confirmed: \t0\n",
      "Tentative: \t39800\n",
      "Rejected: \t0\n",
      "Iteration: \t7 / 100\n",
      "Confirmed: \t0\n",
      "Tentative: \t39800\n",
      "Rejected: \t0\n",
      "Iteration: \t8 / 100\n",
      "Confirmed: \t0\n",
      "Tentative: \t4\n",
      "Rejected: \t39796\n",
      "Iteration: \t9 / 100\n",
      "Confirmed: \t0\n",
      "Tentative: \t4\n",
      "Rejected: \t39796\n",
      "Iteration: \t10 / 100\n",
      "Confirmed: \t0\n",
      "Tentative: \t4\n",
      "Rejected: \t39796\n",
      "Iteration: \t11 / 100\n",
      "Confirmed: \t0\n",
      "Tentative: \t4\n",
      "Rejected: \t39796\n",
      "Iteration: \t12 / 100\n",
      "Confirmed: \t0\n",
      "Tentative: \t4\n",
      "Rejected: \t39796\n",
      "Iteration: \t13 / 100\n",
      "Confirmed: \t0\n",
      "Tentative: \t4\n",
      "Rejected: \t39796\n",
      "Iteration: \t14 / 100\n",
      "Confirmed: \t0\n",
      "Tentative: \t4\n",
      "Rejected: \t39796\n",
      "Iteration: \t15 / 100\n",
      "Confirmed: \t0\n",
      "Tentative: \t4\n",
      "Rejected: \t39796\n",
      "Iteration: \t16 / 100\n",
      "Confirmed: \t1\n",
      "Tentative: \t3\n",
      "Rejected: \t39796\n",
      "Iteration: \t17 / 100\n",
      "Confirmed: \t1\n",
      "Tentative: \t3\n",
      "Rejected: \t39796\n",
      "Iteration: \t18 / 100\n",
      "Confirmed: \t1\n",
      "Tentative: \t3\n",
      "Rejected: \t39796\n",
      "Iteration: \t19 / 100\n",
      "Confirmed: \t2\n",
      "Tentative: \t2\n",
      "Rejected: \t39796\n",
      "Iteration: \t20 / 100\n",
      "Confirmed: \t2\n",
      "Tentative: \t2\n",
      "Rejected: \t39796\n",
      "Iteration: \t21 / 100\n",
      "Confirmed: \t2\n",
      "Tentative: \t2\n",
      "Rejected: \t39796\n",
      "Iteration: \t22 / 100\n",
      "Confirmed: \t2\n",
      "Tentative: \t2\n",
      "Rejected: \t39796\n",
      "Iteration: \t23 / 100\n",
      "Confirmed: \t2\n",
      "Tentative: \t2\n",
      "Rejected: \t39796\n",
      "Iteration: \t24 / 100\n",
      "Confirmed: \t2\n",
      "Tentative: \t2\n",
      "Rejected: \t39796\n",
      "Iteration: \t25 / 100\n",
      "Confirmed: \t2\n",
      "Tentative: \t2\n",
      "Rejected: \t39796\n",
      "Iteration: \t26 / 100\n",
      "Confirmed: \t3\n",
      "Tentative: \t1\n",
      "Rejected: \t39796\n",
      "Iteration: \t27 / 100\n",
      "Confirmed: \t3\n",
      "Tentative: \t1\n",
      "Rejected: \t39796\n",
      "Iteration: \t28 / 100\n",
      "Confirmed: \t3\n",
      "Tentative: \t1\n",
      "Rejected: \t39796\n",
      "Iteration: \t29 / 100\n",
      "Confirmed: \t3\n",
      "Tentative: \t1\n",
      "Rejected: \t39796\n",
      "Iteration: \t30 / 100\n",
      "Confirmed: \t3\n",
      "Tentative: \t1\n",
      "Rejected: \t39796\n",
      "Iteration: \t31 / 100\n",
      "Confirmed: \t3\n",
      "Tentative: \t1\n",
      "Rejected: \t39796\n",
      "Iteration: \t32 / 100\n",
      "Confirmed: \t4\n",
      "Tentative: \t0\n",
      "Rejected: \t39796\n",
      "\n",
      "\n",
      "BorutaPy finished running.\n",
      "\n",
      "Iteration: \t33 / 100\n",
      "Confirmed: \t4\n",
      "Tentative: \t0\n",
      "Rejected: \t39796\n"
     ]
    }
   ],
   "source": [
    "rf = RandomForestClassifier(n_jobs=-1, class_weight='balanced', max_depth=2)\n",
    "\n",
    "# define Boruta feature selection method\n",
    "feat_selector = BorutaPy(rf, n_estimators='auto', verbose=2, random_state=1)\n",
    "\n",
    "# find all relevant features - 5 features should be selected\n",
    "feat_selector.fit(X, y)\n",
    "\n",
    "# check selected features - first 5 features are selected\n",
    "feat_selector.support_\n",
    "\n",
    "# check ranking of features\n",
    "feat_selector.ranking_\n",
    "\n",
    "# call transform() on X to filter it down to selected features\n",
    "X_filtered = feat_selector.transform(X)"
   ],
   "metadata": {
    "collapsed": false,
    "pycharm": {
     "name": "#%%\n"
    }
   }
  },
  {
   "cell_type": "markdown",
   "source": [],
   "metadata": {
    "collapsed": false
   }
  },
  {
   "cell_type": "code",
   "execution_count": 8,
   "outputs": [],
   "source": [
    "filtered_df = pd.DataFrame(X_filtered)\n",
    "filtered_df['DX_GROUP'] = gci_df['DX_GROUP']"
   ],
   "metadata": {
    "collapsed": false,
    "pycharm": {
     "name": "#%%\n"
    }
   }
  },
  {
   "cell_type": "code",
   "execution_count": 109,
   "outputs": [
    {
     "data": {
      "text/plain": "             0         1         2         3  DX_GROUP\n0     0.000000  0.000000  0.174199  0.000000         1\n1     0.000000  0.000000  0.000000  0.000000         1\n2     0.000000  0.000000  0.068504  0.000000         1\n3     0.005836  0.238610  0.000000  0.000000         1\n4     0.000000  0.000000  0.115350  0.000000         1\n...        ...       ...       ...       ...       ...\n1021  0.007061  0.544092  0.268287  0.000000         1\n1022  0.184271  0.542669  0.000000  0.084724         1\n1023  0.197216  0.060624  0.346220  0.000000         1\n1024  0.024830  0.013563  0.000000  0.000000         1\n1025  0.000000  0.000000  0.000000  0.636355         1\n\n[1026 rows x 5 columns]",
      "text/html": "<div>\n<style scoped>\n    .dataframe tbody tr th:only-of-type {\n        vertical-align: middle;\n    }\n\n    .dataframe tbody tr th {\n        vertical-align: top;\n    }\n\n    .dataframe thead th {\n        text-align: right;\n    }\n</style>\n<table border=\"1\" class=\"dataframe\">\n  <thead>\n    <tr style=\"text-align: right;\">\n      <th></th>\n      <th>0</th>\n      <th>1</th>\n      <th>2</th>\n      <th>3</th>\n      <th>DX_GROUP</th>\n    </tr>\n  </thead>\n  <tbody>\n    <tr>\n      <th>0</th>\n      <td>0.000000</td>\n      <td>0.000000</td>\n      <td>0.174199</td>\n      <td>0.000000</td>\n      <td>1</td>\n    </tr>\n    <tr>\n      <th>1</th>\n      <td>0.000000</td>\n      <td>0.000000</td>\n      <td>0.000000</td>\n      <td>0.000000</td>\n      <td>1</td>\n    </tr>\n    <tr>\n      <th>2</th>\n      <td>0.000000</td>\n      <td>0.000000</td>\n      <td>0.068504</td>\n      <td>0.000000</td>\n      <td>1</td>\n    </tr>\n    <tr>\n      <th>3</th>\n      <td>0.005836</td>\n      <td>0.238610</td>\n      <td>0.000000</td>\n      <td>0.000000</td>\n      <td>1</td>\n    </tr>\n    <tr>\n      <th>4</th>\n      <td>0.000000</td>\n      <td>0.000000</td>\n      <td>0.115350</td>\n      <td>0.000000</td>\n      <td>1</td>\n    </tr>\n    <tr>\n      <th>...</th>\n      <td>...</td>\n      <td>...</td>\n      <td>...</td>\n      <td>...</td>\n      <td>...</td>\n    </tr>\n    <tr>\n      <th>1021</th>\n      <td>0.007061</td>\n      <td>0.544092</td>\n      <td>0.268287</td>\n      <td>0.000000</td>\n      <td>1</td>\n    </tr>\n    <tr>\n      <th>1022</th>\n      <td>0.184271</td>\n      <td>0.542669</td>\n      <td>0.000000</td>\n      <td>0.084724</td>\n      <td>1</td>\n    </tr>\n    <tr>\n      <th>1023</th>\n      <td>0.197216</td>\n      <td>0.060624</td>\n      <td>0.346220</td>\n      <td>0.000000</td>\n      <td>1</td>\n    </tr>\n    <tr>\n      <th>1024</th>\n      <td>0.024830</td>\n      <td>0.013563</td>\n      <td>0.000000</td>\n      <td>0.000000</td>\n      <td>1</td>\n    </tr>\n    <tr>\n      <th>1025</th>\n      <td>0.000000</td>\n      <td>0.000000</td>\n      <td>0.000000</td>\n      <td>0.636355</td>\n      <td>1</td>\n    </tr>\n  </tbody>\n</table>\n<p>1026 rows × 5 columns</p>\n</div>"
     },
     "execution_count": 109,
     "metadata": {},
     "output_type": "execute_result"
    }
   ],
   "source": [
    "filtered_df"
   ],
   "metadata": {
    "collapsed": false,
    "pycharm": {
     "name": "#%%\n"
    }
   }
  },
  {
   "cell_type": "code",
   "execution_count": 9,
   "outputs": [],
   "source": [
    "filtered_df.to_csv('/Users/admin/Documents/MscProject/vectorised/gci_cc200_filtered.csv', index=False)"
   ],
   "metadata": {
    "collapsed": false,
    "pycharm": {
     "name": "#%%\n"
    }
   }
  },
  {
   "cell_type": "code",
   "execution_count": 21,
   "outputs": [],
   "source": [
    "svm = SVC(kernel='rbf')\n",
    "boost = xgb.XGBClassifier()\n",
    "lr = LogisticRegression()"
   ],
   "metadata": {
    "collapsed": false,
    "pycharm": {
     "name": "#%%\n"
    }
   }
  },
  {
   "cell_type": "code",
   "execution_count": 49,
   "outputs": [],
   "source": [
    "cv = StratifiedShuffleSplit(n_splits=10, random_state=0, test_size=0.2)\n",
    "scores_svm = []\n",
    "f1_svm = []\n",
    "spec_svm = []\n",
    "sense_svm = []\n",
    "for train, test in cv.split(X_filtered, y):\n",
    "    # *ConnectivityMeasure* can output the estimated subjects coefficients\n",
    "    # as a 1D arrays through the parameter *vectorize*.\n",
    "\n",
    "    classifier = SVC(kernel='rbf').fit(X_filtered[train], y[train])\n",
    "    # make predictions for the left-out test subjects\n",
    "    predictions = classifier.predict(X_filtered[test])\n",
    "    # store the accuracy for this cross-validation fold\n",
    "    score = accuracy_score(y[test], predictions)\n",
    "    f1 = f1_score(y[test], predictions)\n",
    "    spec, sense = get_spec_sense(y[test], predictions)\n",
    "\n",
    "    scores_svm.append(score)\n",
    "    f1_svm.append(f1)\n",
    "    spec_svm.append(spec)\n",
    "    sense_svm.append(sense)"
   ],
   "metadata": {
    "collapsed": false,
    "pycharm": {
     "name": "#%%\n"
    }
   }
  },
  {
   "cell_type": "code",
   "execution_count": 75,
   "outputs": [],
   "source": [
    "scores_boost = []\n",
    "f1_boost = []\n",
    "spec_boost = []\n",
    "sense_boost = []\n",
    "for train, test in cv.split(X_filtered, y):\n",
    "    # *ConnectivityMeasure* can output the estimated subjects coefficients\n",
    "    # as a 1D arrays through the parameter *vectorize*.\n",
    "\n",
    "    classifier = boost.fit(X_filtered[train], y[train])\n",
    "    # make predictions for the left-out test subjects\n",
    "    predictions = classifier.predict(X_filtered[test])\n",
    "    # store the accuracy for this cross-validation fold\n",
    "    score = accuracy_score(y[test], predictions)\n",
    "    f1 = f1_score(y[test], predictions)\n",
    "    spec, sense = get_spec_sense(y[test], predictions)\n",
    "\n",
    "    scores_boost.append(score)\n",
    "    f1_boost.append(f1)\n",
    "    spec_boost.append(spec)\n",
    "    sense_boost.append(sense)\n"
   ],
   "metadata": {
    "collapsed": false,
    "pycharm": {
     "name": "#%%\n"
    }
   }
  },
  {
   "cell_type": "code",
   "execution_count": 76,
   "outputs": [],
   "source": [
    "scores_lr = []\n",
    "f1_lr = []\n",
    "spec_lr = []\n",
    "sense_lr = []\n",
    "for train, test in cv.split(X_filtered, y):\n",
    "    # *ConnectivityMeasure* can output the estimated subjects coefficients\n",
    "    # as a 1D arrays through the parameter *vectorize*.\n",
    "\n",
    "    classifier = lr.fit(X_filtered[train], y[train])\n",
    "    # make predictions for the left-out test subjects\n",
    "    predictions = classifier.predict(X_filtered[test])\n",
    "    # store the accuracy for this cross-validation fold\n",
    "    score = accuracy_score(y[test], predictions)\n",
    "    f1 = f1_score(y[test], predictions)\n",
    "    spec, sense = get_spec_sense(y[test], predictions)\n",
    "\n",
    "    scores_lr.append(score)\n",
    "    f1_lr.append(f1)\n",
    "    spec_lr.append(spec)\n",
    "    sense_lr.append(sense)"
   ],
   "metadata": {
    "collapsed": false,
    "pycharm": {
     "name": "#%%\n"
    }
   }
  },
  {
   "cell_type": "code",
   "execution_count": 56,
   "outputs": [
    {
     "data": {
      "text/plain": "(55.9223, 3.2039)"
     },
     "execution_count": 56,
     "metadata": {},
     "output_type": "execute_result"
    }
   ],
   "source": [
    "np.round(np.mean(scores_svm) *100, 4), np.round(np.std(scores_svm)*100,4)"
   ],
   "metadata": {
    "collapsed": false,
    "pycharm": {
     "name": "#%%\n"
    }
   }
  },
  {
   "cell_type": "code",
   "execution_count": 53,
   "outputs": [
    {
     "data": {
      "text/plain": "(0.5316, 0.027)"
     },
     "execution_count": 53,
     "metadata": {},
     "output_type": "execute_result"
    }
   ],
   "source": [
    "np.round(np.mean(scores_boost), 4), np.round(np.std(scores_boost),4)"
   ],
   "metadata": {
    "collapsed": false,
    "pycharm": {
     "name": "#%%\n"
    }
   }
  },
  {
   "cell_type": "code",
   "execution_count": 54,
   "outputs": [
    {
     "data": {
      "text/plain": "(0.5684, 0.031)"
     },
     "execution_count": 54,
     "metadata": {},
     "output_type": "execute_result"
    }
   ],
   "source": [
    "np.round(np.mean(scores_lr), 4), np.round(np.std(scores_lr),4)"
   ],
   "metadata": {
    "collapsed": false,
    "pycharm": {
     "name": "#%%\n"
    }
   }
  },
  {
   "cell_type": "code",
   "execution_count": 84,
   "outputs": [],
   "source": [
    "def get_avg_std(metric):\n",
    "    return np.round(np.mean(metric) *100, 2), np.round(np.std(metric)*100,2)"
   ],
   "metadata": {
    "collapsed": false,
    "pycharm": {
     "name": "#%%\n"
    }
   }
  },
  {
   "cell_type": "code",
   "execution_count": 85,
   "outputs": [],
   "source": [
    "def get_all(acc, sensitivity, specificity, f1_s):\n",
    "    return {'Accuracy' : get_avg_std(acc), 'Sensitivty': get_avg_std(sensitivity), 'Specifitcy': get_avg_std(specificity), 'F1': get_avg_std(f1_s)}"
   ],
   "metadata": {
    "collapsed": false,
    "pycharm": {
     "name": "#%%\n"
    }
   }
  },
  {
   "cell_type": "code",
   "execution_count": 85,
   "outputs": [],
   "source": [],
   "metadata": {
    "collapsed": false,
    "pycharm": {
     "name": "#%%\n"
    }
   }
  },
  {
   "cell_type": "code",
   "execution_count": 86,
   "outputs": [
    {
     "data": {
      "text/plain": "{'Accuracy': (53.16, 2.7),\n 'Sensitivty': (50.71, 3.37),\n 'Specifitcy': (55.42, 4.4),\n 'F1': (50.97, 2.76)}"
     },
     "execution_count": 86,
     "metadata": {},
     "output_type": "execute_result"
    }
   ],
   "source": [
    "get_all(scores_boost,sense_boost,spec_boost,f1_boost)"
   ],
   "metadata": {
    "collapsed": false,
    "pycharm": {
     "name": "#%%\n"
    }
   }
  },
  {
   "cell_type": "code",
   "execution_count": 87,
   "outputs": [
    {
     "data": {
      "text/plain": "{'Accuracy': (56.84, 3.1),\n 'Sensitivty': (30.3, 5.27),\n 'Specifitcy': (81.4, 3.14),\n 'F1': (40.12, 5.73)}"
     },
     "execution_count": 87,
     "metadata": {},
     "output_type": "execute_result"
    }
   ],
   "source": [
    "get_all(scores_lr,sense_lr,spec_lr,f1_lr)"
   ],
   "metadata": {
    "collapsed": false,
    "pycharm": {
     "name": "#%%\n"
    }
   }
  },
  {
   "cell_type": "markdown",
   "source": [
    "## Large scale granger causality, machine learning"
   ],
   "metadata": {
    "collapsed": false
   }
  },
  {
   "cell_type": "code",
   "execution_count": 90,
   "outputs": [],
   "source": [
    "lsgci_df = pd.read_csv('/Users/admin/Documents/MscProject/vectorised/gci_cc200_vectorised.csv.gz', compression='gzip', header=0, sep='\\t')\n"
   ],
   "metadata": {
    "collapsed": false,
    "pycharm": {
     "name": "#%%\n"
    }
   }
  },
  {
   "cell_type": "code",
   "execution_count": 108,
   "outputs": [
    {
     "data": {
      "text/plain": "(1026, 39802)"
     },
     "execution_count": 108,
     "metadata": {},
     "output_type": "execute_result"
    }
   ],
   "source": [
    "lsgci_df.shape"
   ],
   "metadata": {
    "collapsed": false,
    "pycharm": {
     "name": "#%%\n"
    }
   }
  },
  {
   "cell_type": "code",
   "execution_count": 97,
   "outputs": [],
   "source": [
    "X = lsgci_df.iloc[:,:-2].to_numpy()\n",
    "y = lsgci_df.loc[:,'DX_GROUP']"
   ],
   "metadata": {
    "collapsed": false,
    "pycharm": {
     "name": "#%%\n"
    }
   }
  },
  {
   "cell_type": "code",
   "execution_count": 93,
   "outputs": [
    {
     "name": "stdout",
     "output_type": "stream",
     "text": [
      "Iteration: \t1 / 100\n",
      "Confirmed: \t0\n",
      "Tentative: \t39800\n",
      "Rejected: \t0\n",
      "Iteration: \t2 / 100\n",
      "Confirmed: \t0\n",
      "Tentative: \t39800\n",
      "Rejected: \t0\n",
      "Iteration: \t3 / 100\n",
      "Confirmed: \t0\n",
      "Tentative: \t39800\n",
      "Rejected: \t0\n",
      "Iteration: \t4 / 100\n",
      "Confirmed: \t0\n",
      "Tentative: \t39800\n",
      "Rejected: \t0\n",
      "Iteration: \t5 / 100\n",
      "Confirmed: \t0\n",
      "Tentative: \t39800\n",
      "Rejected: \t0\n",
      "Iteration: \t6 / 100\n",
      "Confirmed: \t0\n",
      "Tentative: \t39800\n",
      "Rejected: \t0\n",
      "Iteration: \t7 / 100\n",
      "Confirmed: \t0\n",
      "Tentative: \t39800\n",
      "Rejected: \t0\n",
      "Iteration: \t8 / 100\n",
      "Confirmed: \t0\n",
      "Tentative: \t2\n",
      "Rejected: \t39798\n",
      "Iteration: \t9 / 100\n",
      "Confirmed: \t0\n",
      "Tentative: \t2\n",
      "Rejected: \t39798\n",
      "Iteration: \t10 / 100\n",
      "Confirmed: \t0\n",
      "Tentative: \t2\n",
      "Rejected: \t39798\n",
      "Iteration: \t11 / 100\n",
      "Confirmed: \t0\n",
      "Tentative: \t2\n",
      "Rejected: \t39798\n",
      "Iteration: \t12 / 100\n",
      "Confirmed: \t0\n",
      "Tentative: \t2\n",
      "Rejected: \t39798\n",
      "Iteration: \t13 / 100\n",
      "Confirmed: \t0\n",
      "Tentative: \t2\n",
      "Rejected: \t39798\n",
      "Iteration: \t14 / 100\n",
      "Confirmed: \t0\n",
      "Tentative: \t2\n",
      "Rejected: \t39798\n",
      "Iteration: \t15 / 100\n",
      "Confirmed: \t0\n",
      "Tentative: \t2\n",
      "Rejected: \t39798\n",
      "Iteration: \t16 / 100\n",
      "Confirmed: \t0\n",
      "Tentative: \t2\n",
      "Rejected: \t39798\n",
      "Iteration: \t17 / 100\n",
      "Confirmed: \t0\n",
      "Tentative: \t2\n",
      "Rejected: \t39798\n",
      "Iteration: \t18 / 100\n",
      "Confirmed: \t0\n",
      "Tentative: \t2\n",
      "Rejected: \t39798\n",
      "Iteration: \t19 / 100\n",
      "Confirmed: \t0\n",
      "Tentative: \t2\n",
      "Rejected: \t39798\n",
      "Iteration: \t20 / 100\n",
      "Confirmed: \t0\n",
      "Tentative: \t2\n",
      "Rejected: \t39798\n",
      "Iteration: \t21 / 100\n",
      "Confirmed: \t0\n",
      "Tentative: \t2\n",
      "Rejected: \t39798\n",
      "Iteration: \t22 / 100\n",
      "Confirmed: \t0\n",
      "Tentative: \t2\n",
      "Rejected: \t39798\n",
      "Iteration: \t23 / 100\n",
      "Confirmed: \t0\n",
      "Tentative: \t2\n",
      "Rejected: \t39798\n",
      "Iteration: \t24 / 100\n",
      "Confirmed: \t0\n",
      "Tentative: \t2\n",
      "Rejected: \t39798\n",
      "Iteration: \t25 / 100\n",
      "Confirmed: \t0\n",
      "Tentative: \t2\n",
      "Rejected: \t39798\n",
      "Iteration: \t26 / 100\n",
      "Confirmed: \t0\n",
      "Tentative: \t2\n",
      "Rejected: \t39798\n",
      "Iteration: \t27 / 100\n",
      "Confirmed: \t0\n",
      "Tentative: \t2\n",
      "Rejected: \t39798\n",
      "Iteration: \t28 / 100\n",
      "Confirmed: \t0\n",
      "Tentative: \t2\n",
      "Rejected: \t39798\n",
      "Iteration: \t29 / 100\n",
      "Confirmed: \t1\n",
      "Tentative: \t1\n",
      "Rejected: \t39798\n",
      "Iteration: \t30 / 100\n",
      "Confirmed: \t1\n",
      "Tentative: \t1\n",
      "Rejected: \t39798\n",
      "Iteration: \t31 / 100\n",
      "Confirmed: \t1\n",
      "Tentative: \t1\n",
      "Rejected: \t39798\n",
      "Iteration: \t32 / 100\n",
      "Confirmed: \t2\n",
      "Tentative: \t0\n",
      "Rejected: \t39798\n",
      "\n",
      "\n",
      "BorutaPy finished running.\n",
      "\n",
      "Iteration: \t33 / 100\n",
      "Confirmed: \t2\n",
      "Tentative: \t0\n",
      "Rejected: \t39798\n"
     ]
    }
   ],
   "source": [
    "rf = RandomForestClassifier(n_jobs=-1, class_weight='balanced', max_depth=2)\n",
    "\n",
    "# define Boruta feature selection method\n",
    "feat_selector = BorutaPy(rf, n_estimators='auto', verbose=2, random_state=1)\n",
    "\n",
    "# find all relevant features - 5 features should be selected\n",
    "feat_selector.fit(X, y)\n",
    "\n",
    "# check selected features - first 5 features are selected\n",
    "feat_selector.support_\n",
    "\n",
    "# check ranking of features\n",
    "feat_selector.ranking_\n",
    "\n",
    "# call transform() on X to filter it down to selected features\n",
    "lsgciX_filtered = feat_selector.transform(X)"
   ],
   "metadata": {
    "collapsed": false,
    "pycharm": {
     "name": "#%%\n"
    }
   }
  },
  {
   "cell_type": "markdown",
   "source": [],
   "metadata": {
    "collapsed": false
   }
  },
  {
   "cell_type": "code",
   "execution_count": 94,
   "outputs": [
    {
     "data": {
      "text/plain": "array([[0.        , 0.02042338],\n       [0.00183179, 0.        ],\n       [0.0064784 , 0.03929353],\n       ...,\n       [0.        , 0.        ],\n       [0.        , 0.        ],\n       [0.        , 0.        ]])"
     },
     "execution_count": 94,
     "metadata": {},
     "output_type": "execute_result"
    }
   ],
   "source": [
    "lsgciX_filtered"
   ],
   "metadata": {
    "collapsed": false,
    "pycharm": {
     "name": "#%%\n"
    }
   }
  },
  {
   "cell_type": "code",
   "execution_count": 98,
   "outputs": [],
   "source": [
    "lsgci_df_F = pd.DataFrame(lsgciX_filtered)\n",
    "lsgci_df_F['DX_GROUP'] = lsgci_df['DX_GROUP']"
   ],
   "metadata": {
    "collapsed": false,
    "pycharm": {
     "name": "#%%\n"
    }
   }
  },
  {
   "cell_type": "code",
   "execution_count": 99,
   "outputs": [],
   "source": [
    "lsgci_df_F.to_csv('/Users/admin/Documents/MscProject/vectorised/gci_ls_cc200_filtered.csv', index=False)"
   ],
   "metadata": {
    "collapsed": false,
    "pycharm": {
     "name": "#%%\n"
    }
   }
  },
  {
   "cell_type": "code",
   "execution_count": 100,
   "outputs": [],
   "source": [
    "svm = SVC(kernel='rbf')\n",
    "boost = xgb.XGBClassifier()\n",
    "lr = LogisticRegression()"
   ],
   "metadata": {
    "collapsed": false,
    "pycharm": {
     "name": "#%%\n"
    }
   }
  },
  {
   "cell_type": "code",
   "execution_count": 101,
   "outputs": [],
   "source": [
    "cv = StratifiedShuffleSplit(n_splits=10, random_state=0, test_size=0.2)\n",
    "scores_svm = []\n",
    "f1_svm = []\n",
    "spec_svm = []\n",
    "sense_svm = []\n",
    "for train, test in cv.split(lsgciX_filtered, y):\n",
    "    # *ConnectivityMeasure* can output the estimated subjects coefficients\n",
    "    # as a 1D arrays through the parameter *vectorize*.\n",
    "\n",
    "    classifier = SVC(kernel='rbf').fit(lsgciX_filtered[train], y[train])\n",
    "    # make predictions for the left-out test subjects\n",
    "    predictions = classifier.predict(lsgciX_filtered[test])\n",
    "    # store the accuracy for this cross-validation fold\n",
    "    score = accuracy_score(y[test], predictions)\n",
    "    f1 = f1_score(y[test], predictions)\n",
    "    spec, sense = get_spec_sense(y[test], predictions)\n",
    "\n",
    "    scores_svm.append(score)\n",
    "    f1_svm.append(f1)\n",
    "    spec_svm.append(spec)\n",
    "    sense_svm.append(sense)"
   ],
   "metadata": {
    "collapsed": false,
    "pycharm": {
     "name": "#%%\n"
    }
   }
  },
  {
   "cell_type": "code",
   "execution_count": 102,
   "outputs": [],
   "source": [
    "scores_boost = []\n",
    "f1_boost = []\n",
    "spec_boost = []\n",
    "sense_boost = []\n",
    "for train, test in cv.split(lsgciX_filtered, y):\n",
    "    # *ConnectivityMeasure* can output the estimated subjects coefficients\n",
    "    # as a 1D arrays through the parameter *vectorize*.\n",
    "\n",
    "    classifier = boost.fit(lsgciX_filtered[train], y[train])\n",
    "    # make predictions for the left-out test subjects\n",
    "    predictions = classifier.predict(lsgciX_filtered[test])\n",
    "    # store the accuracy for this cross-validation fold\n",
    "    score = accuracy_score(y[test], predictions)\n",
    "    f1 = f1_score(y[test], predictions)\n",
    "    spec, sense = get_spec_sense(y[test], predictions)\n",
    "\n",
    "    scores_boost.append(score)\n",
    "    f1_boost.append(f1)\n",
    "    spec_boost.append(spec)\n",
    "    sense_boost.append(sense)\n"
   ],
   "metadata": {
    "collapsed": false,
    "pycharm": {
     "name": "#%%\n"
    }
   }
  },
  {
   "cell_type": "code",
   "execution_count": 103,
   "outputs": [],
   "source": [
    "scores_lr = []\n",
    "f1_lr = []\n",
    "spec_lr = []\n",
    "sense_lr = []\n",
    "for train, test in cv.split(lsgciX_filtered, y):\n",
    "    # *ConnectivityMeasure* can output the estimated subjects coefficients\n",
    "    # as a 1D arrays through the parameter *vectorize*.\n",
    "\n",
    "    classifier = lr.fit(lsgciX_filtered[train], y[train])\n",
    "    # make predictions for the left-out test subjects\n",
    "    predictions = classifier.predict(lsgciX_filtered[test])\n",
    "    # store the accuracy for this cross-validation fold\n",
    "    score = accuracy_score(y[test], predictions)\n",
    "    f1 = f1_score(y[test], predictions)\n",
    "    spec, sense = get_spec_sense(y[test], predictions)\n",
    "\n",
    "    scores_lr.append(score)\n",
    "    f1_lr.append(f1)\n",
    "    spec_lr.append(spec)\n",
    "    sense_lr.append(sense)"
   ],
   "metadata": {
    "collapsed": false,
    "pycharm": {
     "name": "#%%\n"
    }
   }
  },
  {
   "cell_type": "code",
   "execution_count": 104,
   "outputs": [
    {
     "data": {
      "text/plain": "{'Accuracy': (55.87, 3.25),\n 'Sensitivty': (34.34, 5.51),\n 'Specifitcy': (75.79, 4.15),\n 'F1': (42.62, 5.6)}"
     },
     "execution_count": 104,
     "metadata": {},
     "output_type": "execute_result"
    }
   ],
   "source": [
    "get_all(scores_svm,sense_svm,spec_svm,f1_svm)"
   ],
   "metadata": {
    "collapsed": false,
    "pycharm": {
     "name": "#%%\n"
    }
   }
  },
  {
   "cell_type": "code",
   "execution_count": 105,
   "outputs": [
    {
     "data": {
      "text/plain": "{'Accuracy': (55.0, 2.99),\n 'Sensitivty': (41.82, 3.68),\n 'Specifitcy': (67.2, 5.65),\n 'F1': (47.15, 3.22)}"
     },
     "execution_count": 105,
     "metadata": {},
     "output_type": "execute_result"
    }
   ],
   "source": [
    "get_all(scores_boost,sense_boost,spec_boost,f1_boost)"
   ],
   "metadata": {
    "collapsed": false,
    "pycharm": {
     "name": "#%%\n"
    }
   }
  },
  {
   "cell_type": "code",
   "execution_count": 106,
   "outputs": [
    {
     "data": {
      "text/plain": "{'Accuracy': (51.94, 0.0),\n 'Sensitivty': (0.0, 0.0),\n 'Specifitcy': (100.0, 0.0),\n 'F1': (0.0, 0.0)}"
     },
     "execution_count": 106,
     "metadata": {},
     "output_type": "execute_result"
    }
   ],
   "source": [
    "get_all(s,sense_lr,spec_lr,f1_lr)"
   ],
   "metadata": {
    "collapsed": false,
    "pycharm": {
     "name": "#%%\n"
    }
   }
  },
  {
   "cell_type": "code",
   "execution_count": null,
   "outputs": [],
   "source": [],
   "metadata": {
    "collapsed": false,
    "pycharm": {
     "name": "#%%\n"
    }
   }
  },
  {
   "cell_type": "markdown",
   "source": [
    "## FC machine"
   ],
   "metadata": {
    "collapsed": false
   }
  },
  {
   "cell_type": "code",
   "execution_count": 111,
   "outputs": [],
   "source": [
    "fc_df = pd.read_csv('/Users/admin/Documents/MscProject/vectorised/fc_cc200_vectorised.csv.gz', compression='gzip', header=0, sep='\\t')"
   ],
   "metadata": {
    "collapsed": false,
    "pycharm": {
     "name": "#%%\n"
    }
   }
  },
  {
   "cell_type": "code",
   "execution_count": 112,
   "outputs": [
    {
     "data": {
      "text/plain": "      #1-#2     #1-#3     #1-#4     #1-#5     #1-#6     #1-#7     #1-#8  \\\n0 -0.318127 -0.069796 -0.036556 -0.163779  0.154582 -0.468522  0.149931   \n1  0.248915  0.138000 -0.209563 -0.142492 -0.541118 -0.220420 -0.038429   \n2  0.138845  0.060143 -0.074200 -0.062667  0.065521  0.034017 -0.131597   \n3 -0.255444  0.107162 -0.054165  0.085518 -0.007979 -0.277307 -0.052372   \n4 -0.377935 -0.060415 -0.005243 -0.431189 -0.117298 -0.135625  0.153580   \n\n      #1-#9    #1-#10    #1-#11  ...  #196-#199  #196-#200  #197-#198  \\\n0  0.085749 -0.091261 -0.097561  ...   0.288202   0.346534   0.169769   \n1 -0.579570 -0.276240  0.080674  ...  -0.217907   0.152274  -0.022263   \n2 -0.272950 -0.267307  0.056912  ...  -0.101845   0.258160  -0.350446   \n3  0.300137  0.187776 -0.014143  ...   0.214707   0.010837  -0.220701   \n4  0.104868  0.151153 -0.198125  ...  -0.051302  -0.137138  -0.207220   \n\n   #197-#199  #197-#200  #198-#199  #198-#200  #199-#200  DX_GROUP  DSM_IV_TR  \n0   0.402399   0.235802   0.328523   0.022539   0.275308         1          1  \n1   0.387047   0.030468   0.100718   0.109483  -0.272489         1          1  \n2   0.157305  -0.163685  -0.071646   0.114257  -0.299283         1          1  \n3   0.121951   0.140008  -0.150833   0.227749  -0.012394         1          1  \n4  -0.160206  -0.037513   0.401884   0.275285  -0.304601         1          1  \n\n[5 rows x 19902 columns]",
      "text/html": "<div>\n<style scoped>\n    .dataframe tbody tr th:only-of-type {\n        vertical-align: middle;\n    }\n\n    .dataframe tbody tr th {\n        vertical-align: top;\n    }\n\n    .dataframe thead th {\n        text-align: right;\n    }\n</style>\n<table border=\"1\" class=\"dataframe\">\n  <thead>\n    <tr style=\"text-align: right;\">\n      <th></th>\n      <th>#1-#2</th>\n      <th>#1-#3</th>\n      <th>#1-#4</th>\n      <th>#1-#5</th>\n      <th>#1-#6</th>\n      <th>#1-#7</th>\n      <th>#1-#8</th>\n      <th>#1-#9</th>\n      <th>#1-#10</th>\n      <th>#1-#11</th>\n      <th>...</th>\n      <th>#196-#199</th>\n      <th>#196-#200</th>\n      <th>#197-#198</th>\n      <th>#197-#199</th>\n      <th>#197-#200</th>\n      <th>#198-#199</th>\n      <th>#198-#200</th>\n      <th>#199-#200</th>\n      <th>DX_GROUP</th>\n      <th>DSM_IV_TR</th>\n    </tr>\n  </thead>\n  <tbody>\n    <tr>\n      <th>0</th>\n      <td>-0.318127</td>\n      <td>-0.069796</td>\n      <td>-0.036556</td>\n      <td>-0.163779</td>\n      <td>0.154582</td>\n      <td>-0.468522</td>\n      <td>0.149931</td>\n      <td>0.085749</td>\n      <td>-0.091261</td>\n      <td>-0.097561</td>\n      <td>...</td>\n      <td>0.288202</td>\n      <td>0.346534</td>\n      <td>0.169769</td>\n      <td>0.402399</td>\n      <td>0.235802</td>\n      <td>0.328523</td>\n      <td>0.022539</td>\n      <td>0.275308</td>\n      <td>1</td>\n      <td>1</td>\n    </tr>\n    <tr>\n      <th>1</th>\n      <td>0.248915</td>\n      <td>0.138000</td>\n      <td>-0.209563</td>\n      <td>-0.142492</td>\n      <td>-0.541118</td>\n      <td>-0.220420</td>\n      <td>-0.038429</td>\n      <td>-0.579570</td>\n      <td>-0.276240</td>\n      <td>0.080674</td>\n      <td>...</td>\n      <td>-0.217907</td>\n      <td>0.152274</td>\n      <td>-0.022263</td>\n      <td>0.387047</td>\n      <td>0.030468</td>\n      <td>0.100718</td>\n      <td>0.109483</td>\n      <td>-0.272489</td>\n      <td>1</td>\n      <td>1</td>\n    </tr>\n    <tr>\n      <th>2</th>\n      <td>0.138845</td>\n      <td>0.060143</td>\n      <td>-0.074200</td>\n      <td>-0.062667</td>\n      <td>0.065521</td>\n      <td>0.034017</td>\n      <td>-0.131597</td>\n      <td>-0.272950</td>\n      <td>-0.267307</td>\n      <td>0.056912</td>\n      <td>...</td>\n      <td>-0.101845</td>\n      <td>0.258160</td>\n      <td>-0.350446</td>\n      <td>0.157305</td>\n      <td>-0.163685</td>\n      <td>-0.071646</td>\n      <td>0.114257</td>\n      <td>-0.299283</td>\n      <td>1</td>\n      <td>1</td>\n    </tr>\n    <tr>\n      <th>3</th>\n      <td>-0.255444</td>\n      <td>0.107162</td>\n      <td>-0.054165</td>\n      <td>0.085518</td>\n      <td>-0.007979</td>\n      <td>-0.277307</td>\n      <td>-0.052372</td>\n      <td>0.300137</td>\n      <td>0.187776</td>\n      <td>-0.014143</td>\n      <td>...</td>\n      <td>0.214707</td>\n      <td>0.010837</td>\n      <td>-0.220701</td>\n      <td>0.121951</td>\n      <td>0.140008</td>\n      <td>-0.150833</td>\n      <td>0.227749</td>\n      <td>-0.012394</td>\n      <td>1</td>\n      <td>1</td>\n    </tr>\n    <tr>\n      <th>4</th>\n      <td>-0.377935</td>\n      <td>-0.060415</td>\n      <td>-0.005243</td>\n      <td>-0.431189</td>\n      <td>-0.117298</td>\n      <td>-0.135625</td>\n      <td>0.153580</td>\n      <td>0.104868</td>\n      <td>0.151153</td>\n      <td>-0.198125</td>\n      <td>...</td>\n      <td>-0.051302</td>\n      <td>-0.137138</td>\n      <td>-0.207220</td>\n      <td>-0.160206</td>\n      <td>-0.037513</td>\n      <td>0.401884</td>\n      <td>0.275285</td>\n      <td>-0.304601</td>\n      <td>1</td>\n      <td>1</td>\n    </tr>\n  </tbody>\n</table>\n<p>5 rows × 19902 columns</p>\n</div>"
     },
     "execution_count": 112,
     "metadata": {},
     "output_type": "execute_result"
    }
   ],
   "source": [
    "fc_df.head()"
   ],
   "metadata": {
    "collapsed": false,
    "pycharm": {
     "name": "#%%\n"
    }
   }
  },
  {
   "cell_type": "code",
   "execution_count": 113,
   "outputs": [],
   "source": [
    "X = fc_df.iloc[:,:-2].to_numpy()\n",
    "y = fc_df.loc[:,'DX_GROUP']"
   ],
   "metadata": {
    "collapsed": false,
    "pycharm": {
     "name": "#%%\n"
    }
   }
  },
  {
   "cell_type": "code",
   "execution_count": null,
   "outputs": [],
   "source": [
    "rf = RandomForestClassifier(n_jobs=-1, class_weight='balanced', max_depth=5)\n",
    "\n",
    "# define Boruta feature selection method\n",
    "feat_selector = BorutaPy(rf, n_estimators='auto', verbose=0, random_state=1)\n",
    "\n",
    "# find all relevant features \n",
    "feat_selector.fit(X, y)\n",
    "\n",
    "\n",
    "# call transform() on X to filter it down to selected features\n",
    "X_filtered = feat_selector.transform(X)"
   ],
   "metadata": {
    "collapsed": false,
    "pycharm": {
     "name": "#%%\n"
    }
   }
  },
  {
   "cell_type": "code",
   "execution_count": null,
   "outputs": [],
   "source": [
    "support = feat_selector.support_ # 1D boolean mask to be applied to feature list gives list of selected features\n"
   ],
   "metadata": {
    "collapsed": false,
    "pycharm": {
     "name": "#%%\n"
    }
   }
  },
  {
   "cell_type": "code",
   "execution_count": null,
   "outputs": [],
   "source": [
    "selected = fc_df.columns[:-2][support]# selected features\n",
    "selected = np.r_[selected, ['DX_GROUP','DSM_IV_TR']] # add target column names to list"
   ],
   "metadata": {
    "collapsed": false,
    "pycharm": {
     "name": "#%%\n"
    }
   }
  },
  {
   "cell_type": "code",
   "execution_count": null,
   "outputs": [],
   "source": [
    "X_filtered = fc_df[selected] # filter out selected columns and store "
   ],
   "metadata": {
    "collapsed": false,
    "pycharm": {
     "name": "#%%\n"
    }
   }
  },
  {
   "cell_type": "code",
   "execution_count": null,
   "outputs": [],
   "source": [
    "X_filtered.to_csv('vectorised/cc200_filtered.csv',index=False) # store as csv"
   ],
   "metadata": {
    "collapsed": false,
    "pycharm": {
     "name": "#%%\n"
    }
   }
  },
  {
   "cell_type": "code",
   "execution_count": null,
   "outputs": [],
   "source": [
    "X = X_filtered.iloc[:,:-2].to_numpy()\n",
    "y = X_filtered.loc[:,'DX_GROUP']"
   ],
   "metadata": {
    "collapsed": false,
    "pycharm": {
     "name": "#%%\n"
    }
   }
  },
  {
   "cell_type": "code",
   "execution_count": null,
   "outputs": [],
   "source": [
    "X_filtered.head()"
   ],
   "metadata": {
    "collapsed": false,
    "pycharm": {
     "name": "#%%\n"
    }
   }
  },
  {
   "cell_type": "code",
   "execution_count": 114,
   "outputs": [],
   "source": [
    "cv = StratifiedShuffleSplit(n_splits=10, random_state=0, test_size=0.2)\n",
    "scores = []\n",
    "for train, test in cv.split(X, y):\n",
    "        # \n",
    "\n",
    "    rf = xgb.XGBClassifier().fit(X[train], y[train])\n",
    "        # \n",
    "    predictions = rf.predict(X[test])\n",
    "        # \n",
    "    score= accuracy_score(y[test], predictions)\n",
    "    scores.append(score)"
   ],
   "metadata": {
    "collapsed": false,
    "pycharm": {
     "name": "#%%\n"
    }
   }
  },
  {
   "cell_type": "code",
   "execution_count": 115,
   "outputs": [
    {
     "data": {
      "text/plain": "0.6699029126213593"
     },
     "execution_count": 115,
     "metadata": {},
     "output_type": "execute_result"
    }
   ],
   "source": [
    "np.mean(scores)"
   ],
   "metadata": {
    "collapsed": false,
    "pycharm": {
     "name": "#%%\n"
    }
   }
  },
  {
   "cell_type": "code",
   "execution_count": 116,
   "outputs": [
    {
     "data": {
      "text/plain": "[0.6650485436893204,\n 0.6990291262135923,\n 0.6844660194174758,\n 0.6456310679611651,\n 0.7087378640776699,\n 0.6844660194174758,\n 0.6650485436893204,\n 0.6553398058252428,\n 0.6650485436893204,\n 0.6262135922330098]"
     },
     "execution_count": 116,
     "metadata": {},
     "output_type": "execute_result"
    }
   ],
   "source": [
    "scores"
   ],
   "metadata": {
    "collapsed": false,
    "pycharm": {
     "name": "#%%\n"
    }
   }
  },
  {
   "cell_type": "code",
   "execution_count": 670,
   "outputs": [
    {
     "ename": "KeyError",
     "evalue": "\"None of [Int64Index([226, 349, 666, 568, 563, 254, 586, 148, 799,  94,\\n            ...\\n            471, 613, 519, 439, 811, 305, 612,  95, 647, 689],\\n           dtype='int64', length=759)] are in the [columns]\"",
     "output_type": "error",
     "traceback": [
      "\u001B[0;31m---------------------------------------------------------------------------\u001B[0m",
      "\u001B[0;31mKeyError\u001B[0m                                  Traceback (most recent call last)",
      "Cell \u001B[0;32mIn[670], line 6\u001B[0m\n\u001B[1;32m      2\u001B[0m scores \u001B[38;5;241m=\u001B[39m []\n\u001B[1;32m      3\u001B[0m \u001B[38;5;28;01mfor\u001B[39;00m train, test \u001B[38;5;129;01min\u001B[39;00m cv\u001B[38;5;241m.\u001B[39msplit(X, y):\n\u001B[1;32m      4\u001B[0m     \u001B[38;5;66;03m# \u001B[39;00m\n\u001B[0;32m----> 6\u001B[0m     svm \u001B[38;5;241m=\u001B[39m SVC(kernel\u001B[38;5;241m=\u001B[39m\u001B[38;5;124m'\u001B[39m\u001B[38;5;124mrbf\u001B[39m\u001B[38;5;124m'\u001B[39m)\u001B[38;5;241m.\u001B[39mfit(\u001B[43mX\u001B[49m\u001B[43m[\u001B[49m\u001B[43mtrain\u001B[49m\u001B[43m]\u001B[49m, y[train])\n\u001B[1;32m      7\u001B[0m     \u001B[38;5;66;03m# \u001B[39;00m\n\u001B[1;32m      8\u001B[0m     predictions \u001B[38;5;241m=\u001B[39m svm\u001B[38;5;241m.\u001B[39mpredict(X[test])\n",
      "File \u001B[0;32m~/Documents/MscProject/venv/lib/python3.10/site-packages/pandas/core/frame.py:3811\u001B[0m, in \u001B[0;36mDataFrame.__getitem__\u001B[0;34m(self, key)\u001B[0m\n\u001B[1;32m   3809\u001B[0m     \u001B[38;5;28;01mif\u001B[39;00m is_iterator(key):\n\u001B[1;32m   3810\u001B[0m         key \u001B[38;5;241m=\u001B[39m \u001B[38;5;28mlist\u001B[39m(key)\n\u001B[0;32m-> 3811\u001B[0m     indexer \u001B[38;5;241m=\u001B[39m \u001B[38;5;28;43mself\u001B[39;49m\u001B[38;5;241;43m.\u001B[39;49m\u001B[43mcolumns\u001B[49m\u001B[38;5;241;43m.\u001B[39;49m\u001B[43m_get_indexer_strict\u001B[49m\u001B[43m(\u001B[49m\u001B[43mkey\u001B[49m\u001B[43m,\u001B[49m\u001B[43m \u001B[49m\u001B[38;5;124;43m\"\u001B[39;49m\u001B[38;5;124;43mcolumns\u001B[39;49m\u001B[38;5;124;43m\"\u001B[39;49m\u001B[43m)\u001B[49m[\u001B[38;5;241m1\u001B[39m]\n\u001B[1;32m   3813\u001B[0m \u001B[38;5;66;03m# take() does not accept boolean indexers\u001B[39;00m\n\u001B[1;32m   3814\u001B[0m \u001B[38;5;28;01mif\u001B[39;00m \u001B[38;5;28mgetattr\u001B[39m(indexer, \u001B[38;5;124m\"\u001B[39m\u001B[38;5;124mdtype\u001B[39m\u001B[38;5;124m\"\u001B[39m, \u001B[38;5;28;01mNone\u001B[39;00m) \u001B[38;5;241m==\u001B[39m \u001B[38;5;28mbool\u001B[39m:\n",
      "File \u001B[0;32m~/Documents/MscProject/venv/lib/python3.10/site-packages/pandas/core/indexes/base.py:6113\u001B[0m, in \u001B[0;36mIndex._get_indexer_strict\u001B[0;34m(self, key, axis_name)\u001B[0m\n\u001B[1;32m   6110\u001B[0m \u001B[38;5;28;01melse\u001B[39;00m:\n\u001B[1;32m   6111\u001B[0m     keyarr, indexer, new_indexer \u001B[38;5;241m=\u001B[39m \u001B[38;5;28mself\u001B[39m\u001B[38;5;241m.\u001B[39m_reindex_non_unique(keyarr)\n\u001B[0;32m-> 6113\u001B[0m \u001B[38;5;28;43mself\u001B[39;49m\u001B[38;5;241;43m.\u001B[39;49m\u001B[43m_raise_if_missing\u001B[49m\u001B[43m(\u001B[49m\u001B[43mkeyarr\u001B[49m\u001B[43m,\u001B[49m\u001B[43m \u001B[49m\u001B[43mindexer\u001B[49m\u001B[43m,\u001B[49m\u001B[43m \u001B[49m\u001B[43maxis_name\u001B[49m\u001B[43m)\u001B[49m\n\u001B[1;32m   6115\u001B[0m keyarr \u001B[38;5;241m=\u001B[39m \u001B[38;5;28mself\u001B[39m\u001B[38;5;241m.\u001B[39mtake(indexer)\n\u001B[1;32m   6116\u001B[0m \u001B[38;5;28;01mif\u001B[39;00m \u001B[38;5;28misinstance\u001B[39m(key, Index):\n\u001B[1;32m   6117\u001B[0m     \u001B[38;5;66;03m# GH 42790 - Preserve name from an Index\u001B[39;00m\n",
      "File \u001B[0;32m~/Documents/MscProject/venv/lib/python3.10/site-packages/pandas/core/indexes/base.py:6173\u001B[0m, in \u001B[0;36mIndex._raise_if_missing\u001B[0;34m(self, key, indexer, axis_name)\u001B[0m\n\u001B[1;32m   6171\u001B[0m     \u001B[38;5;28;01mif\u001B[39;00m use_interval_msg:\n\u001B[1;32m   6172\u001B[0m         key \u001B[38;5;241m=\u001B[39m \u001B[38;5;28mlist\u001B[39m(key)\n\u001B[0;32m-> 6173\u001B[0m     \u001B[38;5;28;01mraise\u001B[39;00m \u001B[38;5;167;01mKeyError\u001B[39;00m(\u001B[38;5;124mf\u001B[39m\u001B[38;5;124m\"\u001B[39m\u001B[38;5;124mNone of [\u001B[39m\u001B[38;5;132;01m{\u001B[39;00mkey\u001B[38;5;132;01m}\u001B[39;00m\u001B[38;5;124m] are in the [\u001B[39m\u001B[38;5;132;01m{\u001B[39;00maxis_name\u001B[38;5;132;01m}\u001B[39;00m\u001B[38;5;124m]\u001B[39m\u001B[38;5;124m\"\u001B[39m)\n\u001B[1;32m   6175\u001B[0m not_found \u001B[38;5;241m=\u001B[39m \u001B[38;5;28mlist\u001B[39m(ensure_index(key)[missing_mask\u001B[38;5;241m.\u001B[39mnonzero()[\u001B[38;5;241m0\u001B[39m]]\u001B[38;5;241m.\u001B[39munique())\n\u001B[1;32m   6176\u001B[0m \u001B[38;5;28;01mraise\u001B[39;00m \u001B[38;5;167;01mKeyError\u001B[39;00m(\u001B[38;5;124mf\u001B[39m\u001B[38;5;124m\"\u001B[39m\u001B[38;5;132;01m{\u001B[39;00mnot_found\u001B[38;5;132;01m}\u001B[39;00m\u001B[38;5;124m not in index\u001B[39m\u001B[38;5;124m\"\u001B[39m)\n",
      "\u001B[0;31mKeyError\u001B[0m: \"None of [Int64Index([226, 349, 666, 568, 563, 254, 586, 148, 799,  94,\\n            ...\\n            471, 613, 519, 439, 811, 305, 612,  95, 647, 689],\\n           dtype='int64', length=759)] are in the [columns]\""
     ]
    }
   ],
   "source": [
    "cv = StratifiedShuffleSplit(n_splits=10, random_state=0, test_size=0.2)\n",
    "scores = []\n",
    "for train, test in cv.split(X, y):\n",
    "    # \n",
    "\n",
    "    svm = SVC(kernel='rbf').fit(X[train], y[train])\n",
    "    # \n",
    "    predictions = svm.predict(X[test])\n",
    "    # \n",
    "    score = accuracy_score(y[test], predictions)\n",
    "    scores.append(score)"
   ],
   "metadata": {
    "collapsed": false,
    "pycharm": {
     "name": "#%%\n"
    }
   }
  },
  {
   "cell_type": "code",
   "execution_count": 669,
   "outputs": [
    {
     "ename": "TypeError",
     "evalue": "unsupported operand type(s) for /: 'dict' and 'int'",
     "output_type": "error",
     "traceback": [
      "\u001B[0;31m---------------------------------------------------------------------------\u001B[0m",
      "\u001B[0;31mTypeError\u001B[0m                                 Traceback (most recent call last)",
      "Cell \u001B[0;32mIn[669], line 1\u001B[0m\n\u001B[0;32m----> 1\u001B[0m \u001B[43mnp\u001B[49m\u001B[38;5;241;43m.\u001B[39;49m\u001B[43mmean\u001B[49m\u001B[43m(\u001B[49m\u001B[43mscores\u001B[49m\u001B[43m)\u001B[49m\n",
      "File \u001B[0;32m<__array_function__ internals>:180\u001B[0m, in \u001B[0;36mmean\u001B[0;34m(*args, **kwargs)\u001B[0m\n",
      "File \u001B[0;32m~/Documents/MscProject/venv/lib/python3.10/site-packages/numpy/core/fromnumeric.py:3432\u001B[0m, in \u001B[0;36mmean\u001B[0;34m(a, axis, dtype, out, keepdims, where)\u001B[0m\n\u001B[1;32m   3429\u001B[0m     \u001B[38;5;28;01melse\u001B[39;00m:\n\u001B[1;32m   3430\u001B[0m         \u001B[38;5;28;01mreturn\u001B[39;00m mean(axis\u001B[38;5;241m=\u001B[39maxis, dtype\u001B[38;5;241m=\u001B[39mdtype, out\u001B[38;5;241m=\u001B[39mout, \u001B[38;5;241m*\u001B[39m\u001B[38;5;241m*\u001B[39mkwargs)\n\u001B[0;32m-> 3432\u001B[0m \u001B[38;5;28;01mreturn\u001B[39;00m \u001B[43m_methods\u001B[49m\u001B[38;5;241;43m.\u001B[39;49m\u001B[43m_mean\u001B[49m\u001B[43m(\u001B[49m\u001B[43ma\u001B[49m\u001B[43m,\u001B[49m\u001B[43m \u001B[49m\u001B[43maxis\u001B[49m\u001B[38;5;241;43m=\u001B[39;49m\u001B[43maxis\u001B[49m\u001B[43m,\u001B[49m\u001B[43m \u001B[49m\u001B[43mdtype\u001B[49m\u001B[38;5;241;43m=\u001B[39;49m\u001B[43mdtype\u001B[49m\u001B[43m,\u001B[49m\n\u001B[1;32m   3433\u001B[0m \u001B[43m                      \u001B[49m\u001B[43mout\u001B[49m\u001B[38;5;241;43m=\u001B[39;49m\u001B[43mout\u001B[49m\u001B[43m,\u001B[49m\u001B[43m \u001B[49m\u001B[38;5;241;43m*\u001B[39;49m\u001B[38;5;241;43m*\u001B[39;49m\u001B[43mkwargs\u001B[49m\u001B[43m)\u001B[49m\n",
      "File \u001B[0;32m~/Documents/MscProject/venv/lib/python3.10/site-packages/numpy/core/_methods.py:192\u001B[0m, in \u001B[0;36m_mean\u001B[0;34m(a, axis, dtype, out, keepdims, where)\u001B[0m\n\u001B[1;32m    190\u001B[0m         ret \u001B[38;5;241m=\u001B[39m ret\u001B[38;5;241m.\u001B[39mdtype\u001B[38;5;241m.\u001B[39mtype(ret \u001B[38;5;241m/\u001B[39m rcount)\n\u001B[1;32m    191\u001B[0m \u001B[38;5;28;01melse\u001B[39;00m:\n\u001B[0;32m--> 192\u001B[0m     ret \u001B[38;5;241m=\u001B[39m \u001B[43mret\u001B[49m\u001B[43m \u001B[49m\u001B[38;5;241;43m/\u001B[39;49m\u001B[43m \u001B[49m\u001B[43mrcount\u001B[49m\n\u001B[1;32m    194\u001B[0m \u001B[38;5;28;01mreturn\u001B[39;00m ret\n",
      "\u001B[0;31mTypeError\u001B[0m: unsupported operand type(s) for /: 'dict' and 'int'"
     ]
    }
   ],
   "source": [
    "np.mean(scores)"
   ],
   "metadata": {
    "collapsed": false,
    "pycharm": {
     "name": "#%%\n"
    }
   }
  },
  {
   "cell_type": "code",
   "execution_count": null,
   "outputs": [],
   "source": [],
   "metadata": {
    "collapsed": false,
    "pycharm": {
     "name": "#%%\n"
    }
   }
  },
  {
   "cell_type": "code",
   "execution_count": 668,
   "outputs": [
    {
     "data": {
      "text/plain": "{'fit_time': array([0.15300322, 0.02082396, 0.02080488, 0.01933885, 0.01970482,\n        0.01949716, 0.01910305, 0.02134585, 0.0182209 , 0.02264905]),\n 'score_time': array([0.00555897, 0.00334096, 0.00318098, 0.0033741 , 0.00331521,\n        0.00556493, 0.00319719, 0.00338531, 0.00390506, 0.00314283]),\n 'test_accuracy': array([0.69902913, 0.66019417, 0.7184466 , 0.80582524, 0.80582524,\n        0.66019417, 0.69607843, 0.68627451, 0.71568627, 0.68627451]),\n 'train_accuracy': array([0.82015168, 0.83315276, 0.83098592, 0.82340195, 0.82015168,\n        0.83640303, 0.83008658, 0.83874459, 0.83225108, 0.82683983]),\n 'test_precision': array([0.69387755, 0.66666667, 0.69811321, 0.79591837, 0.82222222,\n        0.70588235, 0.69565217, 0.66666667, 0.7       , 0.71794872]),\n 'train_precision': array([0.83373494, 0.83682984, 0.83449883, 0.8353222 , 0.83095238,\n        0.83990719, 0.83449883, 0.84705882, 0.84987893, 0.83971292]),\n 'test_recall': array([0.68      , 0.6       , 0.74      , 0.79591837, 0.75510204,\n        0.48979592, 0.65306122, 0.69387755, 0.71428571, 0.57142857]),\n 'train_recall': array([0.78103837, 0.81038375, 0.80812641, 0.78828829, 0.78603604,\n        0.81531532, 0.80630631, 0.81081081, 0.79054054, 0.79054054]),\n 'test_f1': array([0.68686869, 0.63157895, 0.7184466 , 0.79591837, 0.78723404,\n        0.57831325, 0.67368421, 0.68      , 0.70707071, 0.63636364]),\n 'train_f1': array([0.80652681, 0.8233945 , 0.82110092, 0.81112399, 0.80787037,\n        0.82742857, 0.82016037, 0.82853855, 0.81913652, 0.81438515])}"
     },
     "execution_count": 668,
     "metadata": {},
     "output_type": "execute_result"
    }
   ],
   "source": [
    "scores"
   ],
   "metadata": {
    "collapsed": false,
    "pycharm": {
     "name": "#%%\n"
    }
   }
  },
  {
   "cell_type": "markdown",
   "source": [
    "## Feature Importances"
   ],
   "metadata": {
    "collapsed": false
   }
  },
  {
   "cell_type": "code",
   "execution_count": null,
   "outputs": [],
   "source": [
    "feature_names = X_filtered.columns[:-2] #feature names"
   ],
   "metadata": {
    "collapsed": false,
    "pycharm": {
     "name": "#%%\n"
    }
   }
  },
  {
   "cell_type": "code",
   "execution_count": null,
   "outputs": [],
   "source": [
    "#fit permutation importance model to test set\n",
    "perm_importance = permutation_importance(svm, X_filtered.iloc[test,:], y[test])\n",
    "\n",
    "feature_names = X_filtered.columns[:-2]\n",
    "features = np.array(feature_names)\n",
    "\n",
    "sorted_idx = perm_importance.importances_mean.argsort()\n"
   ],
   "metadata": {
    "collapsed": false,
    "pycharm": {
     "name": "#%%\n"
    }
   }
  },
  {
   "cell_type": "code",
   "execution_count": null,
   "outputs": [],
   "source": [
    "perm_imps = np.c_[feature_names[sorted_idx[::-1]],perm_importance.importances_mean[sorted_idx[::-1]],\n",
    "                  perm_importance.importances[sorted_idx[::-1]]]"
   ],
   "metadata": {
    "collapsed": false,
    "pycharm": {
     "name": "#%%\n"
    }
   }
  },
  {
   "cell_type": "code",
   "execution_count": null,
   "outputs": [],
   "source": [
    "perm_imp_df = pd.DataFrame(perm_imps)\n"
   ],
   "metadata": {
    "collapsed": false,
    "pycharm": {
     "name": "#%%\n"
    }
   }
  },
  {
   "cell_type": "code",
   "execution_count": null,
   "outputs": [],
   "source": [
    "perm_imp_df.columns = ['features','mean_perm_imp', 1,2,3,4,5]"
   ],
   "metadata": {
    "collapsed": false,
    "pycharm": {
     "name": "#%%\n"
    }
   }
  },
  {
   "cell_type": "code",
   "execution_count": null,
   "outputs": [],
   "source": [
    "perm_imp_df"
   ],
   "metadata": {
    "collapsed": false,
    "pycharm": {
     "name": "#%%\n"
    }
   }
  },
  {
   "cell_type": "code",
   "execution_count": null,
   "outputs": [],
   "source": [
    "tree_importance_sorted_idx = np.argsort(rf.feature_importances_)\n",
    "tree_indices = np.arange(0, len(rf.feature_importances_)) + 0.5"
   ],
   "metadata": {
    "collapsed": false,
    "pycharm": {
     "name": "#%%\n"
    }
   }
  },
  {
   "cell_type": "code",
   "execution_count": null,
   "outputs": [],
   "source": [
    "\n",
    "fig, (ax1, ax2) = plt.subplots(1, 2, figsize=(15, 10))\n",
    "ax1.barh(tree_indices[:50], rf.feature_importances_[tree_importance_sorted_idx][-50:], height=0.2)\n",
    "ax1.set_yticks(tree_indices[:50])\n",
    "ax1.set_yticklabels(feature_names[tree_importance_sorted_idx][-50:])\n",
    "ax1.set_ylim((0, len(rf.feature_importances_[-50:])))\n",
    "ax2.boxplot(\n",
    "    perm_importance.importances[sorted_idx[-50:]].T,\n",
    "    vert=False,\n",
    "    labels=feature_names[sorted_idx[-50:]],\n",
    ")\n",
    "fig.tight_layout()\n",
    "plt.show()\n"
   ],
   "metadata": {
    "collapsed": false,
    "pycharm": {
     "name": "#%%\n"
    }
   }
  },
  {
   "cell_type": "code",
   "execution_count": null,
   "outputs": [],
   "source": [
    "perm_imps = np.c_[feature_names[sorted_idx[::-1]],perm_importance.importances_mean[sorted_idx[::-1]],\n",
    "                  perm_importance.importances[sorted_idx[::-1]]]"
   ],
   "metadata": {
    "collapsed": false,
    "pycharm": {
     "name": "#%%\n"
    }
   }
  },
  {
   "cell_type": "code",
   "execution_count": null,
   "outputs": [],
   "source": [
    "perm_imp_df = pd.DataFrame(perm_imps)\n"
   ],
   "metadata": {
    "collapsed": false,
    "pycharm": {
     "name": "#%%\n"
    }
   }
  },
  {
   "cell_type": "code",
   "execution_count": null,
   "outputs": [],
   "source": [
    "perm_imp_df.columns = ['features','mean_perm_imp', 1,2,3,4,5]"
   ],
   "metadata": {
    "collapsed": false,
    "pycharm": {
     "name": "#%%\n"
    }
   }
  },
  {
   "cell_type": "code",
   "execution_count": null,
   "outputs": [],
   "source": [
    "perm_imp_df"
   ],
   "metadata": {
    "collapsed": false,
    "pycharm": {
     "name": "#%%\n"
    }
   }
  },
  {
   "cell_type": "markdown",
   "source": [
    "## Removing least important features"
   ],
   "metadata": {
    "collapsed": false
   }
  },
  {
   "cell_type": "code",
   "execution_count": null,
   "outputs": [],
   "source": [
    "threshold_0_X = perm_imp_df.loc[perm_imp_df['mean_perm_imp']>0, 'features']"
   ],
   "metadata": {
    "collapsed": false,
    "pycharm": {
     "name": "#%%\n"
    }
   }
  },
  {
   "cell_type": "code",
   "execution_count": null,
   "outputs": [],
   "source": [
    "threshold_0_X.shape"
   ],
   "metadata": {
    "collapsed": false,
    "pycharm": {
     "name": "#%%\n"
    }
   }
  },
  {
   "cell_type": "code",
   "execution_count": null,
   "outputs": [],
   "source": [
    "X_thresh_0 = X_filtered.loc[:,threshold_0_X].to_numpy()\n"
   ],
   "metadata": {
    "collapsed": false,
    "pycharm": {
     "name": "#%%\n"
    }
   }
  },
  {
   "cell_type": "code",
   "execution_count": null,
   "outputs": [],
   "source": [
    "cv = StratifiedShuffleSplit(n_splits=10, random_state=0, test_size=0.2)\n",
    "scores2 = []\n",
    "for train, test in cv.split(X_thresh_0, y):\n",
    "    # \n",
    "\n",
    "    svm2 = SVC(kernel='rbf').fit(X_thresh_0[train,:], y[train])\n",
    "    # \n",
    "    predictions = svm2.predict(X_thresh_0[test])\n",
    "    # \n",
    "    score2 = accuracy_score(y[test], predictions)\n",
    "    scores2.append(score2)"
   ],
   "metadata": {
    "collapsed": false,
    "pycharm": {
     "name": "#%%\n"
    }
   }
  },
  {
   "cell_type": "code",
   "execution_count": 654,
   "outputs": [
    {
     "data": {
      "text/plain": "0.7378640776699028"
     },
     "execution_count": 654,
     "metadata": {},
     "output_type": "execute_result"
    }
   ],
   "source": [
    "np.mean(scores2)"
   ],
   "metadata": {
    "collapsed": false,
    "pycharm": {
     "name": "#%%\n"
    }
   }
  },
  {
   "cell_type": "code",
   "execution_count": 655,
   "outputs": [
    {
     "data": {
      "text/plain": "[0.7524271844660194,\n 0.7864077669902912,\n 0.7427184466019418,\n 0.7427184466019418,\n 0.7766990291262136,\n 0.7378640776699029,\n 0.6941747572815534,\n 0.6650485436893204,\n 0.7330097087378641,\n 0.7475728155339806]"
     },
     "execution_count": 655,
     "metadata": {},
     "output_type": "execute_result"
    }
   ],
   "source": [
    "scores2"
   ],
   "metadata": {
    "collapsed": false,
    "pycharm": {
     "name": "#%%\n"
    }
   }
  },
  {
   "cell_type": "code",
   "execution_count": null,
   "outputs": [],
   "source": [
    "feature_names[sorted_idx][::-1][:50]"
   ],
   "metadata": {
    "collapsed": false,
    "pycharm": {
     "name": "#%%\n"
    }
   }
  },
  {
   "cell_type": "code",
   "execution_count": null,
   "outputs": [],
   "source": [
    "features[tree_importance_sorted_idx[::-1] ][:50]"
   ],
   "metadata": {
    "collapsed": false,
    "pycharm": {
     "name": "#%%\n"
    }
   }
  },
  {
   "cell_type": "code",
   "execution_count": null,
   "outputs": [],
   "source": [
    "highest = fc_df.loc[:,feature_names[sorted_idx][::-1][:50]]"
   ],
   "metadata": {
    "collapsed": false,
    "pycharm": {
     "name": "#%%\n"
    }
   }
  },
  {
   "cell_type": "code",
   "execution_count": null,
   "outputs": [],
   "source": [
    "highest['DX_GROUP']= fc_df['DX_GROUP']"
   ],
   "metadata": {
    "collapsed": false,
    "pycharm": {
     "name": "#%%\n"
    }
   }
  },
  {
   "cell_type": "code",
   "execution_count": null,
   "outputs": [],
   "source": [
    "highest"
   ],
   "metadata": {
    "collapsed": false,
    "pycharm": {
     "name": "#%%\n"
    }
   }
  },
  {
   "cell_type": "code",
   "execution_count": null,
   "outputs": [],
   "source": [
    "highest_feats = feature_names[sorted_idx][::-1][:50].to_list()"
   ],
   "metadata": {
    "collapsed": false,
    "pycharm": {
     "name": "#%%\n"
    }
   }
  },
  {
   "cell_type": "code",
   "execution_count": null,
   "outputs": [],
   "source": [
    "split_feats = [highest_feats[i].split(\"-\")for i in range(len(highest_feats))]"
   ],
   "metadata": {
    "collapsed": false,
    "pycharm": {
     "name": "#%%\n"
    }
   }
  },
  {
   "cell_type": "code",
   "execution_count": null,
   "outputs": [],
   "source": [
    "grouped = highest.groupby(by= 'DX_GROUP').mean()\n",
    "grouped"
   ],
   "metadata": {
    "collapsed": false,
    "pycharm": {
     "name": "#%%\n"
    }
   }
  },
  {
   "cell_type": "code",
   "execution_count": null,
   "outputs": [],
   "source": [
    "highest_0,highest_1 = grouped.iloc[0,:],grouped.iloc[1,:]"
   ],
   "metadata": {
    "collapsed": false,
    "pycharm": {
     "name": "#%%\n"
    }
   }
  },
  {
   "cell_type": "code",
   "execution_count": null,
   "outputs": [],
   "source": [
    "high_0_val, high_1_val = highest_0.values.tolist(), highest_1.values.tolist()"
   ],
   "metadata": {
    "collapsed": false,
    "pycharm": {
     "name": "#%%\n"
    }
   }
  },
  {
   "cell_type": "code",
   "execution_count": null,
   "outputs": [],
   "source": [
    "control_highest = [nodes + [high_0_val[i]] for i,nodes in enumerate(split_feats)]"
   ],
   "metadata": {
    "collapsed": false,
    "pycharm": {
     "name": "#%%\n"
    }
   }
  },
  {
   "cell_type": "code",
   "execution_count": null,
   "outputs": [],
   "source": [
    "asd_highest = [nodes + [high_1_val[i]] for i,nodes in enumerate(split_feats)]"
   ],
   "metadata": {
    "collapsed": false,
    "pycharm": {
     "name": "#%%\n"
    }
   }
  },
  {
   "cell_type": "code",
   "execution_count": null,
   "outputs": [],
   "source": [
    "asd_highest"
   ],
   "metadata": {
    "collapsed": false,
    "pycharm": {
     "name": "#%%\n"
    }
   }
  },
  {
   "cell_type": "code",
   "execution_count": null,
   "outputs": [],
   "source": [
    "with open('asd_highest_50.pkl', 'wb') as handle:\n",
    "    pickle.dump(asd_highest, handle, protocol=pickle.HIGHEST_PROTOCOL)\n",
    "\n",
    "with open('control_highest_50.pkl', 'wb') as handle:\n",
    "    pickle.dump(control_highest, handle, protocol=pickle.HIGHEST_PROTOCOL)"
   ],
   "metadata": {
    "collapsed": false,
    "pycharm": {
     "name": "#%%\n"
    }
   }
  },
  {
   "cell_type": "code",
   "execution_count": 653,
   "outputs": [
    {
     "data": {
      "text/plain": "      #5-#182   #5-#230   #5-#390   #8-#224    #9-#55   #10-#18  #10-#133  \\\n0   -0.465351 -0.038908 -0.303455  0.061997  0.285353 -0.302591 -0.575635   \n1   -0.009303  0.247179  0.019453 -0.089782  0.118145  0.045821 -0.036047   \n2   -0.131458  0.072728  0.090999  0.324135  0.235671 -0.226198 -0.300777   \n3    0.155183  0.077839  0.129694 -0.299517  0.191523 -0.196390 -0.279142   \n4   -0.005694 -0.116649  0.046553 -0.101360 -0.211751  0.016708 -0.093205   \n..        ...       ...       ...       ...       ...       ...       ...   \n944  0.242785  0.333870  0.324636 -0.013359  0.227179  0.246499  0.280949   \n945 -0.190760 -0.086610 -0.045279 -0.212172  0.302947  0.140238  0.121516   \n946  0.138792  0.152113  0.253272 -0.215632  0.052178 -0.371396 -0.358475   \n947 -0.027725  0.081142  0.384957 -0.146337 -0.330887  0.068879  0.120493   \n948 -0.128754 -0.015408  0.037636 -0.180983  0.395113 -0.140900 -0.170114   \n\n     #10-#239  #10-#390   #11-#82  ...  #310-#390  #315-#346  #317-#347  \\\n0    0.093608 -0.311941  0.502320  ...   0.105564   0.281348  -0.078890   \n1    0.138405  0.046357  0.364785  ...   0.006089   0.052901  -0.005255   \n2    0.442815 -0.039074  0.477168  ...  -0.112499  -0.089670  -0.184399   \n3    0.075303  0.181871  0.709533  ...   0.117378  -0.332721  -0.203306   \n4    0.279462  0.240016  0.256403  ...   0.069215  -0.025669  -0.043941   \n..        ...       ...       ...  ...        ...        ...        ...   \n944 -0.473235  0.376639  0.405462  ...   0.177930  -0.399635  -0.147217   \n945 -0.039889  0.031693  0.288423  ...  -0.062911   0.255855   0.144863   \n946 -0.308918  0.345141  0.394936  ...  -0.033570  -0.459476   0.112224   \n947  0.010479  0.087033  0.419849  ...   0.002085   0.024210  -0.080221   \n948  0.087370  0.372089  0.728430  ...   0.048963   0.063733  -0.014204   \n\n     #318-#362  #323-#382  #323-#391  #335-#360  #343-#382  #356-#366  \\\n0     0.431270  -0.367768   0.088068   0.272958  -0.402212   0.349068   \n1     0.166180   0.029733  -0.006374   0.513472   0.115737   0.519810   \n2     0.130349   0.320956   0.134839   0.131533  -0.027364   0.234810   \n3     0.292701   0.187288  -0.461183   0.044323  -0.016915   0.198380   \n4     0.474094   0.048160  -0.178296   0.238861  -0.083691  -0.080434   \n..         ...        ...        ...        ...        ...        ...   \n944   0.157535  -0.168862   0.141573   0.085821   0.174607   0.022434   \n945   0.246999   0.206618  -0.105380  -0.088745   0.283497   0.294862   \n946   0.646445  -0.334266  -0.294695   0.314053   0.049902  -0.000490   \n947   0.254440  -0.138745   0.110950  -0.319803   0.143677  -0.130846   \n948   0.311591  -0.113454  -0.239123   0.374160   0.182757   0.272708   \n\n     DX_GROUP  \n0           1  \n1           1  \n2           1  \n3           1  \n4           1  \n..        ...  \n944         1  \n945         1  \n946         1  \n947         1  \n948         1  \n\n[949 rows x 261 columns]",
      "text/html": "<div>\n<style scoped>\n    .dataframe tbody tr th:only-of-type {\n        vertical-align: middle;\n    }\n\n    .dataframe tbody tr th {\n        vertical-align: top;\n    }\n\n    .dataframe thead th {\n        text-align: right;\n    }\n</style>\n<table border=\"1\" class=\"dataframe\">\n  <thead>\n    <tr style=\"text-align: right;\">\n      <th></th>\n      <th>#5-#182</th>\n      <th>#5-#230</th>\n      <th>#5-#390</th>\n      <th>#8-#224</th>\n      <th>#9-#55</th>\n      <th>#10-#18</th>\n      <th>#10-#133</th>\n      <th>#10-#239</th>\n      <th>#10-#390</th>\n      <th>#11-#82</th>\n      <th>...</th>\n      <th>#310-#390</th>\n      <th>#315-#346</th>\n      <th>#317-#347</th>\n      <th>#318-#362</th>\n      <th>#323-#382</th>\n      <th>#323-#391</th>\n      <th>#335-#360</th>\n      <th>#343-#382</th>\n      <th>#356-#366</th>\n      <th>DX_GROUP</th>\n    </tr>\n  </thead>\n  <tbody>\n    <tr>\n      <th>0</th>\n      <td>-0.465351</td>\n      <td>-0.038908</td>\n      <td>-0.303455</td>\n      <td>0.061997</td>\n      <td>0.285353</td>\n      <td>-0.302591</td>\n      <td>-0.575635</td>\n      <td>0.093608</td>\n      <td>-0.311941</td>\n      <td>0.502320</td>\n      <td>...</td>\n      <td>0.105564</td>\n      <td>0.281348</td>\n      <td>-0.078890</td>\n      <td>0.431270</td>\n      <td>-0.367768</td>\n      <td>0.088068</td>\n      <td>0.272958</td>\n      <td>-0.402212</td>\n      <td>0.349068</td>\n      <td>1</td>\n    </tr>\n    <tr>\n      <th>1</th>\n      <td>-0.009303</td>\n      <td>0.247179</td>\n      <td>0.019453</td>\n      <td>-0.089782</td>\n      <td>0.118145</td>\n      <td>0.045821</td>\n      <td>-0.036047</td>\n      <td>0.138405</td>\n      <td>0.046357</td>\n      <td>0.364785</td>\n      <td>...</td>\n      <td>0.006089</td>\n      <td>0.052901</td>\n      <td>-0.005255</td>\n      <td>0.166180</td>\n      <td>0.029733</td>\n      <td>-0.006374</td>\n      <td>0.513472</td>\n      <td>0.115737</td>\n      <td>0.519810</td>\n      <td>1</td>\n    </tr>\n    <tr>\n      <th>2</th>\n      <td>-0.131458</td>\n      <td>0.072728</td>\n      <td>0.090999</td>\n      <td>0.324135</td>\n      <td>0.235671</td>\n      <td>-0.226198</td>\n      <td>-0.300777</td>\n      <td>0.442815</td>\n      <td>-0.039074</td>\n      <td>0.477168</td>\n      <td>...</td>\n      <td>-0.112499</td>\n      <td>-0.089670</td>\n      <td>-0.184399</td>\n      <td>0.130349</td>\n      <td>0.320956</td>\n      <td>0.134839</td>\n      <td>0.131533</td>\n      <td>-0.027364</td>\n      <td>0.234810</td>\n      <td>1</td>\n    </tr>\n    <tr>\n      <th>3</th>\n      <td>0.155183</td>\n      <td>0.077839</td>\n      <td>0.129694</td>\n      <td>-0.299517</td>\n      <td>0.191523</td>\n      <td>-0.196390</td>\n      <td>-0.279142</td>\n      <td>0.075303</td>\n      <td>0.181871</td>\n      <td>0.709533</td>\n      <td>...</td>\n      <td>0.117378</td>\n      <td>-0.332721</td>\n      <td>-0.203306</td>\n      <td>0.292701</td>\n      <td>0.187288</td>\n      <td>-0.461183</td>\n      <td>0.044323</td>\n      <td>-0.016915</td>\n      <td>0.198380</td>\n      <td>1</td>\n    </tr>\n    <tr>\n      <th>4</th>\n      <td>-0.005694</td>\n      <td>-0.116649</td>\n      <td>0.046553</td>\n      <td>-0.101360</td>\n      <td>-0.211751</td>\n      <td>0.016708</td>\n      <td>-0.093205</td>\n      <td>0.279462</td>\n      <td>0.240016</td>\n      <td>0.256403</td>\n      <td>...</td>\n      <td>0.069215</td>\n      <td>-0.025669</td>\n      <td>-0.043941</td>\n      <td>0.474094</td>\n      <td>0.048160</td>\n      <td>-0.178296</td>\n      <td>0.238861</td>\n      <td>-0.083691</td>\n      <td>-0.080434</td>\n      <td>1</td>\n    </tr>\n    <tr>\n      <th>...</th>\n      <td>...</td>\n      <td>...</td>\n      <td>...</td>\n      <td>...</td>\n      <td>...</td>\n      <td>...</td>\n      <td>...</td>\n      <td>...</td>\n      <td>...</td>\n      <td>...</td>\n      <td>...</td>\n      <td>...</td>\n      <td>...</td>\n      <td>...</td>\n      <td>...</td>\n      <td>...</td>\n      <td>...</td>\n      <td>...</td>\n      <td>...</td>\n      <td>...</td>\n      <td>...</td>\n    </tr>\n    <tr>\n      <th>944</th>\n      <td>0.242785</td>\n      <td>0.333870</td>\n      <td>0.324636</td>\n      <td>-0.013359</td>\n      <td>0.227179</td>\n      <td>0.246499</td>\n      <td>0.280949</td>\n      <td>-0.473235</td>\n      <td>0.376639</td>\n      <td>0.405462</td>\n      <td>...</td>\n      <td>0.177930</td>\n      <td>-0.399635</td>\n      <td>-0.147217</td>\n      <td>0.157535</td>\n      <td>-0.168862</td>\n      <td>0.141573</td>\n      <td>0.085821</td>\n      <td>0.174607</td>\n      <td>0.022434</td>\n      <td>1</td>\n    </tr>\n    <tr>\n      <th>945</th>\n      <td>-0.190760</td>\n      <td>-0.086610</td>\n      <td>-0.045279</td>\n      <td>-0.212172</td>\n      <td>0.302947</td>\n      <td>0.140238</td>\n      <td>0.121516</td>\n      <td>-0.039889</td>\n      <td>0.031693</td>\n      <td>0.288423</td>\n      <td>...</td>\n      <td>-0.062911</td>\n      <td>0.255855</td>\n      <td>0.144863</td>\n      <td>0.246999</td>\n      <td>0.206618</td>\n      <td>-0.105380</td>\n      <td>-0.088745</td>\n      <td>0.283497</td>\n      <td>0.294862</td>\n      <td>1</td>\n    </tr>\n    <tr>\n      <th>946</th>\n      <td>0.138792</td>\n      <td>0.152113</td>\n      <td>0.253272</td>\n      <td>-0.215632</td>\n      <td>0.052178</td>\n      <td>-0.371396</td>\n      <td>-0.358475</td>\n      <td>-0.308918</td>\n      <td>0.345141</td>\n      <td>0.394936</td>\n      <td>...</td>\n      <td>-0.033570</td>\n      <td>-0.459476</td>\n      <td>0.112224</td>\n      <td>0.646445</td>\n      <td>-0.334266</td>\n      <td>-0.294695</td>\n      <td>0.314053</td>\n      <td>0.049902</td>\n      <td>-0.000490</td>\n      <td>1</td>\n    </tr>\n    <tr>\n      <th>947</th>\n      <td>-0.027725</td>\n      <td>0.081142</td>\n      <td>0.384957</td>\n      <td>-0.146337</td>\n      <td>-0.330887</td>\n      <td>0.068879</td>\n      <td>0.120493</td>\n      <td>0.010479</td>\n      <td>0.087033</td>\n      <td>0.419849</td>\n      <td>...</td>\n      <td>0.002085</td>\n      <td>0.024210</td>\n      <td>-0.080221</td>\n      <td>0.254440</td>\n      <td>-0.138745</td>\n      <td>0.110950</td>\n      <td>-0.319803</td>\n      <td>0.143677</td>\n      <td>-0.130846</td>\n      <td>1</td>\n    </tr>\n    <tr>\n      <th>948</th>\n      <td>-0.128754</td>\n      <td>-0.015408</td>\n      <td>0.037636</td>\n      <td>-0.180983</td>\n      <td>0.395113</td>\n      <td>-0.140900</td>\n      <td>-0.170114</td>\n      <td>0.087370</td>\n      <td>0.372089</td>\n      <td>0.728430</td>\n      <td>...</td>\n      <td>0.048963</td>\n      <td>0.063733</td>\n      <td>-0.014204</td>\n      <td>0.311591</td>\n      <td>-0.113454</td>\n      <td>-0.239123</td>\n      <td>0.374160</td>\n      <td>0.182757</td>\n      <td>0.272708</td>\n      <td>1</td>\n    </tr>\n  </tbody>\n</table>\n<p>949 rows × 261 columns</p>\n</div>"
     },
     "execution_count": 653,
     "metadata": {},
     "output_type": "execute_result"
    }
   ],
   "source": [
    "pd.read_csv('/Users/admin/Documents/MscProject/vectorised/fc_cc400_filtered.csv')"
   ],
   "metadata": {
    "collapsed": false,
    "pycharm": {
     "name": "#%%\n"
    }
   }
  }
 ],
 "metadata": {
  "kernelspec": {
   "display_name": "Python 3 (ipykernel)",
   "language": "python",
   "name": "python3"
  },
  "language_info": {
   "codemirror_mode": {
    "name": "ipython",
    "version": 3
   },
   "file_extension": ".py",
   "mimetype": "text/x-python",
   "name": "python",
   "nbconvert_exporter": "python",
   "pygments_lexer": "ipython3",
   "version": "3.10.0"
  }
 },
 "nbformat": 4,
 "nbformat_minor": 1
}