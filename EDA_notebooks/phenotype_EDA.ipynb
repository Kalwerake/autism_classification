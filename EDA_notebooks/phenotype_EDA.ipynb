{
 "cells": [
  {
   "cell_type": "code",
   "execution_count": 19,
   "outputs": [],
   "source": [
    "import re\n",
    "import os\n",
    "import pandas as pd\n",
    "\n",
    "import matplotlib.pyplot as plt\n",
    "import seaborn as sns"
   ],
   "metadata": {
    "collapsed": false,
    "pycharm": {
     "name": "#%%\n"
    }
   }
  },
  {
   "cell_type": "code",
   "execution_count": 20,
   "outputs": [
    {
     "data": {
      "text/plain": "'/Users/admin/Documents/MscProject'"
     },
     "execution_count": 20,
     "metadata": {},
     "output_type": "execute_result"
    }
   ],
   "source": [
    "#get name of parent directory working drectory)\n",
    "parent_dir = os.path.dirname(os.getcwd()) # get path to parent directory\n",
    "parent_dir"
   ],
   "metadata": {
    "collapsed": false,
    "pycharm": {
     "name": "#%%\n"
    }
   }
  },
  {
   "cell_type": "markdown",
   "source": [
    "## Phenotypic Data CSV cleaning\n",
    "Phenotypic data is stored in a csv file, that requires pre-processing, for ease of reference I shall add filenames of extracted\n",
    "data, into columns, and deal with any missing data."
   ],
   "metadata": {
    "collapsed": false
   }
  },
  {
   "cell_type": "markdown",
   "source": [
    "### Raw phenotypic data"
   ],
   "metadata": {
    "collapsed": false
   }
  },
  {
   "cell_type": "code",
   "execution_count": 21,
   "outputs": [],
   "source": [
    "#path to original phenotype description file\n",
    "df_p = os.path.join(parent_dir, 'phenotype_files/Phenotypic_V1_0b_preprocessed.csv')\n",
    "raw_df = pd.read_csv(df_p)"
   ],
   "metadata": {
    "collapsed": false,
    "pycharm": {
     "name": "#%%\n"
    }
   }
  },
  {
   "cell_type": "code",
   "execution_count": 22,
   "outputs": [
    {
     "data": {
      "text/plain": "   Unnamed: 0  SUB_ID  X  subject SITE_ID       FILE_ID  DX_GROUP  DSM_IV_TR  \\\n0           1   50002  1    50002    PITT   no_filename         1          1   \n1           2   50003  2    50003    PITT  Pitt_0050003         1          1   \n2           3   50004  3    50004    PITT  Pitt_0050004         1          1   \n3           4   50005  4    50005    PITT  Pitt_0050005         1          1   \n4           5   50006  5    50006    PITT  Pitt_0050006         1          1   \n\n   AGE_AT_SCAN  SEX  ... qc_rater_1  qc_notes_rater_1  qc_anat_rater_2  \\\n0        16.77    1  ...       fail               NaN               OK   \n1        24.45    1  ...         OK               NaN               OK   \n2        19.09    1  ...         OK               NaN               OK   \n3        13.73    2  ...         OK               NaN               OK   \n4        13.37    1  ...         OK               NaN               OK   \n\n   qc_anat_notes_rater_2  qc_func_rater_2   qc_func_notes_rater_2  \\\n0                    NaN             fail  ic-parietal-cerebellum   \n1                    NaN               OK                     NaN   \n2                    NaN               OK                     NaN   \n3                    NaN            maybe  ic-parietal-cerebellum   \n4                    NaN            maybe      ic-parietal slight   \n\n  qc_anat_rater_3 qc_anat_notes_rater_3  qc_func_rater_3  \\\n0              OK                   NaN             fail   \n1              OK                   NaN               OK   \n2              OK                   NaN               OK   \n3              OK                   NaN               OK   \n4              OK                   NaN               OK   \n\n   qc_func_notes_rater_3  \n0              ERROR #24  \n1                    NaN  \n2                    NaN  \n3                    NaN  \n4                    NaN  \n\n[5 rows x 104 columns]",
      "text/html": "<div>\n<style scoped>\n    .dataframe tbody tr th:only-of-type {\n        vertical-align: middle;\n    }\n\n    .dataframe tbody tr th {\n        vertical-align: top;\n    }\n\n    .dataframe thead th {\n        text-align: right;\n    }\n</style>\n<table border=\"1\" class=\"dataframe\">\n  <thead>\n    <tr style=\"text-align: right;\">\n      <th></th>\n      <th>Unnamed: 0</th>\n      <th>SUB_ID</th>\n      <th>X</th>\n      <th>subject</th>\n      <th>SITE_ID</th>\n      <th>FILE_ID</th>\n      <th>DX_GROUP</th>\n      <th>DSM_IV_TR</th>\n      <th>AGE_AT_SCAN</th>\n      <th>SEX</th>\n      <th>...</th>\n      <th>qc_rater_1</th>\n      <th>qc_notes_rater_1</th>\n      <th>qc_anat_rater_2</th>\n      <th>qc_anat_notes_rater_2</th>\n      <th>qc_func_rater_2</th>\n      <th>qc_func_notes_rater_2</th>\n      <th>qc_anat_rater_3</th>\n      <th>qc_anat_notes_rater_3</th>\n      <th>qc_func_rater_3</th>\n      <th>qc_func_notes_rater_3</th>\n    </tr>\n  </thead>\n  <tbody>\n    <tr>\n      <th>0</th>\n      <td>1</td>\n      <td>50002</td>\n      <td>1</td>\n      <td>50002</td>\n      <td>PITT</td>\n      <td>no_filename</td>\n      <td>1</td>\n      <td>1</td>\n      <td>16.77</td>\n      <td>1</td>\n      <td>...</td>\n      <td>fail</td>\n      <td>NaN</td>\n      <td>OK</td>\n      <td>NaN</td>\n      <td>fail</td>\n      <td>ic-parietal-cerebellum</td>\n      <td>OK</td>\n      <td>NaN</td>\n      <td>fail</td>\n      <td>ERROR #24</td>\n    </tr>\n    <tr>\n      <th>1</th>\n      <td>2</td>\n      <td>50003</td>\n      <td>2</td>\n      <td>50003</td>\n      <td>PITT</td>\n      <td>Pitt_0050003</td>\n      <td>1</td>\n      <td>1</td>\n      <td>24.45</td>\n      <td>1</td>\n      <td>...</td>\n      <td>OK</td>\n      <td>NaN</td>\n      <td>OK</td>\n      <td>NaN</td>\n      <td>OK</td>\n      <td>NaN</td>\n      <td>OK</td>\n      <td>NaN</td>\n      <td>OK</td>\n      <td>NaN</td>\n    </tr>\n    <tr>\n      <th>2</th>\n      <td>3</td>\n      <td>50004</td>\n      <td>3</td>\n      <td>50004</td>\n      <td>PITT</td>\n      <td>Pitt_0050004</td>\n      <td>1</td>\n      <td>1</td>\n      <td>19.09</td>\n      <td>1</td>\n      <td>...</td>\n      <td>OK</td>\n      <td>NaN</td>\n      <td>OK</td>\n      <td>NaN</td>\n      <td>OK</td>\n      <td>NaN</td>\n      <td>OK</td>\n      <td>NaN</td>\n      <td>OK</td>\n      <td>NaN</td>\n    </tr>\n    <tr>\n      <th>3</th>\n      <td>4</td>\n      <td>50005</td>\n      <td>4</td>\n      <td>50005</td>\n      <td>PITT</td>\n      <td>Pitt_0050005</td>\n      <td>1</td>\n      <td>1</td>\n      <td>13.73</td>\n      <td>2</td>\n      <td>...</td>\n      <td>OK</td>\n      <td>NaN</td>\n      <td>OK</td>\n      <td>NaN</td>\n      <td>maybe</td>\n      <td>ic-parietal-cerebellum</td>\n      <td>OK</td>\n      <td>NaN</td>\n      <td>OK</td>\n      <td>NaN</td>\n    </tr>\n    <tr>\n      <th>4</th>\n      <td>5</td>\n      <td>50006</td>\n      <td>5</td>\n      <td>50006</td>\n      <td>PITT</td>\n      <td>Pitt_0050006</td>\n      <td>1</td>\n      <td>1</td>\n      <td>13.37</td>\n      <td>1</td>\n      <td>...</td>\n      <td>OK</td>\n      <td>NaN</td>\n      <td>OK</td>\n      <td>NaN</td>\n      <td>maybe</td>\n      <td>ic-parietal slight</td>\n      <td>OK</td>\n      <td>NaN</td>\n      <td>OK</td>\n      <td>NaN</td>\n    </tr>\n  </tbody>\n</table>\n<p>5 rows × 104 columns</p>\n</div>"
     },
     "execution_count": 22,
     "metadata": {},
     "output_type": "execute_result"
    }
   ],
   "source": [
    "raw_df.head() # at this stage only the subject identification features and  diagnosis classes are needed."
   ],
   "metadata": {
    "collapsed": false,
    "pycharm": {
     "name": "#%%\n"
    }
   }
  },
  {
   "cell_type": "code",
   "execution_count": 23,
   "outputs": [
    {
     "data": {
      "text/plain": "  SITE_ID  X  SUB_ID       FILE_ID  AGE_AT_SCAN  SEX  DSM_IV_TR  DX_GROUP\n0    PITT  1   50002   no_filename        16.77    1          1         1\n1    PITT  2   50003  Pitt_0050003        24.45    1          1         1\n2    PITT  3   50004  Pitt_0050004        19.09    1          1         1\n3    PITT  4   50005  Pitt_0050005        13.73    2          1         1\n4    PITT  5   50006  Pitt_0050006        13.37    1          1         1",
      "text/html": "<div>\n<style scoped>\n    .dataframe tbody tr th:only-of-type {\n        vertical-align: middle;\n    }\n\n    .dataframe tbody tr th {\n        vertical-align: top;\n    }\n\n    .dataframe thead th {\n        text-align: right;\n    }\n</style>\n<table border=\"1\" class=\"dataframe\">\n  <thead>\n    <tr style=\"text-align: right;\">\n      <th></th>\n      <th>SITE_ID</th>\n      <th>X</th>\n      <th>SUB_ID</th>\n      <th>FILE_ID</th>\n      <th>AGE_AT_SCAN</th>\n      <th>SEX</th>\n      <th>DSM_IV_TR</th>\n      <th>DX_GROUP</th>\n    </tr>\n  </thead>\n  <tbody>\n    <tr>\n      <th>0</th>\n      <td>PITT</td>\n      <td>1</td>\n      <td>50002</td>\n      <td>no_filename</td>\n      <td>16.77</td>\n      <td>1</td>\n      <td>1</td>\n      <td>1</td>\n    </tr>\n    <tr>\n      <th>1</th>\n      <td>PITT</td>\n      <td>2</td>\n      <td>50003</td>\n      <td>Pitt_0050003</td>\n      <td>24.45</td>\n      <td>1</td>\n      <td>1</td>\n      <td>1</td>\n    </tr>\n    <tr>\n      <th>2</th>\n      <td>PITT</td>\n      <td>3</td>\n      <td>50004</td>\n      <td>Pitt_0050004</td>\n      <td>19.09</td>\n      <td>1</td>\n      <td>1</td>\n      <td>1</td>\n    </tr>\n    <tr>\n      <th>3</th>\n      <td>PITT</td>\n      <td>4</td>\n      <td>50005</td>\n      <td>Pitt_0050005</td>\n      <td>13.73</td>\n      <td>2</td>\n      <td>1</td>\n      <td>1</td>\n    </tr>\n    <tr>\n      <th>4</th>\n      <td>PITT</td>\n      <td>5</td>\n      <td>50006</td>\n      <td>Pitt_0050006</td>\n      <td>13.37</td>\n      <td>1</td>\n      <td>1</td>\n      <td>1</td>\n    </tr>\n  </tbody>\n</table>\n</div>"
     },
     "execution_count": 23,
     "metadata": {},
     "output_type": "execute_result"
    }
   ],
   "source": [
    "# extract necessary data\n",
    "st1_df = raw_df[['SITE_ID','X','SUB_ID','FILE_ID','AGE_AT_SCAN','SEX','DSM_IV_TR','DX_GROUP']]\n",
    "st1_df.head()"
   ],
   "metadata": {
    "collapsed": false,
    "pycharm": {
     "name": "#%%\n"
    }
   }
  },
  {
   "cell_type": "markdown",
   "source": [
    "##  Updating File_ID field\n",
    "File_ID data is neccesary  for data analysis since its an identifier for any data on a subject, and this field contains missing values. these missing values can be imputed using the fMRi data filenames."
   ],
   "metadata": {
    "collapsed": false
   }
  },
  {
   "cell_type": "code",
   "execution_count": null,
   "outputs": [],
   "source": [
    "fMRI_dir = os.path.join(parent_dir, 'func_preproc') # subdirectory containing fMRI data"
   ],
   "metadata": {
    "collapsed": false,
    "pycharm": {
     "name": "#%%\n"
    }
   }
  },
  {
   "cell_type": "code",
   "execution_count": null,
   "outputs": [],
   "source": [
    "fMRI_files= next(os.walk(fMRI_dir))[2] # acquire all fMRI file names\n",
    "fMRI_files = [fMRI_files[i] for i in range(len(fMRI_files)) if 'nii.gz' in fMRI_files[i]] # limit to nifti files"
   ],
   "metadata": {
    "collapsed": false,
    "pycharm": {
     "name": "#%%\n"
    }
   }
  },
  {
   "cell_type": "code",
   "execution_count": null,
   "outputs": [],
   "source": [
    "print(f' Number of fMRI files : {len(fMRI_files)} \\n Number of rows in phenotypic file: {len(st1_df)}')"
   ],
   "metadata": {
    "collapsed": false,
    "pycharm": {
     "name": "#%%\n"
    }
   }
  },
  {
   "cell_type": "markdown",
   "source": [
    "There are more subjects in the raw phenotypic data than there are fMRI files, these missing data pertains to fMRI scans that did not pass Quality control checks following preprocessing in the CPAC pipeline. the subject with fMRI data will be removed."
   ],
   "metadata": {
    "collapsed": false
   }
  },
  {
   "cell_type": "code",
   "execution_count": null,
   "outputs": [],
   "source": [
    "present = []  # sub ids of rows with a corresponding fMRI file\n",
    "for i in range(len(fMRI_files)):\n",
    "    # use regex, every subject ID starts with 5 following by unique digit combination get subject ids of all present\n",
    "    here = re.search('5\\d+\\d', fMRI_files[\n",
    "        i]).group()\n",
    "    present.append(int(here))\n",
    "\n",
    "absent = []  # indexes of missing rows\n",
    "for i in range(len(st1_df)):\n",
    "    if st1_df.loc[i, 'SUB_ID'] not in present:\n",
    "        absent.append(i)\n",
    "len(st1_df) - len(absent) == len(fMRI_files)"
   ],
   "metadata": {
    "collapsed": false,
    "pycharm": {
     "name": "#%%\n"
    }
   }
  },
  {
   "cell_type": "code",
   "execution_count": null,
   "outputs": [],
   "source": [
    "st1_df.iloc[absent]  # rows that do not have corrosponding fMRI data"
   ],
   "metadata": {
    "collapsed": false,
    "pycharm": {
     "name": "#%%\n"
    }
   }
  },
  {
   "cell_type": "code",
   "execution_count": null,
   "outputs": [],
   "source": [
    "st1_df.drop(absent,inplace = True) # drop all rows with missing data, inplace\n",
    "st1_df.reset_index(drop= True,inplace = True) # reset index"
   ],
   "metadata": {
    "collapsed": false,
    "pycharm": {
     "name": "#%%\n"
    }
   }
  },
  {
   "cell_type": "code",
   "execution_count": null,
   "outputs": [],
   "source": [
    "len(st1_df) # it worked"
   ],
   "metadata": {
    "collapsed": false,
    "pycharm": {
     "name": "#%%\n"
    }
   }
  },
  {
   "cell_type": "code",
   "execution_count": null,
   "outputs": [],
   "source": [
    "st1_df.head()"
   ],
   "metadata": {
    "collapsed": false,
    "pycharm": {
     "name": "#%%\n"
    }
   }
  },
  {
   "cell_type": "markdown",
   "source": [
    "## Impute FILE_ID data\n",
    "\n",
    "FILE_ID data is missing in some rows, this is problematic since it's the unique identifier that is necessary for model fitting"
   ],
   "metadata": {
    "collapsed": false
   }
  },
  {
   "cell_type": "code",
   "execution_count": null,
   "outputs": [],
   "source": [
    "file_ids = st1_df['FILE_ID']"
   ],
   "metadata": {
    "collapsed": false,
    "pycharm": {
     "name": "#%%\n"
    }
   }
  },
  {
   "cell_type": "code",
   "execution_count": null,
   "outputs": [],
   "source": [
    "missing_index = []\n",
    "for i,file in enumerate(file_ids):\n",
    "    pattern = re.search('5\\d+\\d',file) # use regex to search if value contains a string matching subject id\n",
    "    # if such string match is found append index to missing_index\n",
    "    if pattern == None:\n",
    "        missing_index.append(i)"
   ],
   "metadata": {
    "collapsed": false,
    "pycharm": {
     "name": "#%%\n"
    }
   }
  },
  {
   "cell_type": "code",
   "execution_count": null,
   "outputs": [],
   "source": [
    "st1_df.loc[missing_index,'FILE_ID'].unique() # all missing values designated as no_filename"
   ],
   "metadata": {
    "collapsed": false,
    "pycharm": {
     "name": "#%%\n"
    }
   }
  },
  {
   "cell_type": "code",
   "execution_count": null,
   "outputs": [],
   "source": [
    "len(missing_index)"
   ],
   "metadata": {
    "collapsed": false,
    "pycharm": {
     "name": "#%%\n"
    }
   }
  },
  {
   "cell_type": "code",
   "execution_count": null,
   "outputs": [],
   "source": [
    "# the fmri filenames are of format {FILE_ID}_func_preproc.nii.gz these can be used to impute file id\n",
    "st1_df.loc[missing_index]"
   ],
   "metadata": {
    "collapsed": false,
    "pycharm": {
     "name": "#%%\n"
    }
   }
  },
  {
   "cell_type": "code",
   "execution_count": null,
   "outputs": [],
   "source": [
    "#get sub ids of all missing file ids and turn into str type\n",
    "missing_subs = st1_df.loc[missing_index, 'SUB_ID']\n",
    "missing_subs = [str(s) for s in missing_subs]"
   ],
   "metadata": {
    "collapsed": false,
    "pycharm": {
     "name": "#%%\n"
    }
   }
  },
  {
   "cell_type": "code",
   "execution_count": null,
   "outputs": [],
   "source": [
    "# if sub id is in fmri file name extract file_id portion of filename and store in found\n",
    "found = []\n",
    "for i in range(len(missing_subs)):\n",
    "    for f in fMRI_files:\n",
    "        if missing_subs[i] in f:\n",
    "            found.append(f.strip('_func_preproc.nii.gz'))"
   ],
   "metadata": {
    "collapsed": false,
    "pycharm": {
     "name": "#%%\n"
    }
   }
  },
  {
   "cell_type": "code",
   "execution_count": null,
   "outputs": [],
   "source": [
    "# replace no_filename with correct File_ID\n",
    "for i, ind in enumerate(missing_index):\n",
    "    st1_df.loc[ind,'FILE_ID'] = found[i]"
   ],
   "metadata": {
    "collapsed": false,
    "pycharm": {
     "name": "#%%\n"
    }
   }
  },
  {
   "cell_type": "code",
   "execution_count": null,
   "outputs": [],
   "source": [
    "#it worked!\n",
    "st1_df.loc[missing_index,:]"
   ],
   "metadata": {
    "collapsed": false,
    "pycharm": {
     "name": "#%%\n"
    }
   }
  },
  {
   "cell_type": "code",
   "execution_count": null,
   "outputs": [],
   "source": [
    "# save as pheno_clean.csv\n",
    "save_p = os.path.join(parent_dir, 'phenotype_files/pheno_clean.csv')\n",
    "st1_df.to_csv(save_p, index= False)"
   ],
   "metadata": {
    "collapsed": false,
    "pycharm": {
     "name": "#%%\n"
    }
   }
  },
  {
   "cell_type": "markdown",
   "source": [
    "## Removing data with low temporal resolution\n",
    "Referring to Notebook `EDA` there are fMRI files that contain less than 100 time points, this is lower than the required temporal resolution for calculating an accurate measure of dynamic correlation, so these shall be removed.\n"
   ],
   "metadata": {
    "collapsed": false
   }
  },
  {
   "cell_type": "code",
   "execution_count": null,
   "outputs": [],
   "source": [
    "st1_df.head()"
   ],
   "metadata": {
    "collapsed": false,
    "pycharm": {
     "name": "#%%\n"
    }
   }
  },
  {
   "cell_type": "code",
   "execution_count": null,
   "outputs": [],
   "source": [
    "roi_all = [st1_df.FILE_ID[i] + '_rois_cc200.1D' for i in range(len(st1_df))]"
   ],
   "metadata": {
    "collapsed": false,
    "pycharm": {
     "name": "#%%\n"
    }
   }
  },
  {
   "cell_type": "code",
   "execution_count": null,
   "outputs": [],
   "source": [
    "roi_dir = parent_dir + '/rois_cc200'\n"
   ],
   "metadata": {
    "collapsed": false,
    "pycharm": {
     "name": "#%%\n"
    }
   }
  },
  {
   "cell_type": "code",
   "execution_count": null,
   "outputs": [],
   "source": [
    "pd.read_csv(os.path.join(roi_dir, roi_all[0]), sep='\\t', lineterminator='\\n').shape"
   ],
   "metadata": {
    "collapsed": false,
    "pycharm": {
     "name": "#%%\n"
    }
   }
  },
  {
   "cell_type": "code",
   "execution_count": null,
   "outputs": [],
   "source": [
    "times = []\n",
    "for i in range(len(roi_all)):\n",
    "    roi = os.path.join(roi_dir, roi_all[i])# make path to fmri file\n",
    "    dim = pd.read_csv(roi, sep='\\t', lineterminator='\\n').shape # get length of temporal dimension\n",
    "    times.append(dim[0])# get size of last dimension time\n",
    "\n",
    "low_indexes = []\n",
    "low_times = []\n",
    "for i, time in enumerate(times):\n",
    "    if times[i] < 116:\n",
    "        low_indexes.append(i)\n",
    "        low_times.append(time)"
   ],
   "metadata": {
    "collapsed": false,
    "pycharm": {
     "name": "#%%\n"
    }
   }
  },
  {
   "cell_type": "code",
   "execution_count": null,
   "outputs": [],
   "source": [
    "len(roi_all),len(low_indexes)"
   ],
   "metadata": {
    "collapsed": false,
    "pycharm": {
     "name": "#%%\n"
    }
   }
  },
  {
   "cell_type": "code",
   "execution_count": null,
   "outputs": [],
   "source": [
    "low_times"
   ],
   "metadata": {
    "collapsed": false,
    "pycharm": {
     "name": "#%%\n"
    }
   }
  },
  {
   "cell_type": "code",
   "execution_count": null,
   "outputs": [],
   "source": [
    "st1_df.loc[low_indexes] # The data with low temporal resolution"
   ],
   "metadata": {
    "collapsed": false,
    "pycharm": {
     "name": "#%%\n"
    }
   }
  },
  {
   "cell_type": "code",
   "execution_count": null,
   "outputs": [],
   "source": [
    "st1_df.drop(low_indexes, inplace=True) # Drop the rows with low temporal resolution"
   ],
   "metadata": {
    "collapsed": false,
    "pycharm": {
     "name": "#%%\n"
    }
   }
  },
  {
   "cell_type": "code",
   "execution_count": null,
   "outputs": [],
   "source": [
    "st1_df.reset_index(inplace= True, drop=True)# reset index"
   ],
   "metadata": {
    "collapsed": false,
    "pycharm": {
     "name": "#%%\n"
    }
   }
  },
  {
   "cell_type": "markdown",
   "source": [
    "## Removing subjects with missing value ROIs in CC200 Data\n",
    "Some sujects contain time series data with a flat-line this is considered to be missing data, and any subjects with a flat-line roi time series is to be removed"
   ],
   "metadata": {
    "collapsed": false
   }
  },
  {
   "cell_type": "code",
   "execution_count": null,
   "outputs": [],
   "source": [
    "# get path to every roi time series file\n",
    "roi_paths = [os.path.join(parent_dir, 'rois_cc200', st1_df.FILE_ID[i] + '_rois_cc200.1D' )\n",
    "             for i in range(len(st1_df))]"
   ],
   "metadata": {
    "collapsed": false,
    "pycharm": {
     "name": "#%%\n"
    }
   }
  },
  {
   "cell_type": "code",
   "execution_count": null,
   "outputs": [],
   "source": [
    "# if a roi time series contains null data store in null_indexes\n",
    "null_indexes = []\n",
    "#iterate over ever roi file\n",
    "for i, ts in enumerate(roi_paths):\n",
    "    # load roi time series file\n",
    "    df = pd.read_csv(ts, sep='\\t', lineterminator='\\n')\n",
    "    # initialise null_yes if 0 then no null values in time series data\n",
    "    null_yes = 0\n",
    "    # iterate over every column (ROI)\n",
    "    for r in range(df.shape[1]):\n",
    "        # if roi time series only has one unique value its a flat-line therefore null\n",
    "        if len(df.iloc[:,r].unique()) == 1:\n",
    "            # if flat_line is detected make null_yes = 1 and skip to next data file\n",
    "            null_yes += 1\n",
    "            pass\n",
    "    # if null_yes is not 0 then thre is a flat line in the time_series\n",
    "    if null_yes > 0:\n",
    "        null_indexes.append(i)"
   ],
   "metadata": {
    "collapsed": false,
    "pycharm": {
     "name": "#%%\n"
    }
   }
  },
  {
   "cell_type": "code",
   "execution_count": null,
   "outputs": [],
   "source": [
    "#load example of null value detection\n",
    "null_exp = pd.read_csv(roi_paths[null_indexes[0]], sep='\\t', lineterminator='\\n')"
   ],
   "metadata": {
    "collapsed": false,
    "pycharm": {
     "name": "#%%\n"
    }
   }
  },
  {
   "cell_type": "code",
   "execution_count": null,
   "outputs": [],
   "source": [
    "# get column indexes of missing values\n",
    "[i for i in range(null_exp.shape[1]) if len(null_exp.iloc[:,i].unique()) == 1]"
   ],
   "metadata": {
    "collapsed": false,
    "pycharm": {
     "name": "#%%\n"
    }
   }
  },
  {
   "cell_type": "code",
   "execution_count": null,
   "outputs": [],
   "source": [
    "# it worked\n",
    "null_exp.iloc[:, [51,175]]"
   ],
   "metadata": {
    "collapsed": false,
    "pycharm": {
     "name": "#%%\n"
    }
   }
  },
  {
   "cell_type": "code",
   "execution_count": null,
   "outputs": [],
   "source": [
    "# 48 samples contain missing values\n",
    "len(null_indexes)"
   ],
   "metadata": {
    "collapsed": false,
    "pycharm": {
     "name": "#%%\n"
    }
   }
  },
  {
   "cell_type": "code",
   "execution_count": null,
   "outputs": [],
   "source": [
    "# approximatly 4.5% of all data contain missing values at can be removed, not too costly\n",
    "len(null_indexes)/ len(st1_df)"
   ],
   "metadata": {
    "collapsed": false,
    "pycharm": {
     "name": "#%%\n"
    }
   }
  },
  {
   "cell_type": "code",
   "execution_count": null,
   "outputs": [],
   "source": [
    "st1_df.drop(null_indexes, axis=0, inplace =True)\n",
    "st1_df.reset_index(drop=True, inplace=True)"
   ],
   "metadata": {
    "collapsed": false,
    "pycharm": {
     "name": "#%%\n"
    }
   }
  },
  {
   "cell_type": "code",
   "execution_count": null,
   "outputs": [],
   "source": [
    "# save file to phenotype_files/\n",
    "st1_df.to_csv(os.path.join(parent_dir, 'phenotype_files/pheno_nn.csv'), index = False)"
   ],
   "metadata": {
    "collapsed": false,
    "pycharm": {
     "name": "#%%\n"
    }
   }
  },
  {
   "cell_type": "markdown",
   "source": [
    "# Checking for Class distribution"
   ],
   "metadata": {
    "collapsed": false
   }
  },
  {
   "cell_type": "code",
   "execution_count": 3,
   "outputs": [],
   "source": [
    "parent_dir =os.path.dirname(os.getcwd())\n",
    "pheno_dir = os.path.join(parent_dir, 'phenotype_files')\n",
    "df_path = os.path.join(pheno_dir, 'pheno_clean.csv')"
   ],
   "metadata": {
    "collapsed": false,
    "pycharm": {
     "name": "#%%\n"
    }
   }
  },
  {
   "cell_type": "code",
   "execution_count": 4,
   "outputs": [
    {
     "data": {
      "text/plain": "  SITE_ID  X  SUB_ID       FILE_ID  AGE_AT_SCAN  SEX  DSM_IV_TR  DX_GROUP\n0    PITT  1   50002  Pitt_0050002        16.77    1          1         1\n1    PITT  2   50003  Pitt_0050003        24.45    1          1         1\n2    PITT  3   50004  Pitt_0050004        19.09    1          1         1\n3    PITT  4   50005  Pitt_0050005        13.73    2          1         1\n4    PITT  5   50006  Pitt_0050006        13.37    1          1         1",
      "text/html": "<div>\n<style scoped>\n    .dataframe tbody tr th:only-of-type {\n        vertical-align: middle;\n    }\n\n    .dataframe tbody tr th {\n        vertical-align: top;\n    }\n\n    .dataframe thead th {\n        text-align: right;\n    }\n</style>\n<table border=\"1\" class=\"dataframe\">\n  <thead>\n    <tr style=\"text-align: right;\">\n      <th></th>\n      <th>SITE_ID</th>\n      <th>X</th>\n      <th>SUB_ID</th>\n      <th>FILE_ID</th>\n      <th>AGE_AT_SCAN</th>\n      <th>SEX</th>\n      <th>DSM_IV_TR</th>\n      <th>DX_GROUP</th>\n    </tr>\n  </thead>\n  <tbody>\n    <tr>\n      <th>0</th>\n      <td>PITT</td>\n      <td>1</td>\n      <td>50002</td>\n      <td>Pitt_0050002</td>\n      <td>16.77</td>\n      <td>1</td>\n      <td>1</td>\n      <td>1</td>\n    </tr>\n    <tr>\n      <th>1</th>\n      <td>PITT</td>\n      <td>2</td>\n      <td>50003</td>\n      <td>Pitt_0050003</td>\n      <td>24.45</td>\n      <td>1</td>\n      <td>1</td>\n      <td>1</td>\n    </tr>\n    <tr>\n      <th>2</th>\n      <td>PITT</td>\n      <td>3</td>\n      <td>50004</td>\n      <td>Pitt_0050004</td>\n      <td>19.09</td>\n      <td>1</td>\n      <td>1</td>\n      <td>1</td>\n    </tr>\n    <tr>\n      <th>3</th>\n      <td>PITT</td>\n      <td>4</td>\n      <td>50005</td>\n      <td>Pitt_0050005</td>\n      <td>13.73</td>\n      <td>2</td>\n      <td>1</td>\n      <td>1</td>\n    </tr>\n    <tr>\n      <th>4</th>\n      <td>PITT</td>\n      <td>5</td>\n      <td>50006</td>\n      <td>Pitt_0050006</td>\n      <td>13.37</td>\n      <td>1</td>\n      <td>1</td>\n      <td>1</td>\n    </tr>\n  </tbody>\n</table>\n</div>"
     },
     "execution_count": 4,
     "metadata": {},
     "output_type": "execute_result"
    }
   ],
   "source": [
    "df = pd.read_csv(df_path) # read phenotype file\n",
    "df.head()"
   ],
   "metadata": {
    "collapsed": false,
    "pycharm": {
     "name": "#%%\n"
    }
   }
  },
  {
   "cell_type": "code",
   "execution_count": 5,
   "outputs": [
    {
     "data": {
      "text/plain": "        FILE_ID  DSM_IV_TR  DX_GROUP\n0  Pitt_0050002          1         1\n1  Pitt_0050003          1         1\n2  Pitt_0050004          1         1\n3  Pitt_0050005          1         1\n4  Pitt_0050006          1         1",
      "text/html": "<div>\n<style scoped>\n    .dataframe tbody tr th:only-of-type {\n        vertical-align: middle;\n    }\n\n    .dataframe tbody tr th {\n        vertical-align: top;\n    }\n\n    .dataframe thead th {\n        text-align: right;\n    }\n</style>\n<table border=\"1\" class=\"dataframe\">\n  <thead>\n    <tr style=\"text-align: right;\">\n      <th></th>\n      <th>FILE_ID</th>\n      <th>DSM_IV_TR</th>\n      <th>DX_GROUP</th>\n    </tr>\n  </thead>\n  <tbody>\n    <tr>\n      <th>0</th>\n      <td>Pitt_0050002</td>\n      <td>1</td>\n      <td>1</td>\n    </tr>\n    <tr>\n      <th>1</th>\n      <td>Pitt_0050003</td>\n      <td>1</td>\n      <td>1</td>\n    </tr>\n    <tr>\n      <th>2</th>\n      <td>Pitt_0050004</td>\n      <td>1</td>\n      <td>1</td>\n    </tr>\n    <tr>\n      <th>3</th>\n      <td>Pitt_0050005</td>\n      <td>1</td>\n      <td>1</td>\n    </tr>\n    <tr>\n      <th>4</th>\n      <td>Pitt_0050006</td>\n      <td>1</td>\n      <td>1</td>\n    </tr>\n  </tbody>\n</table>\n</div>"
     },
     "execution_count": 5,
     "metadata": {},
     "output_type": "execute_result"
    }
   ],
   "source": [
    "df= df.loc[:,['FILE_ID','DSM_IV_TR','DX_GROUP']] # these columns are needed, the file ID and the two targets, binary: DX_Group, and Multi Class DSM_IV_TR\n",
    "df.head()"
   ],
   "metadata": {
    "collapsed": false,
    "pycharm": {
     "name": "#%%\n"
    }
   }
  },
  {
   "cell_type": "markdown",
   "source": [
    "#### Target Classes\n",
    "##### Binary : `DX_GROUP`\n",
    "- 1: Autism\n",
    "- 2: Control\n",
    "\n",
    "##### Multi-class: `DSM_IV_TR`\n",
    "- 0: Control\n",
    "- 1: Autism\n",
    "- 2: Aspergers\n",
    "- 3: PDD-NOS (Pervasive Developmental Disorder-Not Otherwise Specified)\n",
    "- 4: Aspergers or PDD-NOS"
   ],
   "metadata": {
    "collapsed": false
   }
  },
  {
   "cell_type": "code",
   "execution_count": 6,
   "outputs": [],
   "source": [
    "bin_labels = ['Autism','Control']\n",
    "mult_labels = ['Nan','Control','Autism','Aspergers', 'PDD-NOS','Aspergers/PDD']"
   ],
   "metadata": {
    "collapsed": false,
    "pycharm": {
     "name": "#%%\n"
    }
   }
  },
  {
   "cell_type": "code",
   "execution_count": 7,
   "outputs": [
    {
     "data": {
      "text/plain": "<Figure size 640x480 with 2 Axes>",
      "image/png": "[encoded data removed]"
     },
     "metadata": {},
     "output_type": "display_data"
    }
   ],
   "source": [
    "fig, (ax0,ax1) = plt.subplots(nrows=1,ncols=2)\n",
    "sns.countplot(df, x = 'DX_GROUP', ax=ax0)\n",
    "sns.countplot(df, x = 'DSM_IV_TR', ax=ax1)\n",
    "plt.show()\n",
    "plt.show()"
   ],
   "metadata": {
    "collapsed": false,
    "pycharm": {
     "name": "#%%\n"
    }
   }
  },
  {
   "cell_type": "markdown",
   "source": [
    "Target classes are balanced, a 0.2 train/test split will be carried out using scikit-learn's train_test_split module\n",
    "The multi-class labels are problematic the -9999 class is not mentioned in the ABIDE dataset details, and the classes are heavily unbalanced."
   ],
   "metadata": {
    "collapsed": false
   }
  },
  {
   "cell_type": "markdown",
   "source": [
    "### What's happening with -9999 in DSM_IV_TR?"
   ],
   "metadata": {
    "collapsed": false
   }
  },
  {
   "cell_type": "code",
   "execution_count": 8,
   "outputs": [],
   "source": [
    "check_df = df[['FILE_ID','DX_GROUP', 'DSM_IV_TR']]"
   ],
   "metadata": {
    "collapsed": false,
    "pycharm": {
     "name": "#%%\n"
    }
   }
  },
  {
   "cell_type": "code",
   "execution_count": 9,
   "outputs": [
    {
     "data": {
      "text/plain": "'Pitt_0050002'"
     },
     "execution_count": 9,
     "metadata": {},
     "output_type": "execute_result"
    }
   ],
   "source": [
    "check_df.loc[0, 'FILE_ID']"
   ],
   "metadata": {
    "collapsed": false,
    "pycharm": {
     "name": "#%%\n"
    }
   }
  },
  {
   "cell_type": "code",
   "execution_count": 10,
   "outputs": [
    {
     "data": {
      "text/plain": "8"
     },
     "execution_count": 10,
     "metadata": {},
     "output_type": "execute_result"
    }
   ],
   "source": [
    "len('_0050002') #length of subject id string"
   ],
   "metadata": {
    "collapsed": false,
    "pycharm": {
     "name": "#%%\n"
    }
   }
  },
  {
   "cell_type": "code",
   "execution_count": 11,
   "outputs": [
    {
     "name": "stderr",
     "output_type": "stream",
     "text": [
      "/var/folders/0k/w62sf0c17hs15h730mmdkmj40000gn/T/ipykernel_5576/3830846138.py:3: SettingWithCopyWarning: \n",
      "A value is trying to be set on a copy of a slice from a DataFrame.\n",
      "Try using .loc[row_indexer,col_indexer] = value instead\n",
      "\n",
      "See the caveats in the documentation: https://pandas.pydata.org/pandas-docs/stable/user_guide/indexing.html#returning-a-view-versus-a-copy\n",
      "  non_standard['SITE'] = site # add site ids to the non_stadard dataframe\n"
     ]
    },
    {
     "data": {
      "text/plain": "              FILE_ID  DX_GROUP  DSM_IV_TR      SITE\n93       OHSU_0050142         1      -9999      OHSU\n94       OHSU_0050143         1      -9999      OHSU\n95       OHSU_0050144         1      -9999      OHSU\n96       OHSU_0050145         1      -9999      OHSU\n97       OHSU_0050146         1      -9999      OHSU\n..                ...       ...        ...       ...\n873  Stanford_0051195         2      -9999  Stanford\n874  Stanford_0051196         2      -9999  Stanford\n875  Stanford_0051197         2      -9999  Stanford\n876  Stanford_0051198         2      -9999  Stanford\n877  Stanford_0051199         2      -9999  Stanford\n\n[72 rows x 4 columns]",
      "text/html": "<div>\n<style scoped>\n    .dataframe tbody tr th:only-of-type {\n        vertical-align: middle;\n    }\n\n    .dataframe tbody tr th {\n        vertical-align: top;\n    }\n\n    .dataframe thead th {\n        text-align: right;\n    }\n</style>\n<table border=\"1\" class=\"dataframe\">\n  <thead>\n    <tr style=\"text-align: right;\">\n      <th></th>\n      <th>FILE_ID</th>\n      <th>DX_GROUP</th>\n      <th>DSM_IV_TR</th>\n      <th>SITE</th>\n    </tr>\n  </thead>\n  <tbody>\n    <tr>\n      <th>93</th>\n      <td>OHSU_0050142</td>\n      <td>1</td>\n      <td>-9999</td>\n      <td>OHSU</td>\n    </tr>\n    <tr>\n      <th>94</th>\n      <td>OHSU_0050143</td>\n      <td>1</td>\n      <td>-9999</td>\n      <td>OHSU</td>\n    </tr>\n    <tr>\n      <th>95</th>\n      <td>OHSU_0050144</td>\n      <td>1</td>\n      <td>-9999</td>\n      <td>OHSU</td>\n    </tr>\n    <tr>\n      <th>96</th>\n      <td>OHSU_0050145</td>\n      <td>1</td>\n      <td>-9999</td>\n      <td>OHSU</td>\n    </tr>\n    <tr>\n      <th>97</th>\n      <td>OHSU_0050146</td>\n      <td>1</td>\n      <td>-9999</td>\n      <td>OHSU</td>\n    </tr>\n    <tr>\n      <th>...</th>\n      <td>...</td>\n      <td>...</td>\n      <td>...</td>\n      <td>...</td>\n    </tr>\n    <tr>\n      <th>873</th>\n      <td>Stanford_0051195</td>\n      <td>2</td>\n      <td>-9999</td>\n      <td>Stanford</td>\n    </tr>\n    <tr>\n      <th>874</th>\n      <td>Stanford_0051196</td>\n      <td>2</td>\n      <td>-9999</td>\n      <td>Stanford</td>\n    </tr>\n    <tr>\n      <th>875</th>\n      <td>Stanford_0051197</td>\n      <td>2</td>\n      <td>-9999</td>\n      <td>Stanford</td>\n    </tr>\n    <tr>\n      <th>876</th>\n      <td>Stanford_0051198</td>\n      <td>2</td>\n      <td>-9999</td>\n      <td>Stanford</td>\n    </tr>\n    <tr>\n      <th>877</th>\n      <td>Stanford_0051199</td>\n      <td>2</td>\n      <td>-9999</td>\n      <td>Stanford</td>\n    </tr>\n  </tbody>\n</table>\n<p>72 rows × 4 columns</p>\n</div>"
     },
     "execution_count": 11,
     "metadata": {},
     "output_type": "execute_result"
    }
   ],
   "source": [
    "non_standard = check_df[check_df[\"DSM_IV_TR\"]== -9999]\n",
    "site = [file[:-8] for file in non_standard['FILE_ID']] # remove subject id from file id leaving site id\n",
    "non_standard['SITE'] = site # add site ids to the non_stadard dataframe\n",
    "non_standard"
   ],
   "metadata": {
    "collapsed": false,
    "pycharm": {
     "name": "#%%\n"
    }
   }
  },
  {
   "cell_type": "code",
   "execution_count": 12,
   "outputs": [
    {
     "data": {
      "text/plain": "<Figure size 1000x500 with 2 Axes>",
      "image/png": "[encoded data removed]"
     },
     "metadata": {},
     "output_type": "display_data"
    }
   ],
   "source": [
    "fig, (ax0,ax1) = plt.subplots(nrows=1, ncols=2, figsize=(10, 5))\n",
    "sns.countplot(non_standard, x = 'SITE', ax =ax0) # number of non_standard entries in each site\n",
    "sns.countplot(non_standard, x = 'DX_GROUP', ax =ax1)\n",
    "plt.show()"
   ],
   "metadata": {
    "collapsed": false,
    "pycharm": {
     "name": "#%%\n"
    }
   }
  },
  {
   "cell_type": "markdown",
   "source": [],
   "metadata": {
    "collapsed": false
   }
  },
  {
   "cell_type": "code",
   "execution_count": 13,
   "outputs": [],
   "source": [
    "non_standard_path = os.path.join(pheno_dir, 'multiclass_ns.csv') # save path for the non_standard file, save as multiclass_ns.csv\n",
    "non_standard.to_csv(non_standard_path, index= False)"
   ],
   "metadata": {
    "collapsed": false,
    "pycharm": {
     "name": "#%%\n"
    }
   }
  },
  {
   "cell_type": "markdown",
   "source": [
    "## Splitting data with no null values"
   ],
   "metadata": {
    "collapsed": false
   }
  },
  {
   "cell_type": "code",
   "execution_count": 14,
   "outputs": [],
   "source": [
    "# import the phenotype file with no null value timeseries data from cc200 atlas\n",
    "nn_path = os.path.join(pheno_dir, 'pheno_nn.csv')\n",
    "nn_df = pd.read_csv(nn_path)"
   ],
   "metadata": {
    "collapsed": false,
    "pycharm": {
     "name": "#%%\n"
    }
   }
  },
  {
   "cell_type": "code",
   "execution_count": 15,
   "outputs": [
    {
     "data": {
      "text/plain": "  SITE_ID  X  SUB_ID       FILE_ID  AGE_AT_SCAN  SEX  DSM_IV_TR  DX_GROUP\n0    PITT  1   50002  Pitt_0050002        16.77    1          1         1\n1    PITT  2   50003  Pitt_0050003        24.45    1          1         1\n2    PITT  3   50004  Pitt_0050004        19.09    1          1         1\n3    PITT  4   50005  Pitt_0050005        13.73    2          1         1\n4    PITT  5   50006  Pitt_0050006        13.37    1          1         1",
      "text/html": "<div>\n<style scoped>\n    .dataframe tbody tr th:only-of-type {\n        vertical-align: middle;\n    }\n\n    .dataframe tbody tr th {\n        vertical-align: top;\n    }\n\n    .dataframe thead th {\n        text-align: right;\n    }\n</style>\n<table border=\"1\" class=\"dataframe\">\n  <thead>\n    <tr style=\"text-align: right;\">\n      <th></th>\n      <th>SITE_ID</th>\n      <th>X</th>\n      <th>SUB_ID</th>\n      <th>FILE_ID</th>\n      <th>AGE_AT_SCAN</th>\n      <th>SEX</th>\n      <th>DSM_IV_TR</th>\n      <th>DX_GROUP</th>\n    </tr>\n  </thead>\n  <tbody>\n    <tr>\n      <th>0</th>\n      <td>PITT</td>\n      <td>1</td>\n      <td>50002</td>\n      <td>Pitt_0050002</td>\n      <td>16.77</td>\n      <td>1</td>\n      <td>1</td>\n      <td>1</td>\n    </tr>\n    <tr>\n      <th>1</th>\n      <td>PITT</td>\n      <td>2</td>\n      <td>50003</td>\n      <td>Pitt_0050003</td>\n      <td>24.45</td>\n      <td>1</td>\n      <td>1</td>\n      <td>1</td>\n    </tr>\n    <tr>\n      <th>2</th>\n      <td>PITT</td>\n      <td>3</td>\n      <td>50004</td>\n      <td>Pitt_0050004</td>\n      <td>19.09</td>\n      <td>1</td>\n      <td>1</td>\n      <td>1</td>\n    </tr>\n    <tr>\n      <th>3</th>\n      <td>PITT</td>\n      <td>4</td>\n      <td>50005</td>\n      <td>Pitt_0050005</td>\n      <td>13.73</td>\n      <td>2</td>\n      <td>1</td>\n      <td>1</td>\n    </tr>\n    <tr>\n      <th>4</th>\n      <td>PITT</td>\n      <td>5</td>\n      <td>50006</td>\n      <td>Pitt_0050006</td>\n      <td>13.37</td>\n      <td>1</td>\n      <td>1</td>\n      <td>1</td>\n    </tr>\n  </tbody>\n</table>\n</div>"
     },
     "execution_count": 15,
     "metadata": {},
     "output_type": "execute_result"
    }
   ],
   "source": [
    "nn_df.head()"
   ],
   "metadata": {
    "collapsed": false,
    "pycharm": {
     "name": "#%%\n"
    }
   }
  },
  {
   "cell_type": "code",
   "execution_count": 16,
   "outputs": [
    {
     "name": "stdout",
     "output_type": "stream",
     "text": [
      "<class 'pandas.core.frame.DataFrame'>\n",
      "RangeIndex: 1026 entries, 0 to 1025\n",
      "Data columns (total 8 columns):\n",
      " #   Column       Non-Null Count  Dtype  \n",
      "---  ------       --------------  -----  \n",
      " 0   SITE_ID      1026 non-null   object \n",
      " 1   X            1026 non-null   int64  \n",
      " 2   SUB_ID       1026 non-null   int64  \n",
      " 3   FILE_ID      1026 non-null   object \n",
      " 4   AGE_AT_SCAN  1026 non-null   float64\n",
      " 5   SEX          1026 non-null   int64  \n",
      " 6   DSM_IV_TR    1026 non-null   int64  \n",
      " 7   DX_GROUP     1026 non-null   int64  \n",
      "dtypes: float64(1), int64(5), object(2)\n",
      "memory usage: 64.2+ KB\n"
     ]
    }
   ],
   "source": [
    "nn_df.info()"
   ],
   "metadata": {
    "collapsed": false,
    "pycharm": {
     "name": "#%%\n"
    }
   }
  },
  {
   "cell_type": "code",
   "execution_count": 17,
   "outputs": [],
   "source": [
    "nn_df= nn_df.loc[:,['SUB_ID','FILE_ID','DX_GROUP']]"
   ],
   "metadata": {
    "collapsed": false,
    "pycharm": {
     "name": "#%%\n"
    }
   }
  },
  {
   "cell_type": "code",
   "execution_count": 18,
   "outputs": [
    {
     "data": {
      "text/plain": "<Figure size 500x500 with 1 Axes>",
      "image/png": "[encoded data removed]"
     },
     "metadata": {},
     "output_type": "display_data"
    }
   ],
   "source": [
    "plt.figure(figsize=(5,5))\n",
    "sns.countplot(nn_df, x = 'DX_GROUP')\n",
    "plt.show()"
   ],
   "metadata": {
    "collapsed": false,
    "pycharm": {
     "name": "#%%\n"
    }
   }
  },
  {
   "cell_type": "markdown",
   "source": [
    "The removal of subjects with null values did not seem to unduly affect the ratio between the two diagnostic classes"
   ],
   "metadata": {
    "collapsed": false
   }
  }
 ],
 "metadata": {
  "kernelspec": {
   "display_name": "Python 3",
   "language": "python",
   "name": "python3"
  },
  "language_info": {
   "codemirror_mode": {
    "name": "ipython",
    "version": 2
   },
   "file_extension": ".py",
   "mimetype": "text/x-python",
   "name": "python",
   "nbconvert_exporter": "python",
   "pygments_lexer": "ipython2",
   "version": "2.7.6"
  }
 },
 "nbformat": 4,
 "nbformat_minor": 0
}