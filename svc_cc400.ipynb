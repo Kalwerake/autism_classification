{
 "cells": [
  {
   "cell_type": "code",
   "execution_count": 2,
   "outputs": [],
   "source": [
    "import pandas as pd\n",
    "\n",
    "from sklearn.model_selection import StratifiedShuffleSplit, cross_val_score, cross_validate\n",
    "from sklearn.metrics import accuracy_score\n",
    "import numpy as np\n",
    "import os\n",
    "import matplotlib.pyplot as plt\n",
    "import seaborn as sns\n",
    "from sklearn.decomposition import PCA\n",
    "from sklearn.decomposition import KernelPCA\n",
    "from sklearn.ensemble import RandomForestClassifier\n",
    "from boruta import BorutaPy\n",
    "from sklearn.svm import SVC\n",
    "from sklearn.model_selection import train_test_split\n",
    "import pickle\n",
    "import xgboost as xgb\n",
    "\n",
    "\n",
    "import matplotlib.pyplot as plt\n",
    "from sklearn.inspection import permutation_importance\n",
    "from sklearn.metrics import make_scorer, accuracy_score, precision_score, recall_score, f1_score\n",
    "from sklearn.metrics import confusion_matrix\n",
    "import itertools"
   ],
   "metadata": {
    "collapsed": false,
    "pycharm": {
     "name": "#%%\n"
    }
   }
  },
  {
   "cell_type": "markdown",
   "source": [
    "## SVC on cc400\n",
    "Hyperparemeter tuning and feature importance analysis"
   ],
   "metadata": {
    "collapsed": false
   }
  },
  {
   "cell_type": "code",
   "execution_count": 3,
   "outputs": [],
   "source": [
    "# load filtered cc400 fc dataset\n",
    "df = pd.read_csv('/Users/admin/Documents/MscProject/vectorised/fc_cc400_filtered.csv')"
   ],
   "metadata": {
    "collapsed": false,
    "pycharm": {
     "name": "#%%\n"
    }
   }
  },
  {
   "cell_type": "code",
   "execution_count": 4,
   "outputs": [
    {
     "data": {
      "text/plain": "    #5-#185   #5-#233   #5-#398   #8-#227    #9-#56   #10-#18  #10-#136  \\\n0 -0.465351 -0.038908 -0.303455  0.061997  0.285353 -0.302591 -0.575635   \n1 -0.009303  0.247179  0.019453 -0.089782  0.118145  0.045821 -0.036047   \n2 -0.131458  0.072728  0.090999  0.324135  0.235671 -0.226198 -0.300777   \n3  0.155183  0.077839  0.129694 -0.299517  0.191523 -0.196390 -0.279142   \n4 -0.005694 -0.116649  0.046553 -0.101360 -0.211751  0.016708 -0.093205   \n\n   #10-#242  #10-#398   #11-#84  ...  #314-#398  #319-#350  #321-#351  \\\n0  0.093608 -0.311941  0.502320  ...   0.105564   0.281348  -0.078890   \n1  0.138405  0.046357  0.364785  ...   0.006089   0.052901  -0.005255   \n2  0.442815 -0.039074  0.477168  ...  -0.112499  -0.089670  -0.184399   \n3  0.075303  0.181871  0.709533  ...   0.117378  -0.332721  -0.203306   \n4  0.279462  0.240016  0.256403  ...   0.069215  -0.025669  -0.043941   \n\n   #322-#367  #327-#389  #327-#399  #339-#365  #347-#389  #361-#372  DX_GROUP  \n0   0.431270  -0.367768   0.088068   0.272958  -0.402212   0.349068         1  \n1   0.166180   0.029733  -0.006374   0.513472   0.115737   0.519810         1  \n2   0.130349   0.320956   0.134839   0.131533  -0.027364   0.234810         1  \n3   0.292701   0.187288  -0.461183   0.044323  -0.016915   0.198380         1  \n4   0.474094   0.048160  -0.178296   0.238861  -0.083691  -0.080434         1  \n\n[5 rows x 261 columns]",
      "text/html": "<div>\n<style scoped>\n    .dataframe tbody tr th:only-of-type {\n        vertical-align: middle;\n    }\n\n    .dataframe tbody tr th {\n        vertical-align: top;\n    }\n\n    .dataframe thead th {\n        text-align: right;\n    }\n</style>\n<table border=\"1\" class=\"dataframe\">\n  <thead>\n    <tr style=\"text-align: right;\">\n      <th></th>\n      <th>#5-#185</th>\n      <th>#5-#233</th>\n      <th>#5-#398</th>\n      <th>#8-#227</th>\n      <th>#9-#56</th>\n      <th>#10-#18</th>\n      <th>#10-#136</th>\n      <th>#10-#242</th>\n      <th>#10-#398</th>\n      <th>#11-#84</th>\n      <th>...</th>\n      <th>#314-#398</th>\n      <th>#319-#350</th>\n      <th>#321-#351</th>\n      <th>#322-#367</th>\n      <th>#327-#389</th>\n      <th>#327-#399</th>\n      <th>#339-#365</th>\n      <th>#347-#389</th>\n      <th>#361-#372</th>\n      <th>DX_GROUP</th>\n    </tr>\n  </thead>\n  <tbody>\n    <tr>\n      <th>0</th>\n      <td>-0.465351</td>\n      <td>-0.038908</td>\n      <td>-0.303455</td>\n      <td>0.061997</td>\n      <td>0.285353</td>\n      <td>-0.302591</td>\n      <td>-0.575635</td>\n      <td>0.093608</td>\n      <td>-0.311941</td>\n      <td>0.502320</td>\n      <td>...</td>\n      <td>0.105564</td>\n      <td>0.281348</td>\n      <td>-0.078890</td>\n      <td>0.431270</td>\n      <td>-0.367768</td>\n      <td>0.088068</td>\n      <td>0.272958</td>\n      <td>-0.402212</td>\n      <td>0.349068</td>\n      <td>1</td>\n    </tr>\n    <tr>\n      <th>1</th>\n      <td>-0.009303</td>\n      <td>0.247179</td>\n      <td>0.019453</td>\n      <td>-0.089782</td>\n      <td>0.118145</td>\n      <td>0.045821</td>\n      <td>-0.036047</td>\n      <td>0.138405</td>\n      <td>0.046357</td>\n      <td>0.364785</td>\n      <td>...</td>\n      <td>0.006089</td>\n      <td>0.052901</td>\n      <td>-0.005255</td>\n      <td>0.166180</td>\n      <td>0.029733</td>\n      <td>-0.006374</td>\n      <td>0.513472</td>\n      <td>0.115737</td>\n      <td>0.519810</td>\n      <td>1</td>\n    </tr>\n    <tr>\n      <th>2</th>\n      <td>-0.131458</td>\n      <td>0.072728</td>\n      <td>0.090999</td>\n      <td>0.324135</td>\n      <td>0.235671</td>\n      <td>-0.226198</td>\n      <td>-0.300777</td>\n      <td>0.442815</td>\n      <td>-0.039074</td>\n      <td>0.477168</td>\n      <td>...</td>\n      <td>-0.112499</td>\n      <td>-0.089670</td>\n      <td>-0.184399</td>\n      <td>0.130349</td>\n      <td>0.320956</td>\n      <td>0.134839</td>\n      <td>0.131533</td>\n      <td>-0.027364</td>\n      <td>0.234810</td>\n      <td>1</td>\n    </tr>\n    <tr>\n      <th>3</th>\n      <td>0.155183</td>\n      <td>0.077839</td>\n      <td>0.129694</td>\n      <td>-0.299517</td>\n      <td>0.191523</td>\n      <td>-0.196390</td>\n      <td>-0.279142</td>\n      <td>0.075303</td>\n      <td>0.181871</td>\n      <td>0.709533</td>\n      <td>...</td>\n      <td>0.117378</td>\n      <td>-0.332721</td>\n      <td>-0.203306</td>\n      <td>0.292701</td>\n      <td>0.187288</td>\n      <td>-0.461183</td>\n      <td>0.044323</td>\n      <td>-0.016915</td>\n      <td>0.198380</td>\n      <td>1</td>\n    </tr>\n    <tr>\n      <th>4</th>\n      <td>-0.005694</td>\n      <td>-0.116649</td>\n      <td>0.046553</td>\n      <td>-0.101360</td>\n      <td>-0.211751</td>\n      <td>0.016708</td>\n      <td>-0.093205</td>\n      <td>0.279462</td>\n      <td>0.240016</td>\n      <td>0.256403</td>\n      <td>...</td>\n      <td>0.069215</td>\n      <td>-0.025669</td>\n      <td>-0.043941</td>\n      <td>0.474094</td>\n      <td>0.048160</td>\n      <td>-0.178296</td>\n      <td>0.238861</td>\n      <td>-0.083691</td>\n      <td>-0.080434</td>\n      <td>1</td>\n    </tr>\n  </tbody>\n</table>\n<p>5 rows × 261 columns</p>\n</div>"
     },
     "execution_count": 4,
     "metadata": {},
     "output_type": "execute_result"
    }
   ],
   "source": [
    "df.head()"
   ],
   "metadata": {
    "collapsed": false,
    "pycharm": {
     "name": "#%%\n"
    }
   }
  },
  {
   "cell_type": "code",
   "execution_count": 260,
   "outputs": [],
   "source": [
    "# isolate X and 7\n",
    "X = df.iloc[:, :-1]\n",
    "y = df.iloc[:,-1]\n",
    "\n",
    "X_train, X_val, y_train, y_val = train_test_split(X, y, test_size=0.20, random_state=0,shuffle=True )"
   ],
   "metadata": {
    "collapsed": false,
    "pycharm": {
     "name": "#%%\n"
    }
   }
  },
  {
   "cell_type": "code",
   "execution_count": 261,
   "outputs": [],
   "source": [
    "\n",
    "classifier = SVC(kernel='rbf').fit(X_train, y_train)\n",
    "    # make predictions for the left-out test subjects\n",
    "predictions = classifier.predict(X_val)\n",
    "\n",
    "score = accuracy_score(y_val, predictions)\n"
   ],
   "metadata": {
    "collapsed": false,
    "pycharm": {
     "name": "#%%\n"
    }
   }
  },
  {
   "cell_type": "code",
   "execution_count": 262,
   "outputs": [
    {
     "data": {
      "text/plain": "0.7894736842105263"
     },
     "execution_count": 262,
     "metadata": {},
     "output_type": "execute_result"
    }
   ],
   "source": [
    "score"
   ],
   "metadata": {
    "collapsed": false,
    "pycharm": {
     "name": "#%%\n"
    }
   }
  },
  {
   "cell_type": "code",
   "execution_count": 187,
   "outputs": [
    {
     "data": {
      "text/plain": "{'C': 1.0,\n 'break_ties': False,\n 'cache_size': 200,\n 'class_weight': None,\n 'coef0': 0.0,\n 'decision_function_shape': 'ovr',\n 'degree': 3,\n 'gamma': 'scale',\n 'kernel': 'rbf',\n 'max_iter': -1,\n 'probability': False,\n 'random_state': None,\n 'shrinking': True,\n 'tol': 0.001,\n 'verbose': False}"
     },
     "execution_count": 187,
     "metadata": {},
     "output_type": "execute_result"
    }
   ],
   "source": [
    "# get parameters of svc model\n",
    "classifier.get_params()"
   ],
   "metadata": {
    "collapsed": false,
    "pycharm": {
     "name": "#%%\n"
    }
   }
  },
  {
   "cell_type": "code",
   "execution_count": 263,
   "outputs": [
    {
     "name": "stdout",
     "output_type": "stream",
     "text": [
      "Fitting 5 folds for each of 30 candidates, totalling 150 fits\n",
      "[CV 1/5] END .......C=0.1, gamma=23, kernel=rbf;, score=0.513 total time=   0.1s\n",
      "[CV 2/5] END .......C=0.1, gamma=23, kernel=rbf;, score=0.520 total time=   0.1s\n",
      "[CV 3/5] END .......C=0.1, gamma=23, kernel=rbf;, score=0.520 total time=   0.1s\n",
      "[CV 4/5] END .......C=0.1, gamma=23, kernel=rbf;, score=0.520 total time=   0.1s\n",
      "[CV 5/5] END .......C=0.1, gamma=23, kernel=rbf;, score=0.517 total time=   0.1s\n",
      "[CV 1/5] END ....C=0.1, gamma=23, kernel=linear;, score=0.796 total time=   0.0s\n",
      "[CV 2/5] END ....C=0.1, gamma=23, kernel=linear;, score=0.789 total time=   0.0s\n",
      "[CV 3/5] END ....C=0.1, gamma=23, kernel=linear;, score=0.796 total time=   0.0s\n",
      "[CV 4/5] END ....C=0.1, gamma=23, kernel=linear;, score=0.803 total time=   0.0s\n",
      "[CV 5/5] END ....C=0.1, gamma=23, kernel=linear;, score=0.748 total time=   0.0s\n",
      "[CV 1/5] END .......C=0.1, gamma=60, kernel=rbf;, score=0.513 total time=   0.1s\n",
      "[CV 2/5] END .......C=0.1, gamma=60, kernel=rbf;, score=0.520 total time=   0.1s\n",
      "[CV 3/5] END .......C=0.1, gamma=60, kernel=rbf;, score=0.520 total time=   0.1s\n",
      "[CV 4/5] END .......C=0.1, gamma=60, kernel=rbf;, score=0.520 total time=   0.1s\n",
      "[CV 5/5] END .......C=0.1, gamma=60, kernel=rbf;, score=0.517 total time=   0.1s\n",
      "[CV 1/5] END ....C=0.1, gamma=60, kernel=linear;, score=0.796 total time=   0.0s\n",
      "[CV 2/5] END ....C=0.1, gamma=60, kernel=linear;, score=0.789 total time=   0.0s\n",
      "[CV 3/5] END ....C=0.1, gamma=60, kernel=linear;, score=0.796 total time=   0.0s\n",
      "[CV 4/5] END ....C=0.1, gamma=60, kernel=linear;, score=0.803 total time=   0.0s\n",
      "[CV 5/5] END ....C=0.1, gamma=60, kernel=linear;, score=0.748 total time=   0.0s\n",
      "[CV 1/5] END ....C=0.1, gamma=scale, kernel=rbf;, score=0.757 total time=   0.1s\n",
      "[CV 2/5] END ....C=0.1, gamma=scale, kernel=rbf;, score=0.724 total time=   0.1s\n",
      "[CV 3/5] END ....C=0.1, gamma=scale, kernel=rbf;, score=0.757 total time=   0.1s\n",
      "[CV 4/5] END ....C=0.1, gamma=scale, kernel=rbf;, score=0.717 total time=   0.1s\n",
      "[CV 5/5] END ....C=0.1, gamma=scale, kernel=rbf;, score=0.742 total time=   0.1s\n",
      "[CV 1/5] END .C=0.1, gamma=scale, kernel=linear;, score=0.796 total time=   0.1s\n",
      "[CV 2/5] END .C=0.1, gamma=scale, kernel=linear;, score=0.789 total time=   0.0s\n",
      "[CV 3/5] END .C=0.1, gamma=scale, kernel=linear;, score=0.796 total time=   0.0s\n",
      "[CV 4/5] END .C=0.1, gamma=scale, kernel=linear;, score=0.803 total time=   0.0s\n",
      "[CV 5/5] END .C=0.1, gamma=scale, kernel=linear;, score=0.748 total time=   0.0s\n",
      "[CV 1/5] END .......C=0.7, gamma=23, kernel=rbf;, score=0.513 total time=   0.1s\n",
      "[CV 2/5] END .......C=0.7, gamma=23, kernel=rbf;, score=0.520 total time=   0.1s\n",
      "[CV 3/5] END .......C=0.7, gamma=23, kernel=rbf;, score=0.520 total time=   0.1s\n",
      "[CV 4/5] END .......C=0.7, gamma=23, kernel=rbf;, score=0.520 total time=   0.1s\n",
      "[CV 5/5] END .......C=0.7, gamma=23, kernel=rbf;, score=0.517 total time=   0.1s\n",
      "[CV 1/5] END ....C=0.7, gamma=23, kernel=linear;, score=0.783 total time=   0.0s\n",
      "[CV 2/5] END ....C=0.7, gamma=23, kernel=linear;, score=0.757 total time=   0.1s\n",
      "[CV 3/5] END ....C=0.7, gamma=23, kernel=linear;, score=0.757 total time=   0.0s\n",
      "[CV 4/5] END ....C=0.7, gamma=23, kernel=linear;, score=0.770 total time=   0.0s\n",
      "[CV 5/5] END ....C=0.7, gamma=23, kernel=linear;, score=0.715 total time=   0.1s\n",
      "[CV 1/5] END .......C=0.7, gamma=60, kernel=rbf;, score=0.513 total time=   0.1s\n",
      "[CV 2/5] END .......C=0.7, gamma=60, kernel=rbf;, score=0.520 total time=   0.1s\n",
      "[CV 3/5] END .......C=0.7, gamma=60, kernel=rbf;, score=0.520 total time=   0.1s\n",
      "[CV 4/5] END .......C=0.7, gamma=60, kernel=rbf;, score=0.520 total time=   0.1s\n",
      "[CV 5/5] END .......C=0.7, gamma=60, kernel=rbf;, score=0.517 total time=   0.1s\n",
      "[CV 1/5] END ....C=0.7, gamma=60, kernel=linear;, score=0.783 total time=   0.0s\n",
      "[CV 2/5] END ....C=0.7, gamma=60, kernel=linear;, score=0.757 total time=   0.0s\n",
      "[CV 3/5] END ....C=0.7, gamma=60, kernel=linear;, score=0.757 total time=   0.0s\n",
      "[CV 4/5] END ....C=0.7, gamma=60, kernel=linear;, score=0.770 total time=   0.0s\n",
      "[CV 5/5] END ....C=0.7, gamma=60, kernel=linear;, score=0.715 total time=   0.0s\n",
      "[CV 1/5] END ....C=0.7, gamma=scale, kernel=rbf;, score=0.809 total time=   0.1s\n",
      "[CV 2/5] END ....C=0.7, gamma=scale, kernel=rbf;, score=0.796 total time=   0.1s\n",
      "[CV 3/5] END ....C=0.7, gamma=scale, kernel=rbf;, score=0.809 total time=   0.1s\n",
      "[CV 4/5] END ....C=0.7, gamma=scale, kernel=rbf;, score=0.783 total time=   0.1s\n",
      "[CV 5/5] END ....C=0.7, gamma=scale, kernel=rbf;, score=0.775 total time=   0.1s\n",
      "[CV 1/5] END .C=0.7, gamma=scale, kernel=linear;, score=0.783 total time=   0.0s\n",
      "[CV 2/5] END .C=0.7, gamma=scale, kernel=linear;, score=0.757 total time=   0.0s\n",
      "[CV 3/5] END .C=0.7, gamma=scale, kernel=linear;, score=0.757 total time=   0.0s\n",
      "[CV 4/5] END .C=0.7, gamma=scale, kernel=linear;, score=0.770 total time=   0.0s\n",
      "[CV 5/5] END .C=0.7, gamma=scale, kernel=linear;, score=0.715 total time=   0.0s\n",
      "[CV 1/5] END .........C=1, gamma=23, kernel=rbf;, score=0.513 total time=   0.1s\n",
      "[CV 2/5] END .........C=1, gamma=23, kernel=rbf;, score=0.520 total time=   0.1s\n",
      "[CV 3/5] END .........C=1, gamma=23, kernel=rbf;, score=0.520 total time=   0.1s\n",
      "[CV 4/5] END .........C=1, gamma=23, kernel=rbf;, score=0.520 total time=   0.1s\n",
      "[CV 5/5] END .........C=1, gamma=23, kernel=rbf;, score=0.517 total time=   0.1s\n",
      "[CV 1/5] END ......C=1, gamma=23, kernel=linear;, score=0.783 total time=   0.1s\n",
      "[CV 2/5] END ......C=1, gamma=23, kernel=linear;, score=0.730 total time=   0.0s\n",
      "[CV 3/5] END ......C=1, gamma=23, kernel=linear;, score=0.743 total time=   0.0s\n",
      "[CV 4/5] END ......C=1, gamma=23, kernel=linear;, score=0.776 total time=   0.0s\n",
      "[CV 5/5] END ......C=1, gamma=23, kernel=linear;, score=0.715 total time=   0.0s\n",
      "[CV 1/5] END .........C=1, gamma=60, kernel=rbf;, score=0.513 total time=   0.1s\n",
      "[CV 2/5] END .........C=1, gamma=60, kernel=rbf;, score=0.520 total time=   0.1s\n",
      "[CV 3/5] END .........C=1, gamma=60, kernel=rbf;, score=0.520 total time=   0.1s\n",
      "[CV 4/5] END .........C=1, gamma=60, kernel=rbf;, score=0.520 total time=   0.1s\n",
      "[CV 5/5] END .........C=1, gamma=60, kernel=rbf;, score=0.517 total time=   0.1s\n",
      "[CV 1/5] END ......C=1, gamma=60, kernel=linear;, score=0.783 total time=   0.1s\n",
      "[CV 2/5] END ......C=1, gamma=60, kernel=linear;, score=0.730 total time=   0.1s\n",
      "[CV 3/5] END ......C=1, gamma=60, kernel=linear;, score=0.743 total time=   0.1s\n",
      "[CV 4/5] END ......C=1, gamma=60, kernel=linear;, score=0.776 total time=   0.0s\n",
      "[CV 5/5] END ......C=1, gamma=60, kernel=linear;, score=0.715 total time=   0.0s\n",
      "[CV 1/5] END ......C=1, gamma=scale, kernel=rbf;, score=0.803 total time=   0.1s\n",
      "[CV 2/5] END ......C=1, gamma=scale, kernel=rbf;, score=0.809 total time=   0.1s\n",
      "[CV 3/5] END ......C=1, gamma=scale, kernel=rbf;, score=0.822 total time=   0.1s\n",
      "[CV 4/5] END ......C=1, gamma=scale, kernel=rbf;, score=0.789 total time=   0.1s\n",
      "[CV 5/5] END ......C=1, gamma=scale, kernel=rbf;, score=0.768 total time=   0.1s\n",
      "[CV 1/5] END ...C=1, gamma=scale, kernel=linear;, score=0.783 total time=   0.1s\n",
      "[CV 2/5] END ...C=1, gamma=scale, kernel=linear;, score=0.730 total time=   0.0s\n",
      "[CV 3/5] END ...C=1, gamma=scale, kernel=linear;, score=0.743 total time=   0.1s\n",
      "[CV 4/5] END ...C=1, gamma=scale, kernel=linear;, score=0.776 total time=   0.1s\n",
      "[CV 5/5] END ...C=1, gamma=scale, kernel=linear;, score=0.715 total time=   0.1s\n",
      "[CV 1/5] END .........C=2, gamma=23, kernel=rbf;, score=0.513 total time=   0.1s\n",
      "[CV 2/5] END .........C=2, gamma=23, kernel=rbf;, score=0.520 total time=   0.1s\n",
      "[CV 3/5] END .........C=2, gamma=23, kernel=rbf;, score=0.520 total time=   0.1s\n",
      "[CV 4/5] END .........C=2, gamma=23, kernel=rbf;, score=0.520 total time=   0.1s\n",
      "[CV 5/5] END .........C=2, gamma=23, kernel=rbf;, score=0.517 total time=   0.1s\n",
      "[CV 1/5] END ......C=2, gamma=23, kernel=linear;, score=0.776 total time=   0.1s\n",
      "[CV 2/5] END ......C=2, gamma=23, kernel=linear;, score=0.717 total time=   0.1s\n",
      "[CV 3/5] END ......C=2, gamma=23, kernel=linear;, score=0.711 total time=   0.1s\n",
      "[CV 4/5] END ......C=2, gamma=23, kernel=linear;, score=0.776 total time=   0.1s\n",
      "[CV 5/5] END ......C=2, gamma=23, kernel=linear;, score=0.695 total time=   0.1s\n",
      "[CV 1/5] END .........C=2, gamma=60, kernel=rbf;, score=0.513 total time=   0.1s\n",
      "[CV 2/5] END .........C=2, gamma=60, kernel=rbf;, score=0.520 total time=   0.1s\n",
      "[CV 3/5] END .........C=2, gamma=60, kernel=rbf;, score=0.520 total time=   0.1s\n",
      "[CV 4/5] END .........C=2, gamma=60, kernel=rbf;, score=0.520 total time=   0.1s\n",
      "[CV 5/5] END .........C=2, gamma=60, kernel=rbf;, score=0.517 total time=   0.1s\n",
      "[CV 1/5] END ......C=2, gamma=60, kernel=linear;, score=0.776 total time=   0.1s\n",
      "[CV 2/5] END ......C=2, gamma=60, kernel=linear;, score=0.717 total time=   0.1s\n",
      "[CV 3/5] END ......C=2, gamma=60, kernel=linear;, score=0.711 total time=   0.1s\n",
      "[CV 4/5] END ......C=2, gamma=60, kernel=linear;, score=0.776 total time=   0.1s\n",
      "[CV 5/5] END ......C=2, gamma=60, kernel=linear;, score=0.695 total time=   0.1s\n",
      "[CV 1/5] END ......C=2, gamma=scale, kernel=rbf;, score=0.803 total time=   0.1s\n",
      "[CV 2/5] END ......C=2, gamma=scale, kernel=rbf;, score=0.816 total time=   0.1s\n",
      "[CV 3/5] END ......C=2, gamma=scale, kernel=rbf;, score=0.816 total time=   0.1s\n",
      "[CV 4/5] END ......C=2, gamma=scale, kernel=rbf;, score=0.809 total time=   0.1s\n",
      "[CV 5/5] END ......C=2, gamma=scale, kernel=rbf;, score=0.795 total time=   0.1s\n",
      "[CV 1/5] END ...C=2, gamma=scale, kernel=linear;, score=0.776 total time=   0.1s\n",
      "[CV 2/5] END ...C=2, gamma=scale, kernel=linear;, score=0.717 total time=   0.1s\n",
      "[CV 3/5] END ...C=2, gamma=scale, kernel=linear;, score=0.711 total time=   0.1s\n",
      "[CV 4/5] END ...C=2, gamma=scale, kernel=linear;, score=0.776 total time=   0.1s\n",
      "[CV 5/5] END ...C=2, gamma=scale, kernel=linear;, score=0.695 total time=   0.1s\n",
      "[CV 1/5] END .......C=2.4, gamma=23, kernel=rbf;, score=0.513 total time=   0.1s\n",
      "[CV 2/5] END .......C=2.4, gamma=23, kernel=rbf;, score=0.520 total time=   0.1s\n",
      "[CV 3/5] END .......C=2.4, gamma=23, kernel=rbf;, score=0.520 total time=   0.1s\n",
      "[CV 4/5] END .......C=2.4, gamma=23, kernel=rbf;, score=0.520 total time=   0.1s\n",
      "[CV 5/5] END .......C=2.4, gamma=23, kernel=rbf;, score=0.517 total time=   0.1s\n",
      "[CV 1/5] END ....C=2.4, gamma=23, kernel=linear;, score=0.763 total time=   0.1s\n",
      "[CV 2/5] END ....C=2.4, gamma=23, kernel=linear;, score=0.711 total time=   0.1s\n",
      "[CV 3/5] END ....C=2.4, gamma=23, kernel=linear;, score=0.691 total time=   0.1s\n",
      "[CV 4/5] END ....C=2.4, gamma=23, kernel=linear;, score=0.776 total time=   0.1s\n",
      "[CV 5/5] END ....C=2.4, gamma=23, kernel=linear;, score=0.689 total time=   0.1s\n",
      "[CV 1/5] END .......C=2.4, gamma=60, kernel=rbf;, score=0.513 total time=   0.1s\n",
      "[CV 2/5] END .......C=2.4, gamma=60, kernel=rbf;, score=0.520 total time=   0.1s\n",
      "[CV 3/5] END .......C=2.4, gamma=60, kernel=rbf;, score=0.520 total time=   0.1s\n",
      "[CV 4/5] END .......C=2.4, gamma=60, kernel=rbf;, score=0.520 total time=   0.1s\n",
      "[CV 5/5] END .......C=2.4, gamma=60, kernel=rbf;, score=0.517 total time=   0.1s\n",
      "[CV 1/5] END ....C=2.4, gamma=60, kernel=linear;, score=0.763 total time=   0.1s\n",
      "[CV 2/5] END ....C=2.4, gamma=60, kernel=linear;, score=0.711 total time=   0.1s\n",
      "[CV 3/5] END ....C=2.4, gamma=60, kernel=linear;, score=0.691 total time=   0.1s\n",
      "[CV 4/5] END ....C=2.4, gamma=60, kernel=linear;, score=0.776 total time=   0.1s\n",
      "[CV 5/5] END ....C=2.4, gamma=60, kernel=linear;, score=0.689 total time=   0.1s\n",
      "[CV 1/5] END ....C=2.4, gamma=scale, kernel=rbf;, score=0.789 total time=   0.1s\n",
      "[CV 2/5] END ....C=2.4, gamma=scale, kernel=rbf;, score=0.809 total time=   0.1s\n",
      "[CV 3/5] END ....C=2.4, gamma=scale, kernel=rbf;, score=0.822 total time=   0.1s\n",
      "[CV 4/5] END ....C=2.4, gamma=scale, kernel=rbf;, score=0.803 total time=   0.1s\n",
      "[CV 5/5] END ....C=2.4, gamma=scale, kernel=rbf;, score=0.781 total time=   0.1s\n",
      "[CV 1/5] END .C=2.4, gamma=scale, kernel=linear;, score=0.763 total time=   0.1s\n",
      "[CV 2/5] END .C=2.4, gamma=scale, kernel=linear;, score=0.711 total time=   0.1s\n",
      "[CV 3/5] END .C=2.4, gamma=scale, kernel=linear;, score=0.691 total time=   0.1s\n",
      "[CV 4/5] END .C=2.4, gamma=scale, kernel=linear;, score=0.776 total time=   0.1s\n",
      "[CV 5/5] END .C=2.4, gamma=scale, kernel=linear;, score=0.689 total time=   0.1s\n"
     ]
    },
    {
     "data": {
      "text/plain": "GridSearchCV(estimator=SVC(),\n             param_grid={'C': [0.1, 0.7, 1, 2, 2.4], 'gamma': [23, 60, 'scale'],\n                         'kernel': ['rbf', 'linear']},\n             verbose=3)",
      "text/html": "<style>#sk-container-id-6 {color: black;background-color: white;}#sk-container-id-6 pre{padding: 0;}#sk-container-id-6 div.sk-toggleable {background-color: white;}#sk-container-id-6 label.sk-toggleable__label {cursor: pointer;display: block;width: 100%;margin-bottom: 0;padding: 0.3em;box-sizing: border-box;text-align: center;}#sk-container-id-6 label.sk-toggleable__label-arrow:before {content: \"▸\";float: left;margin-right: 0.25em;color: #696969;}#sk-container-id-6 label.sk-toggleable__label-arrow:hover:before {color: black;}#sk-container-id-6 div.sk-estimator:hover label.sk-toggleable__label-arrow:before {color: black;}#sk-container-id-6 div.sk-toggleable__content {max-height: 0;max-width: 0;overflow: hidden;text-align: left;background-color: #f0f8ff;}#sk-container-id-6 div.sk-toggleable__content pre {margin: 0.2em;color: black;border-radius: 0.25em;background-color: #f0f8ff;}#sk-container-id-6 input.sk-toggleable__control:checked~div.sk-toggleable__content {max-height: 200px;max-width: 100%;overflow: auto;}#sk-container-id-6 input.sk-toggleable__control:checked~label.sk-toggleable__label-arrow:before {content: \"▾\";}#sk-container-id-6 div.sk-estimator input.sk-toggleable__control:checked~label.sk-toggleable__label {background-color: #d4ebff;}#sk-container-id-6 div.sk-label input.sk-toggleable__control:checked~label.sk-toggleable__label {background-color: #d4ebff;}#sk-container-id-6 input.sk-hidden--visually {border: 0;clip: rect(1px 1px 1px 1px);clip: rect(1px, 1px, 1px, 1px);height: 1px;margin: -1px;overflow: hidden;padding: 0;position: absolute;width: 1px;}#sk-container-id-6 div.sk-estimator {font-family: monospace;background-color: #f0f8ff;border: 1px dotted black;border-radius: 0.25em;box-sizing: border-box;margin-bottom: 0.5em;}#sk-container-id-6 div.sk-estimator:hover {background-color: #d4ebff;}#sk-container-id-6 div.sk-parallel-item::after {content: \"\";width: 100%;border-bottom: 1px solid gray;flex-grow: 1;}#sk-container-id-6 div.sk-label:hover label.sk-toggleable__label {background-color: #d4ebff;}#sk-container-id-6 div.sk-serial::before {content: \"\";position: absolute;border-left: 1px solid gray;box-sizing: border-box;top: 0;bottom: 0;left: 50%;z-index: 0;}#sk-container-id-6 div.sk-serial {display: flex;flex-direction: column;align-items: center;background-color: white;padding-right: 0.2em;padding-left: 0.2em;position: relative;}#sk-container-id-6 div.sk-item {position: relative;z-index: 1;}#sk-container-id-6 div.sk-parallel {display: flex;align-items: stretch;justify-content: center;background-color: white;position: relative;}#sk-container-id-6 div.sk-item::before, #sk-container-id-6 div.sk-parallel-item::before {content: \"\";position: absolute;border-left: 1px solid gray;box-sizing: border-box;top: 0;bottom: 0;left: 50%;z-index: -1;}#sk-container-id-6 div.sk-parallel-item {display: flex;flex-direction: column;z-index: 1;position: relative;background-color: white;}#sk-container-id-6 div.sk-parallel-item:first-child::after {align-self: flex-end;width: 50%;}#sk-container-id-6 div.sk-parallel-item:last-child::after {align-self: flex-start;width: 50%;}#sk-container-id-6 div.sk-parallel-item:only-child::after {width: 0;}#sk-container-id-6 div.sk-dashed-wrapped {border: 1px dashed gray;margin: 0 0.4em 0.5em 0.4em;box-sizing: border-box;padding-bottom: 0.4em;background-color: white;}#sk-container-id-6 div.sk-label label {font-family: monospace;font-weight: bold;display: inline-block;line-height: 1.2em;}#sk-container-id-6 div.sk-label-container {text-align: center;}#sk-container-id-6 div.sk-container {/* jupyter's `normalize.less` sets `[hidden] { display: none; }` but bootstrap.min.css set `[hidden] { display: none !important; }` so we also need the `!important` here to be able to override the default hidden behavior on the sphinx rendered scikit-learn.org. See: https://github.com/scikit-learn/scikit-learn/issues/21755 */display: inline-block !important;position: relative;}#sk-container-id-6 div.sk-text-repr-fallback {display: none;}</style><div id=\"sk-container-id-6\" class=\"sk-top-container\"><div class=\"sk-text-repr-fallback\"><pre>GridSearchCV(estimator=SVC(),\n             param_grid={&#x27;C&#x27;: [0.1, 0.7, 1, 2, 2.4], &#x27;gamma&#x27;: [23, 60, &#x27;scale&#x27;],\n                         &#x27;kernel&#x27;: [&#x27;rbf&#x27;, &#x27;linear&#x27;]},\n             verbose=3)</pre><b>In a Jupyter environment, please rerun this cell to show the HTML representation or trust the notebook. <br />On GitHub, the HTML representation is unable to render, please try loading this page with nbviewer.org.</b></div><div class=\"sk-container\" hidden><div class=\"sk-item sk-dashed-wrapped\"><div class=\"sk-label-container\"><div class=\"sk-label sk-toggleable\"><input class=\"sk-toggleable__control sk-hidden--visually\" id=\"sk-estimator-id-10\" type=\"checkbox\" ><label for=\"sk-estimator-id-10\" class=\"sk-toggleable__label sk-toggleable__label-arrow\">GridSearchCV</label><div class=\"sk-toggleable__content\"><pre>GridSearchCV(estimator=SVC(),\n             param_grid={&#x27;C&#x27;: [0.1, 0.7, 1, 2, 2.4], &#x27;gamma&#x27;: [23, 60, &#x27;scale&#x27;],\n                         &#x27;kernel&#x27;: [&#x27;rbf&#x27;, &#x27;linear&#x27;]},\n             verbose=3)</pre></div></div></div><div class=\"sk-parallel\"><div class=\"sk-parallel-item\"><div class=\"sk-item\"><div class=\"sk-label-container\"><div class=\"sk-label sk-toggleable\"><input class=\"sk-toggleable__control sk-hidden--visually\" id=\"sk-estimator-id-11\" type=\"checkbox\" ><label for=\"sk-estimator-id-11\" class=\"sk-toggleable__label sk-toggleable__label-arrow\">estimator: SVC</label><div class=\"sk-toggleable__content\"><pre>SVC()</pre></div></div></div><div class=\"sk-serial\"><div class=\"sk-item\"><div class=\"sk-estimator sk-toggleable\"><input class=\"sk-toggleable__control sk-hidden--visually\" id=\"sk-estimator-id-12\" type=\"checkbox\" ><label for=\"sk-estimator-id-12\" class=\"sk-toggleable__label sk-toggleable__label-arrow\">SVC</label><div class=\"sk-toggleable__content\"><pre>SVC()</pre></div></div></div></div></div></div></div></div></div></div>"
     },
     "execution_count": 263,
     "metadata": {},
     "output_type": "execute_result"
    }
   ],
   "source": [
    "# carry out grid search hyper paremeter tuning\n",
    "from sklearn.model_selection import GridSearchCV\n",
    "\n",
    "# defining parameter range, \n",
    "param_grid = {'C': [0.1, 0.7,1, 2,2.4],\n",
    "              'gamma': [23,60, 'scale'],\n",
    "              'kernel': ['rbf', 'linear']}\n",
    "\n",
    "grid = GridSearchCV(SVC(), param_grid, refit = True, verbose = 3)\n",
    "\n",
    "# fitting the model for grid search\n",
    "grid.fit(X_train, y_train)"
   ],
   "metadata": {
    "collapsed": false,
    "pycharm": {
     "name": "#%%\n"
    }
   }
  },
  {
   "cell_type": "code",
   "execution_count": 264,
   "outputs": [
    {
     "data": {
      "text/plain": "{'C': 2, 'gamma': 'scale', 'kernel': 'rbf'}"
     },
     "execution_count": 264,
     "metadata": {},
     "output_type": "execute_result"
    }
   ],
   "source": [
    "# highest performaing parameters\n",
    "grid.best_params_"
   ],
   "metadata": {
    "collapsed": false,
    "pycharm": {
     "name": "#%%\n"
    }
   }
  },
  {
   "cell_type": "code",
   "execution_count": 265,
   "outputs": [
    {
     "data": {
      "text/plain": "SVC(C=2)",
      "text/html": "<style>#sk-container-id-7 {color: black;background-color: white;}#sk-container-id-7 pre{padding: 0;}#sk-container-id-7 div.sk-toggleable {background-color: white;}#sk-container-id-7 label.sk-toggleable__label {cursor: pointer;display: block;width: 100%;margin-bottom: 0;padding: 0.3em;box-sizing: border-box;text-align: center;}#sk-container-id-7 label.sk-toggleable__label-arrow:before {content: \"▸\";float: left;margin-right: 0.25em;color: #696969;}#sk-container-id-7 label.sk-toggleable__label-arrow:hover:before {color: black;}#sk-container-id-7 div.sk-estimator:hover label.sk-toggleable__label-arrow:before {color: black;}#sk-container-id-7 div.sk-toggleable__content {max-height: 0;max-width: 0;overflow: hidden;text-align: left;background-color: #f0f8ff;}#sk-container-id-7 div.sk-toggleable__content pre {margin: 0.2em;color: black;border-radius: 0.25em;background-color: #f0f8ff;}#sk-container-id-7 input.sk-toggleable__control:checked~div.sk-toggleable__content {max-height: 200px;max-width: 100%;overflow: auto;}#sk-container-id-7 input.sk-toggleable__control:checked~label.sk-toggleable__label-arrow:before {content: \"▾\";}#sk-container-id-7 div.sk-estimator input.sk-toggleable__control:checked~label.sk-toggleable__label {background-color: #d4ebff;}#sk-container-id-7 div.sk-label input.sk-toggleable__control:checked~label.sk-toggleable__label {background-color: #d4ebff;}#sk-container-id-7 input.sk-hidden--visually {border: 0;clip: rect(1px 1px 1px 1px);clip: rect(1px, 1px, 1px, 1px);height: 1px;margin: -1px;overflow: hidden;padding: 0;position: absolute;width: 1px;}#sk-container-id-7 div.sk-estimator {font-family: monospace;background-color: #f0f8ff;border: 1px dotted black;border-radius: 0.25em;box-sizing: border-box;margin-bottom: 0.5em;}#sk-container-id-7 div.sk-estimator:hover {background-color: #d4ebff;}#sk-container-id-7 div.sk-parallel-item::after {content: \"\";width: 100%;border-bottom: 1px solid gray;flex-grow: 1;}#sk-container-id-7 div.sk-label:hover label.sk-toggleable__label {background-color: #d4ebff;}#sk-container-id-7 div.sk-serial::before {content: \"\";position: absolute;border-left: 1px solid gray;box-sizing: border-box;top: 0;bottom: 0;left: 50%;z-index: 0;}#sk-container-id-7 div.sk-serial {display: flex;flex-direction: column;align-items: center;background-color: white;padding-right: 0.2em;padding-left: 0.2em;position: relative;}#sk-container-id-7 div.sk-item {position: relative;z-index: 1;}#sk-container-id-7 div.sk-parallel {display: flex;align-items: stretch;justify-content: center;background-color: white;position: relative;}#sk-container-id-7 div.sk-item::before, #sk-container-id-7 div.sk-parallel-item::before {content: \"\";position: absolute;border-left: 1px solid gray;box-sizing: border-box;top: 0;bottom: 0;left: 50%;z-index: -1;}#sk-container-id-7 div.sk-parallel-item {display: flex;flex-direction: column;z-index: 1;position: relative;background-color: white;}#sk-container-id-7 div.sk-parallel-item:first-child::after {align-self: flex-end;width: 50%;}#sk-container-id-7 div.sk-parallel-item:last-child::after {align-self: flex-start;width: 50%;}#sk-container-id-7 div.sk-parallel-item:only-child::after {width: 0;}#sk-container-id-7 div.sk-dashed-wrapped {border: 1px dashed gray;margin: 0 0.4em 0.5em 0.4em;box-sizing: border-box;padding-bottom: 0.4em;background-color: white;}#sk-container-id-7 div.sk-label label {font-family: monospace;font-weight: bold;display: inline-block;line-height: 1.2em;}#sk-container-id-7 div.sk-label-container {text-align: center;}#sk-container-id-7 div.sk-container {/* jupyter's `normalize.less` sets `[hidden] { display: none; }` but bootstrap.min.css set `[hidden] { display: none !important; }` so we also need the `!important` here to be able to override the default hidden behavior on the sphinx rendered scikit-learn.org. See: https://github.com/scikit-learn/scikit-learn/issues/21755 */display: inline-block !important;position: relative;}#sk-container-id-7 div.sk-text-repr-fallback {display: none;}</style><div id=\"sk-container-id-7\" class=\"sk-top-container\"><div class=\"sk-text-repr-fallback\"><pre>SVC(C=2)</pre><b>In a Jupyter environment, please rerun this cell to show the HTML representation or trust the notebook. <br />On GitHub, the HTML representation is unable to render, please try loading this page with nbviewer.org.</b></div><div class=\"sk-container\" hidden><div class=\"sk-item\"><div class=\"sk-estimator sk-toggleable\"><input class=\"sk-toggleable__control sk-hidden--visually\" id=\"sk-estimator-id-13\" type=\"checkbox\" checked><label for=\"sk-estimator-id-13\" class=\"sk-toggleable__label sk-toggleable__label-arrow\">SVC</label><div class=\"sk-toggleable__content\"><pre>SVC(C=2)</pre></div></div></div></div></div>"
     },
     "execution_count": 265,
     "metadata": {},
     "output_type": "execute_result"
    }
   ],
   "source": [
    "grid.best_estimator_.fit(X_train, y_train)"
   ],
   "metadata": {
    "collapsed": false,
    "pycharm": {
     "name": "#%%\n"
    }
   }
  },
  {
   "cell_type": "code",
   "execution_count": 266,
   "outputs": [
    {
     "data": {
      "text/plain": "871    0\n568    1\n249    1\n331    1\n492    1\n      ..\n379    0\n484    0\n679    0\n332    1\n879    1\nName: DX_GROUP, Length: 190, dtype: int64"
     },
     "execution_count": 266,
     "metadata": {},
     "output_type": "execute_result"
    }
   ],
   "source": [
    "y_val"
   ],
   "metadata": {
    "collapsed": false,
    "pycharm": {
     "name": "#%%\n"
    }
   }
  },
  {
   "cell_type": "code",
   "execution_count": 267,
   "outputs": [
    {
     "data": {
      "text/plain": "0.7789473684210526"
     },
     "execution_count": 267,
     "metadata": {},
     "output_type": "execute_result"
    }
   ],
   "source": [
    "y_pred = grid.best_estimator_.predict(X_val)\n",
    "accuracy_score(y_val, y_pred)\n",
    "# the accuracy is lower than default, therefore default shall be kept"
   ],
   "metadata": {
    "collapsed": false,
    "pycharm": {
     "name": "#%%\n"
    }
   }
  },
  {
   "cell_type": "markdown",
   "source": [
    "## Feature Importance\n",
    "\n",
    "- infer the importance of features (correlations between regions) via permuation importance"
   ],
   "metadata": {
    "collapsed": false
   }
  },
  {
   "cell_type": "code",
   "execution_count": 268,
   "outputs": [],
   "source": [
    "X = df.iloc[:, :-1]\n",
    "y = df.iloc[:,-1]\n",
    "\n",
    "X_train, X_val, y_train, y_val = train_test_split(X, y, test_size=0.20, random_state=0,shuffle=True )"
   ],
   "metadata": {
    "collapsed": false,
    "pycharm": {
     "name": "#%%\n"
    }
   }
  },
  {
   "cell_type": "code",
   "execution_count": 269,
   "outputs": [],
   "source": [
    "\n",
    "svc = SVC(kernel='rbf').fit(X_train, y_train)\n",
    "    # make predictions for the left-out test subjects\n",
    "predictions = svc.predict(X_val)\n",
    "    # store the accuracy for this cross-validation fold\n",
    "score = accuracy_score(y_val, predictions)\n"
   ],
   "metadata": {
    "collapsed": false,
    "pycharm": {
     "name": "#%%\n"
    }
   }
  },
  {
   "cell_type": "code",
   "execution_count": 270,
   "outputs": [
    {
     "data": {
      "text/plain": "0.7894736842105263"
     },
     "execution_count": 270,
     "metadata": {},
     "output_type": "execute_result"
    }
   ],
   "source": [
    "score"
   ],
   "metadata": {
    "collapsed": false,
    "pycharm": {
     "name": "#%%\n"
    }
   }
  },
  {
   "cell_type": "code",
   "execution_count": 271,
   "outputs": [],
   "source": [
    "feature_names = df.columns[:-1] #feature names"
   ],
   "metadata": {
    "collapsed": false,
    "pycharm": {
     "name": "#%%\n"
    }
   }
  },
  {
   "cell_type": "code",
   "execution_count": 272,
   "outputs": [],
   "source": [
    "#fit permutation importance model to test set, repeat iteration 100 times\n",
    "perm_importance = permutation_importance(svc, X_val, y_val, n_repeats=100)\n",
    "\n",
    "feature_names = df.columns[:-1] #feature names\n",
    "\n",
    "#turn to np array for easy sorting\n",
    "features = np.array(feature_names)\n",
    "\n",
    "# get indexes for sorting by mean of importances\n",
    "sorted_idx = perm_importance.importances_mean.argsort()\n"
   ],
   "metadata": {
    "collapsed": false,
    "pycharm": {
     "name": "#%%\n"
    }
   }
  },
  {
   "cell_type": "code",
   "execution_count": 273,
   "outputs": [],
   "source": [
    "#concatenate sorted feature names, with importance means and importance calculated for each repeat\n",
    "# all sorting is in ascending order of mean importance\n",
    "perm_imps = np.c_[feature_names[sorted_idx[::-1]],perm_importance.importances_mean[sorted_idx[::-1]],\n",
    "                  perm_importance.importances[sorted_idx[::-1]]]"
   ],
   "metadata": {
    "collapsed": false,
    "pycharm": {
     "name": "#%%\n"
    }
   }
  },
  {
   "cell_type": "code",
   "execution_count": 274,
   "outputs": [],
   "source": [
    "# turn to pandas dataframe for ease of use\n",
    "perm_imp_df = pd.DataFrame(perm_imps)\n"
   ],
   "metadata": {
    "collapsed": false,
    "pycharm": {
     "name": "#%%\n"
    }
   }
  },
  {
   "cell_type": "code",
   "execution_count": 275,
   "outputs": [],
   "source": [
    "# assign column names to dataframe\n",
    "perm_imp_df.columns = ['features', 'mean_importance'] + list(range(1,101))"
   ],
   "metadata": {
    "collapsed": false,
    "pycharm": {
     "name": "#%%\n"
    }
   }
  },
  {
   "cell_type": "code",
   "execution_count": 276,
   "outputs": [
    {
     "data": {
      "text/plain": "      features mean_importance         1         2         3         4  \\\n0     #10-#398        0.014737  0.015789  0.010526  0.031579  0.015789   \n1    #143-#375        0.013421  0.010526  0.010526  0.015789  0.026316   \n2    #129-#364           0.013  0.026316  0.010526  0.026316  0.005263   \n3    #228-#264        0.011737  0.015789  0.005263       0.0  0.010526   \n4     #50-#143        0.011632       0.0       0.0  0.021053  0.005263   \n..         ...             ...       ...       ...       ...       ...   \n255  #149-#356       -0.003263  0.005263  0.005263  0.010526       0.0   \n256  #155-#237       -0.003368 -0.005263 -0.005263 -0.005263 -0.005263   \n257  #245-#294       -0.003684 -0.005263  0.010526 -0.010526 -0.005263   \n258  #231-#361       -0.004526 -0.010526 -0.005263       0.0 -0.005263   \n259  #361-#372       -0.005105       0.0 -0.010526       0.0 -0.005263   \n\n            5         6         7         8  ...        91        92  \\\n0    0.021053  0.010526  0.010526  0.010526  ...  0.010526  0.015789   \n1         0.0 -0.005263  0.026316  0.015789  ...  0.010526  0.015789   \n2    0.026316  0.015789  0.010526  0.021053  ...  0.010526  0.010526   \n3    0.021053  0.015789  0.015789  0.005263  ...  0.015789  0.015789   \n4    0.015789  0.015789  0.010526  0.010526  ...  0.015789  0.021053   \n..        ...       ...       ...       ...  ...       ...       ...   \n255  0.005263       0.0 -0.005263 -0.005263  ...  0.005263       0.0   \n256 -0.005263 -0.005263 -0.005263 -0.005263  ...       0.0       0.0   \n257 -0.005263  0.010526 -0.005263 -0.010526  ... -0.010526  0.005263   \n258 -0.005263       0.0       0.0 -0.005263  ...       0.0 -0.005263   \n259 -0.005263 -0.005263 -0.005263  0.010526  ... -0.010526 -0.010526   \n\n           93        94        95        96        97        98        99  \\\n0    0.026316  0.021053  0.010526  0.015789  0.015789  0.010526  0.010526   \n1    0.021053  0.015789  0.015789  0.010526  0.010526  0.015789  0.021053   \n2    0.015789  0.005263  0.015789  0.031579  0.005263 -0.005263  0.015789   \n3    0.015789  0.015789  0.010526  0.010526  0.005263  0.010526  0.010526   \n4    0.015789       0.0  0.010526  0.010526  0.015789  0.005263  0.005263   \n..        ...       ...       ...       ...       ...       ...       ...   \n255       0.0 -0.005263 -0.010526 -0.010526 -0.010526       0.0       0.0   \n256 -0.010526 -0.005263 -0.005263 -0.005263  0.005263       0.0 -0.005263   \n257 -0.005263  0.010526 -0.005263       0.0 -0.010526 -0.005263 -0.010526   \n258 -0.005263 -0.010526 -0.005263 -0.005263       0.0       0.0 -0.005263   \n259 -0.005263 -0.005263       0.0 -0.005263       0.0 -0.010526 -0.010526   \n\n          100  \n0    0.010526  \n1    0.005263  \n2    0.010526  \n3    0.015789  \n4    0.005263  \n..        ...  \n255 -0.010526  \n256       0.0  \n257 -0.005263  \n258  0.005263  \n259 -0.005263  \n\n[260 rows x 102 columns]",
      "text/html": "<div>\n<style scoped>\n    .dataframe tbody tr th:only-of-type {\n        vertical-align: middle;\n    }\n\n    .dataframe tbody tr th {\n        vertical-align: top;\n    }\n\n    .dataframe thead th {\n        text-align: right;\n    }\n</style>\n<table border=\"1\" class=\"dataframe\">\n  <thead>\n    <tr style=\"text-align: right;\">\n      <th></th>\n      <th>features</th>\n      <th>mean_importance</th>\n      <th>1</th>\n      <th>2</th>\n      <th>3</th>\n      <th>4</th>\n      <th>5</th>\n      <th>6</th>\n      <th>7</th>\n      <th>8</th>\n      <th>...</th>\n      <th>91</th>\n      <th>92</th>\n      <th>93</th>\n      <th>94</th>\n      <th>95</th>\n      <th>96</th>\n      <th>97</th>\n      <th>98</th>\n      <th>99</th>\n      <th>100</th>\n    </tr>\n  </thead>\n  <tbody>\n    <tr>\n      <th>0</th>\n      <td>#10-#398</td>\n      <td>0.014737</td>\n      <td>0.015789</td>\n      <td>0.010526</td>\n      <td>0.031579</td>\n      <td>0.015789</td>\n      <td>0.021053</td>\n      <td>0.010526</td>\n      <td>0.010526</td>\n      <td>0.010526</td>\n      <td>...</td>\n      <td>0.010526</td>\n      <td>0.015789</td>\n      <td>0.026316</td>\n      <td>0.021053</td>\n      <td>0.010526</td>\n      <td>0.015789</td>\n      <td>0.015789</td>\n      <td>0.010526</td>\n      <td>0.010526</td>\n      <td>0.010526</td>\n    </tr>\n    <tr>\n      <th>1</th>\n      <td>#143-#375</td>\n      <td>0.013421</td>\n      <td>0.010526</td>\n      <td>0.010526</td>\n      <td>0.015789</td>\n      <td>0.026316</td>\n      <td>0.0</td>\n      <td>-0.005263</td>\n      <td>0.026316</td>\n      <td>0.015789</td>\n      <td>...</td>\n      <td>0.010526</td>\n      <td>0.015789</td>\n      <td>0.021053</td>\n      <td>0.015789</td>\n      <td>0.015789</td>\n      <td>0.010526</td>\n      <td>0.010526</td>\n      <td>0.015789</td>\n      <td>0.021053</td>\n      <td>0.005263</td>\n    </tr>\n    <tr>\n      <th>2</th>\n      <td>#129-#364</td>\n      <td>0.013</td>\n      <td>0.026316</td>\n      <td>0.010526</td>\n      <td>0.026316</td>\n      <td>0.005263</td>\n      <td>0.026316</td>\n      <td>0.015789</td>\n      <td>0.010526</td>\n      <td>0.021053</td>\n      <td>...</td>\n      <td>0.010526</td>\n      <td>0.010526</td>\n      <td>0.015789</td>\n      <td>0.005263</td>\n      <td>0.015789</td>\n      <td>0.031579</td>\n      <td>0.005263</td>\n      <td>-0.005263</td>\n      <td>0.015789</td>\n      <td>0.010526</td>\n    </tr>\n    <tr>\n      <th>3</th>\n      <td>#228-#264</td>\n      <td>0.011737</td>\n      <td>0.015789</td>\n      <td>0.005263</td>\n      <td>0.0</td>\n      <td>0.010526</td>\n      <td>0.021053</td>\n      <td>0.015789</td>\n      <td>0.015789</td>\n      <td>0.005263</td>\n      <td>...</td>\n      <td>0.015789</td>\n      <td>0.015789</td>\n      <td>0.015789</td>\n      <td>0.015789</td>\n      <td>0.010526</td>\n      <td>0.010526</td>\n      <td>0.005263</td>\n      <td>0.010526</td>\n      <td>0.010526</td>\n      <td>0.015789</td>\n    </tr>\n    <tr>\n      <th>4</th>\n      <td>#50-#143</td>\n      <td>0.011632</td>\n      <td>0.0</td>\n      <td>0.0</td>\n      <td>0.021053</td>\n      <td>0.005263</td>\n      <td>0.015789</td>\n      <td>0.015789</td>\n      <td>0.010526</td>\n      <td>0.010526</td>\n      <td>...</td>\n      <td>0.015789</td>\n      <td>0.021053</td>\n      <td>0.015789</td>\n      <td>0.0</td>\n      <td>0.010526</td>\n      <td>0.010526</td>\n      <td>0.015789</td>\n      <td>0.005263</td>\n      <td>0.005263</td>\n      <td>0.005263</td>\n    </tr>\n    <tr>\n      <th>...</th>\n      <td>...</td>\n      <td>...</td>\n      <td>...</td>\n      <td>...</td>\n      <td>...</td>\n      <td>...</td>\n      <td>...</td>\n      <td>...</td>\n      <td>...</td>\n      <td>...</td>\n      <td>...</td>\n      <td>...</td>\n      <td>...</td>\n      <td>...</td>\n      <td>...</td>\n      <td>...</td>\n      <td>...</td>\n      <td>...</td>\n      <td>...</td>\n      <td>...</td>\n      <td>...</td>\n    </tr>\n    <tr>\n      <th>255</th>\n      <td>#149-#356</td>\n      <td>-0.003263</td>\n      <td>0.005263</td>\n      <td>0.005263</td>\n      <td>0.010526</td>\n      <td>0.0</td>\n      <td>0.005263</td>\n      <td>0.0</td>\n      <td>-0.005263</td>\n      <td>-0.005263</td>\n      <td>...</td>\n      <td>0.005263</td>\n      <td>0.0</td>\n      <td>0.0</td>\n      <td>-0.005263</td>\n      <td>-0.010526</td>\n      <td>-0.010526</td>\n      <td>-0.010526</td>\n      <td>0.0</td>\n      <td>0.0</td>\n      <td>-0.010526</td>\n    </tr>\n    <tr>\n      <th>256</th>\n      <td>#155-#237</td>\n      <td>-0.003368</td>\n      <td>-0.005263</td>\n      <td>-0.005263</td>\n      <td>-0.005263</td>\n      <td>-0.005263</td>\n      <td>-0.005263</td>\n      <td>-0.005263</td>\n      <td>-0.005263</td>\n      <td>-0.005263</td>\n      <td>...</td>\n      <td>0.0</td>\n      <td>0.0</td>\n      <td>-0.010526</td>\n      <td>-0.005263</td>\n      <td>-0.005263</td>\n      <td>-0.005263</td>\n      <td>0.005263</td>\n      <td>0.0</td>\n      <td>-0.005263</td>\n      <td>0.0</td>\n    </tr>\n    <tr>\n      <th>257</th>\n      <td>#245-#294</td>\n      <td>-0.003684</td>\n      <td>-0.005263</td>\n      <td>0.010526</td>\n      <td>-0.010526</td>\n      <td>-0.005263</td>\n      <td>-0.005263</td>\n      <td>0.010526</td>\n      <td>-0.005263</td>\n      <td>-0.010526</td>\n      <td>...</td>\n      <td>-0.010526</td>\n      <td>0.005263</td>\n      <td>-0.005263</td>\n      <td>0.010526</td>\n      <td>-0.005263</td>\n      <td>0.0</td>\n      <td>-0.010526</td>\n      <td>-0.005263</td>\n      <td>-0.010526</td>\n      <td>-0.005263</td>\n    </tr>\n    <tr>\n      <th>258</th>\n      <td>#231-#361</td>\n      <td>-0.004526</td>\n      <td>-0.010526</td>\n      <td>-0.005263</td>\n      <td>0.0</td>\n      <td>-0.005263</td>\n      <td>-0.005263</td>\n      <td>0.0</td>\n      <td>0.0</td>\n      <td>-0.005263</td>\n      <td>...</td>\n      <td>0.0</td>\n      <td>-0.005263</td>\n      <td>-0.005263</td>\n      <td>-0.010526</td>\n      <td>-0.005263</td>\n      <td>-0.005263</td>\n      <td>0.0</td>\n      <td>0.0</td>\n      <td>-0.005263</td>\n      <td>0.005263</td>\n    </tr>\n    <tr>\n      <th>259</th>\n      <td>#361-#372</td>\n      <td>-0.005105</td>\n      <td>0.0</td>\n      <td>-0.010526</td>\n      <td>0.0</td>\n      <td>-0.005263</td>\n      <td>-0.005263</td>\n      <td>-0.005263</td>\n      <td>-0.005263</td>\n      <td>0.010526</td>\n      <td>...</td>\n      <td>-0.010526</td>\n      <td>-0.010526</td>\n      <td>-0.005263</td>\n      <td>-0.005263</td>\n      <td>0.0</td>\n      <td>-0.005263</td>\n      <td>0.0</td>\n      <td>-0.010526</td>\n      <td>-0.010526</td>\n      <td>-0.005263</td>\n    </tr>\n  </tbody>\n</table>\n<p>260 rows × 102 columns</p>\n</div>"
     },
     "execution_count": 276,
     "metadata": {},
     "output_type": "execute_result"
    }
   ],
   "source": [
    "perm_imp_df"
   ],
   "metadata": {
    "collapsed": false,
    "pycharm": {
     "name": "#%%\n"
    }
   }
  },
  {
   "cell_type": "code",
   "execution_count": 278,
   "outputs": [
    {
     "data": {
      "text/plain": "<Figure size 1500x1000 with 1 Axes>",
      "image/png": "[encoded data removed]"
     },
     "metadata": {},
     "output_type": "display_data"
    }
   ],
   "source": [
    "# make boxplot figure of top 20 important features sorted by mean importance\n",
    "plt.figure(figsize=(15, 10))\n",
    "plt.boxplot(\n",
    "    perm_importance.importances[sorted_idx[-20:]].T,\n",
    "    vert=False,\n",
    "    labels=feature_names[sorted_idx[-20:]])\n",
    "plt.xlabel('Feature Importance')\n",
    "plt.ylabel('Feature')\n",
    "plt.show()\n"
   ],
   "metadata": {
    "collapsed": false,
    "pycharm": {
     "name": "#%%\n"
    }
   }
  },
  {
   "cell_type": "code",
   "execution_count": 279,
   "outputs": [],
   "source": [
    "#save dataframe\n",
    "perm_imp_df.to_csv('cc400_importance.csv',index=False)"
   ],
   "metadata": {
    "collapsed": false,
    "pycharm": {
     "name": "#%%\n"
    }
   }
  },
  {
   "cell_type": "code",
   "execution_count": 283,
   "outputs": [],
   "source": [
    "# filter out top 50 most important features from vectorised dataset\n",
    "highest = df.loc[:,feature_names[sorted_idx][::-1][:50]]"
   ],
   "metadata": {
    "collapsed": false,
    "pycharm": {
     "name": "#%%\n"
    }
   }
  },
  {
   "cell_type": "code",
   "execution_count": 284,
   "outputs": [],
   "source": [
    "# add target labels to filtered dataset\n",
    "highest['DX_GROUP']= df['DX_GROUP']"
   ],
   "metadata": {
    "collapsed": false,
    "pycharm": {
     "name": "#%%\n"
    }
   }
  },
  {
   "cell_type": "code",
   "execution_count": 285,
   "outputs": [
    {
     "data": {
      "text/plain": "     #10-#398  #143-#375  #129-#364  #228-#264  #50-#143  #60-#243  #185-#217  \\\n0   -0.311941  -0.144689  -0.161888   0.220749 -0.143113 -0.159103   0.228310   \n1    0.046357   0.295373  -0.341964   0.216754  0.155653  0.238897  -0.255685   \n2   -0.039074   0.001953   0.064289   0.086027  0.067516 -0.359620  -0.184678   \n3    0.181871   0.204784   0.346578   0.702050  0.117994  0.028702  -0.181683   \n4    0.240016   0.238298  -0.365235   0.127015  0.068589  0.293943   0.020457   \n..        ...        ...        ...        ...       ...       ...        ...   \n944  0.376639   0.157417   0.075678   0.506276  0.089802 -0.133793   0.274970   \n945  0.031693  -0.536723   0.002502   0.359627 -0.341926 -0.010272  -0.248394   \n946  0.345141   0.011911  -0.450921   0.110386 -0.054446  0.179988   0.134980   \n947  0.087033  -0.058546  -0.197465   0.014480  0.066734  0.064027   0.151245   \n948  0.372089  -0.031709   0.011737   0.362239  0.238284  0.257864   0.290560   \n\n     #83-#243  #168-#365  #50-#182  ...  #11-#264  #21-#363   #35-#54  \\\n0   -0.194535   0.176123 -0.004307  ...  0.535525 -0.226414  0.855091   \n1    0.001114   0.299926  0.108865  ...  0.491620 -0.040662  0.300424   \n2   -0.118725   0.078467  0.084513  ...  0.166410  0.041649  0.215223   \n3   -0.021529   0.154351  0.113334  ...  0.618172  0.089319 -0.223901   \n4   -0.183083  -0.203974  0.458913  ...  0.466578 -0.083927  0.010151   \n..        ...        ...       ...  ...       ...       ...       ...   \n944  0.083935   0.256384 -0.070188  ...  0.084946  0.152940  0.136506   \n945  0.000041  -0.042745 -0.085613  ...  0.237421 -0.081136  0.324733   \n946 -0.246977   0.218163  0.191266  ...  0.467352  0.360621  0.285486   \n947 -0.154532   0.049200  0.001483  ...  0.603215 -0.049399 -0.102998   \n948 -0.298360  -0.177480  0.273477  ...  0.474716  0.256125 -0.154578   \n\n     #95-#398   #43-#58  #128-#309  #34-#189  #34-#125  #142-#177  DX_GROUP  \n0   -0.371493  0.100342  -0.146199  0.049238 -0.030630  -0.193809         1  \n1   -0.325109 -0.191302  -0.129303  0.337294  0.086527  -0.223890         1  \n2    0.164969  0.179974  -0.245120  0.113790  0.174130  -0.157862         1  \n3    0.314277  0.104723   0.027784  0.093469 -0.089944   0.328213         1  \n4    0.194029  0.167854  -0.018812 -0.064257 -0.029520   0.251763         1  \n..        ...       ...        ...       ...       ...        ...       ...  \n944  0.273961 -0.243900  -0.133256  0.356074 -0.027037   0.525305         1  \n945 -0.136973 -0.052937   0.096302  0.364027 -0.182622   0.158037         1  \n946 -0.035615  0.069473   0.183272  0.195577  0.018968   0.196698         1  \n947  0.018414 -0.258244   0.036105  0.112084  0.288188   0.225834         1  \n948 -0.065983 -0.043649   0.158565  0.395941  0.000328   0.591684         1  \n\n[949 rows x 51 columns]",
      "text/html": "<div>\n<style scoped>\n    .dataframe tbody tr th:only-of-type {\n        vertical-align: middle;\n    }\n\n    .dataframe tbody tr th {\n        vertical-align: top;\n    }\n\n    .dataframe thead th {\n        text-align: right;\n    }\n</style>\n<table border=\"1\" class=\"dataframe\">\n  <thead>\n    <tr style=\"text-align: right;\">\n      <th></th>\n      <th>#10-#398</th>\n      <th>#143-#375</th>\n      <th>#129-#364</th>\n      <th>#228-#264</th>\n      <th>#50-#143</th>\n      <th>#60-#243</th>\n      <th>#185-#217</th>\n      <th>#83-#243</th>\n      <th>#168-#365</th>\n      <th>#50-#182</th>\n      <th>...</th>\n      <th>#11-#264</th>\n      <th>#21-#363</th>\n      <th>#35-#54</th>\n      <th>#95-#398</th>\n      <th>#43-#58</th>\n      <th>#128-#309</th>\n      <th>#34-#189</th>\n      <th>#34-#125</th>\n      <th>#142-#177</th>\n      <th>DX_GROUP</th>\n    </tr>\n  </thead>\n  <tbody>\n    <tr>\n      <th>0</th>\n      <td>-0.311941</td>\n      <td>-0.144689</td>\n      <td>-0.161888</td>\n      <td>0.220749</td>\n      <td>-0.143113</td>\n      <td>-0.159103</td>\n      <td>0.228310</td>\n      <td>-0.194535</td>\n      <td>0.176123</td>\n      <td>-0.004307</td>\n      <td>...</td>\n      <td>0.535525</td>\n      <td>-0.226414</td>\n      <td>0.855091</td>\n      <td>-0.371493</td>\n      <td>0.100342</td>\n      <td>-0.146199</td>\n      <td>0.049238</td>\n      <td>-0.030630</td>\n      <td>-0.193809</td>\n      <td>1</td>\n    </tr>\n    <tr>\n      <th>1</th>\n      <td>0.046357</td>\n      <td>0.295373</td>\n      <td>-0.341964</td>\n      <td>0.216754</td>\n      <td>0.155653</td>\n      <td>0.238897</td>\n      <td>-0.255685</td>\n      <td>0.001114</td>\n      <td>0.299926</td>\n      <td>0.108865</td>\n      <td>...</td>\n      <td>0.491620</td>\n      <td>-0.040662</td>\n      <td>0.300424</td>\n      <td>-0.325109</td>\n      <td>-0.191302</td>\n      <td>-0.129303</td>\n      <td>0.337294</td>\n      <td>0.086527</td>\n      <td>-0.223890</td>\n      <td>1</td>\n    </tr>\n    <tr>\n      <th>2</th>\n      <td>-0.039074</td>\n      <td>0.001953</td>\n      <td>0.064289</td>\n      <td>0.086027</td>\n      <td>0.067516</td>\n      <td>-0.359620</td>\n      <td>-0.184678</td>\n      <td>-0.118725</td>\n      <td>0.078467</td>\n      <td>0.084513</td>\n      <td>...</td>\n      <td>0.166410</td>\n      <td>0.041649</td>\n      <td>0.215223</td>\n      <td>0.164969</td>\n      <td>0.179974</td>\n      <td>-0.245120</td>\n      <td>0.113790</td>\n      <td>0.174130</td>\n      <td>-0.157862</td>\n      <td>1</td>\n    </tr>\n    <tr>\n      <th>3</th>\n      <td>0.181871</td>\n      <td>0.204784</td>\n      <td>0.346578</td>\n      <td>0.702050</td>\n      <td>0.117994</td>\n      <td>0.028702</td>\n      <td>-0.181683</td>\n      <td>-0.021529</td>\n      <td>0.154351</td>\n      <td>0.113334</td>\n      <td>...</td>\n      <td>0.618172</td>\n      <td>0.089319</td>\n      <td>-0.223901</td>\n      <td>0.314277</td>\n      <td>0.104723</td>\n      <td>0.027784</td>\n      <td>0.093469</td>\n      <td>-0.089944</td>\n      <td>0.328213</td>\n      <td>1</td>\n    </tr>\n    <tr>\n      <th>4</th>\n      <td>0.240016</td>\n      <td>0.238298</td>\n      <td>-0.365235</td>\n      <td>0.127015</td>\n      <td>0.068589</td>\n      <td>0.293943</td>\n      <td>0.020457</td>\n      <td>-0.183083</td>\n      <td>-0.203974</td>\n      <td>0.458913</td>\n      <td>...</td>\n      <td>0.466578</td>\n      <td>-0.083927</td>\n      <td>0.010151</td>\n      <td>0.194029</td>\n      <td>0.167854</td>\n      <td>-0.018812</td>\n      <td>-0.064257</td>\n      <td>-0.029520</td>\n      <td>0.251763</td>\n      <td>1</td>\n    </tr>\n    <tr>\n      <th>...</th>\n      <td>...</td>\n      <td>...</td>\n      <td>...</td>\n      <td>...</td>\n      <td>...</td>\n      <td>...</td>\n      <td>...</td>\n      <td>...</td>\n      <td>...</td>\n      <td>...</td>\n      <td>...</td>\n      <td>...</td>\n      <td>...</td>\n      <td>...</td>\n      <td>...</td>\n      <td>...</td>\n      <td>...</td>\n      <td>...</td>\n      <td>...</td>\n      <td>...</td>\n      <td>...</td>\n    </tr>\n    <tr>\n      <th>944</th>\n      <td>0.376639</td>\n      <td>0.157417</td>\n      <td>0.075678</td>\n      <td>0.506276</td>\n      <td>0.089802</td>\n      <td>-0.133793</td>\n      <td>0.274970</td>\n      <td>0.083935</td>\n      <td>0.256384</td>\n      <td>-0.070188</td>\n      <td>...</td>\n      <td>0.084946</td>\n      <td>0.152940</td>\n      <td>0.136506</td>\n      <td>0.273961</td>\n      <td>-0.243900</td>\n      <td>-0.133256</td>\n      <td>0.356074</td>\n      <td>-0.027037</td>\n      <td>0.525305</td>\n      <td>1</td>\n    </tr>\n    <tr>\n      <th>945</th>\n      <td>0.031693</td>\n      <td>-0.536723</td>\n      <td>0.002502</td>\n      <td>0.359627</td>\n      <td>-0.341926</td>\n      <td>-0.010272</td>\n      <td>-0.248394</td>\n      <td>0.000041</td>\n      <td>-0.042745</td>\n      <td>-0.085613</td>\n      <td>...</td>\n      <td>0.237421</td>\n      <td>-0.081136</td>\n      <td>0.324733</td>\n      <td>-0.136973</td>\n      <td>-0.052937</td>\n      <td>0.096302</td>\n      <td>0.364027</td>\n      <td>-0.182622</td>\n      <td>0.158037</td>\n      <td>1</td>\n    </tr>\n    <tr>\n      <th>946</th>\n      <td>0.345141</td>\n      <td>0.011911</td>\n      <td>-0.450921</td>\n      <td>0.110386</td>\n      <td>-0.054446</td>\n      <td>0.179988</td>\n      <td>0.134980</td>\n      <td>-0.246977</td>\n      <td>0.218163</td>\n      <td>0.191266</td>\n      <td>...</td>\n      <td>0.467352</td>\n      <td>0.360621</td>\n      <td>0.285486</td>\n      <td>-0.035615</td>\n      <td>0.069473</td>\n      <td>0.183272</td>\n      <td>0.195577</td>\n      <td>0.018968</td>\n      <td>0.196698</td>\n      <td>1</td>\n    </tr>\n    <tr>\n      <th>947</th>\n      <td>0.087033</td>\n      <td>-0.058546</td>\n      <td>-0.197465</td>\n      <td>0.014480</td>\n      <td>0.066734</td>\n      <td>0.064027</td>\n      <td>0.151245</td>\n      <td>-0.154532</td>\n      <td>0.049200</td>\n      <td>0.001483</td>\n      <td>...</td>\n      <td>0.603215</td>\n      <td>-0.049399</td>\n      <td>-0.102998</td>\n      <td>0.018414</td>\n      <td>-0.258244</td>\n      <td>0.036105</td>\n      <td>0.112084</td>\n      <td>0.288188</td>\n      <td>0.225834</td>\n      <td>1</td>\n    </tr>\n    <tr>\n      <th>948</th>\n      <td>0.372089</td>\n      <td>-0.031709</td>\n      <td>0.011737</td>\n      <td>0.362239</td>\n      <td>0.238284</td>\n      <td>0.257864</td>\n      <td>0.290560</td>\n      <td>-0.298360</td>\n      <td>-0.177480</td>\n      <td>0.273477</td>\n      <td>...</td>\n      <td>0.474716</td>\n      <td>0.256125</td>\n      <td>-0.154578</td>\n      <td>-0.065983</td>\n      <td>-0.043649</td>\n      <td>0.158565</td>\n      <td>0.395941</td>\n      <td>0.000328</td>\n      <td>0.591684</td>\n      <td>1</td>\n    </tr>\n  </tbody>\n</table>\n<p>949 rows × 51 columns</p>\n</div>"
     },
     "execution_count": 285,
     "metadata": {},
     "output_type": "execute_result"
    }
   ],
   "source": [
    "highest"
   ],
   "metadata": {
    "collapsed": false,
    "pycharm": {
     "name": "#%%\n"
    }
   }
  },
  {
   "cell_type": "code",
   "execution_count": 286,
   "outputs": [],
   "source": [
    "#save dataframe\n",
    "highest.to_csv('cc400_highest_features.csv', index=False)"
   ],
   "metadata": {
    "collapsed": false,
    "pycharm": {
     "name": "#%%\n"
    }
   }
  },
  {
   "cell_type": "code",
   "execution_count": 287,
   "outputs": [],
   "source": [
    "#get top 20 highest features\n",
    "high_20 = df.loc[:,feature_names[sorted_idx][::-1][:50]]\n",
    "high_20['DX_GROUP']= df['DX_GROUP']"
   ],
   "metadata": {
    "collapsed": false,
    "pycharm": {
     "name": "#%%\n"
    }
   }
  },
  {
   "cell_type": "code",
   "execution_count": 288,
   "outputs": [],
   "source": [
    "# get names of 20 most important features\n",
    "high20_feats = feature_names[sorted_idx][::-1][:50].to_list()"
   ],
   "metadata": {
    "collapsed": false,
    "pycharm": {
     "name": "#%%\n"
    }
   }
  },
  {
   "cell_type": "code",
   "execution_count": 289,
   "outputs": [],
   "source": [
    "# split features into two, to get regions of interest\n",
    "split_feats = [high20_feats[i].split(\"-\")for i in range(len(high20_feats))]"
   ],
   "metadata": {
    "collapsed": false,
    "pycharm": {
     "name": "#%%\n"
    }
   }
  },
  {
   "cell_type": "code",
   "execution_count": 290,
   "outputs": [
    {
     "data": {
      "text/plain": "          #10-#398  #143-#375  #129-#364  #228-#264  #50-#143  #60-#243  \\\nDX_GROUP                                                                  \n0         0.039006  -0.006734  -0.016623   0.304754  0.003881  0.191918   \n1         0.106936   0.051171  -0.072642   0.204625  0.060874  0.124885   \n\n          #185-#217  #83-#243  #168-#365  #50-#182  ...  #175-#379  #11-#264  \\\nDX_GROUP                                            ...                        \n0         -0.050191 -0.096290   0.123913  0.050855  ...   0.082471  0.401383   \n1          0.021663 -0.030682   0.061058  0.112096  ...   0.015231  0.308250   \n\n          #21-#363   #35-#54  #95-#398   #43-#58  #128-#309  #34-#189  \\\nDX_GROUP                                                                \n0         0.005064  0.189626  -0.03679 -0.061798  -0.025244  0.280045   \n1         0.075174  0.109439   0.03406  0.000502   0.041174  0.197056   \n\n          #34-#125  #142-#177  \nDX_GROUP                       \n0        -0.052885   0.190731  \n1         0.003672   0.104442  \n\n[2 rows x 50 columns]",
      "text/html": "<div>\n<style scoped>\n    .dataframe tbody tr th:only-of-type {\n        vertical-align: middle;\n    }\n\n    .dataframe tbody tr th {\n        vertical-align: top;\n    }\n\n    .dataframe thead th {\n        text-align: right;\n    }\n</style>\n<table border=\"1\" class=\"dataframe\">\n  <thead>\n    <tr style=\"text-align: right;\">\n      <th></th>\n      <th>#10-#398</th>\n      <th>#143-#375</th>\n      <th>#129-#364</th>\n      <th>#228-#264</th>\n      <th>#50-#143</th>\n      <th>#60-#243</th>\n      <th>#185-#217</th>\n      <th>#83-#243</th>\n      <th>#168-#365</th>\n      <th>#50-#182</th>\n      <th>...</th>\n      <th>#175-#379</th>\n      <th>#11-#264</th>\n      <th>#21-#363</th>\n      <th>#35-#54</th>\n      <th>#95-#398</th>\n      <th>#43-#58</th>\n      <th>#128-#309</th>\n      <th>#34-#189</th>\n      <th>#34-#125</th>\n      <th>#142-#177</th>\n    </tr>\n    <tr>\n      <th>DX_GROUP</th>\n      <th></th>\n      <th></th>\n      <th></th>\n      <th></th>\n      <th></th>\n      <th></th>\n      <th></th>\n      <th></th>\n      <th></th>\n      <th></th>\n      <th></th>\n      <th></th>\n      <th></th>\n      <th></th>\n      <th></th>\n      <th></th>\n      <th></th>\n      <th></th>\n      <th></th>\n      <th></th>\n      <th></th>\n    </tr>\n  </thead>\n  <tbody>\n    <tr>\n      <th>0</th>\n      <td>0.039006</td>\n      <td>-0.006734</td>\n      <td>-0.016623</td>\n      <td>0.304754</td>\n      <td>0.003881</td>\n      <td>0.191918</td>\n      <td>-0.050191</td>\n      <td>-0.096290</td>\n      <td>0.123913</td>\n      <td>0.050855</td>\n      <td>...</td>\n      <td>0.082471</td>\n      <td>0.401383</td>\n      <td>0.005064</td>\n      <td>0.189626</td>\n      <td>-0.03679</td>\n      <td>-0.061798</td>\n      <td>-0.025244</td>\n      <td>0.280045</td>\n      <td>-0.052885</td>\n      <td>0.190731</td>\n    </tr>\n    <tr>\n      <th>1</th>\n      <td>0.106936</td>\n      <td>0.051171</td>\n      <td>-0.072642</td>\n      <td>0.204625</td>\n      <td>0.060874</td>\n      <td>0.124885</td>\n      <td>0.021663</td>\n      <td>-0.030682</td>\n      <td>0.061058</td>\n      <td>0.112096</td>\n      <td>...</td>\n      <td>0.015231</td>\n      <td>0.308250</td>\n      <td>0.075174</td>\n      <td>0.109439</td>\n      <td>0.03406</td>\n      <td>0.000502</td>\n      <td>0.041174</td>\n      <td>0.197056</td>\n      <td>0.003672</td>\n      <td>0.104442</td>\n    </tr>\n  </tbody>\n</table>\n<p>2 rows × 50 columns</p>\n</div>"
     },
     "execution_count": 290,
     "metadata": {},
     "output_type": "execute_result"
    }
   ],
   "source": [
    "#groupby the diagnosis group and find mean of each feature\n",
    "grouped = high_20.groupby(by= 'DX_GROUP').mean()\n",
    "grouped"
   ],
   "metadata": {
    "collapsed": false,
    "pycharm": {
     "name": "#%%\n"
    }
   }
  },
  {
   "cell_type": "code",
   "execution_count": 291,
   "outputs": [],
   "source": [
    "# split classes into separate arrays\n",
    "highest_0,highest_1 = grouped.iloc[0,:],grouped.iloc[1,:]\n",
    "# get values of each array\n",
    "high_0_val, high_1_val = highest_0.values.tolist(), highest_1.values.tolist()"
   ],
   "metadata": {
    "collapsed": false,
    "pycharm": {
     "name": "#%%\n"
    }
   }
  },
  {
   "cell_type": "code",
   "execution_count": 292,
   "outputs": [],
   "source": [
    "# add correlation value to list of two nodes for each group\n",
    "control_highest = [nodes + [high_0_val[i]] for i,nodes in enumerate(split_feats)]\n",
    "asd_highest = [nodes + [high_1_val[i]] for i,nodes in enumerate(split_feats)]"
   ],
   "metadata": {
    "collapsed": false,
    "pycharm": {
     "name": "#%%\n"
    }
   }
  },
  {
   "cell_type": "code",
   "execution_count": 293,
   "outputs": [],
   "source": [
    "control_CC400 = pd.DataFrame(control_highest, columns= ['roi_1','roi_2','correlation'])\n",
    "asd_CC400 = pd.DataFrame(asd_highest, columns= ['roi_1','roi_2','correlation'])\n"
   ],
   "metadata": {
    "collapsed": false,
    "pycharm": {
     "name": "#%%\n"
    }
   }
  },
  {
   "cell_type": "code",
   "execution_count": 294,
   "outputs": [
    {
     "data": {
      "text/plain": "   roi_1 roi_2  correlation\n0    #10  #398     0.039006\n1   #143  #375    -0.006734\n2   #129  #364    -0.016623\n3   #228  #264     0.304754\n4    #50  #143     0.003881\n5    #60  #243     0.191918\n6   #185  #217    -0.050191\n7    #83  #243    -0.096290\n8   #168  #365     0.123913\n9    #50  #182     0.050855\n10  #109  #379     0.147741\n11  #118  #155    -0.125401\n12  #339  #365     0.210105\n13   #72   #99    -0.191555\n14   #93  #265     0.021984\n15  #224  #228    -0.113844\n16   #30  #185    -0.047892\n17  #121  #268     0.004453\n18   #11  #232     0.464729\n19   #92  #142     0.118741\n20  #129  #192    -0.104668\n21  #129  #397    -0.077495\n22  #128  #237    -0.094602\n23  #129  #243     0.052543\n24   #18  #179     0.256490\n25   #72  #137    -0.199563\n26   #64  #148     0.364732\n27  #142  #342     0.272343\n28  #291  #380     0.105574\n29   #11  #368     0.607027\n30  #113  #192     0.031430\n31  #121  #132    -0.021778\n32  #228  #275     0.059633\n33  #283  #366    -0.020198\n34  #189  #228     0.348805\n35   #11   #84     0.435621\n36  #228  #336    -0.188533\n37  #347  #389    -0.043472\n38   #99  #117    -0.103046\n39  #193  #228     0.332352\n40  #175  #379     0.082471\n41   #11  #264     0.401383\n42   #21  #363     0.005064\n43   #35   #54     0.189626\n44   #95  #398    -0.036790\n45   #43   #58    -0.061798\n46  #128  #309    -0.025244\n47   #34  #189     0.280045\n48   #34  #125    -0.052885\n49  #142  #177     0.190731",
      "text/html": "<div>\n<style scoped>\n    .dataframe tbody tr th:only-of-type {\n        vertical-align: middle;\n    }\n\n    .dataframe tbody tr th {\n        vertical-align: top;\n    }\n\n    .dataframe thead th {\n        text-align: right;\n    }\n</style>\n<table border=\"1\" class=\"dataframe\">\n  <thead>\n    <tr style=\"text-align: right;\">\n      <th></th>\n      <th>roi_1</th>\n      <th>roi_2</th>\n      <th>correlation</th>\n    </tr>\n  </thead>\n  <tbody>\n    <tr>\n      <th>0</th>\n      <td>#10</td>\n      <td>#398</td>\n      <td>0.039006</td>\n    </tr>\n    <tr>\n      <th>1</th>\n      <td>#143</td>\n      <td>#375</td>\n      <td>-0.006734</td>\n    </tr>\n    <tr>\n      <th>2</th>\n      <td>#129</td>\n      <td>#364</td>\n      <td>-0.016623</td>\n    </tr>\n    <tr>\n      <th>3</th>\n      <td>#228</td>\n      <td>#264</td>\n      <td>0.304754</td>\n    </tr>\n    <tr>\n      <th>4</th>\n      <td>#50</td>\n      <td>#143</td>\n      <td>0.003881</td>\n    </tr>\n    <tr>\n      <th>5</th>\n      <td>#60</td>\n      <td>#243</td>\n      <td>0.191918</td>\n    </tr>\n    <tr>\n      <th>6</th>\n      <td>#185</td>\n      <td>#217</td>\n      <td>-0.050191</td>\n    </tr>\n    <tr>\n      <th>7</th>\n      <td>#83</td>\n      <td>#243</td>\n      <td>-0.096290</td>\n    </tr>\n    <tr>\n      <th>8</th>\n      <td>#168</td>\n      <td>#365</td>\n      <td>0.123913</td>\n    </tr>\n    <tr>\n      <th>9</th>\n      <td>#50</td>\n      <td>#182</td>\n      <td>0.050855</td>\n    </tr>\n    <tr>\n      <th>10</th>\n      <td>#109</td>\n      <td>#379</td>\n      <td>0.147741</td>\n    </tr>\n    <tr>\n      <th>11</th>\n      <td>#118</td>\n      <td>#155</td>\n      <td>-0.125401</td>\n    </tr>\n    <tr>\n      <th>12</th>\n      <td>#339</td>\n      <td>#365</td>\n      <td>0.210105</td>\n    </tr>\n    <tr>\n      <th>13</th>\n      <td>#72</td>\n      <td>#99</td>\n      <td>-0.191555</td>\n    </tr>\n    <tr>\n      <th>14</th>\n      <td>#93</td>\n      <td>#265</td>\n      <td>0.021984</td>\n    </tr>\n    <tr>\n      <th>15</th>\n      <td>#224</td>\n      <td>#228</td>\n      <td>-0.113844</td>\n    </tr>\n    <tr>\n      <th>16</th>\n      <td>#30</td>\n      <td>#185</td>\n      <td>-0.047892</td>\n    </tr>\n    <tr>\n      <th>17</th>\n      <td>#121</td>\n      <td>#268</td>\n      <td>0.004453</td>\n    </tr>\n    <tr>\n      <th>18</th>\n      <td>#11</td>\n      <td>#232</td>\n      <td>0.464729</td>\n    </tr>\n    <tr>\n      <th>19</th>\n      <td>#92</td>\n      <td>#142</td>\n      <td>0.118741</td>\n    </tr>\n    <tr>\n      <th>20</th>\n      <td>#129</td>\n      <td>#192</td>\n      <td>-0.104668</td>\n    </tr>\n    <tr>\n      <th>21</th>\n      <td>#129</td>\n      <td>#397</td>\n      <td>-0.077495</td>\n    </tr>\n    <tr>\n      <th>22</th>\n      <td>#128</td>\n      <td>#237</td>\n      <td>-0.094602</td>\n    </tr>\n    <tr>\n      <th>23</th>\n      <td>#129</td>\n      <td>#243</td>\n      <td>0.052543</td>\n    </tr>\n    <tr>\n      <th>24</th>\n      <td>#18</td>\n      <td>#179</td>\n      <td>0.256490</td>\n    </tr>\n    <tr>\n      <th>25</th>\n      <td>#72</td>\n      <td>#137</td>\n      <td>-0.199563</td>\n    </tr>\n    <tr>\n      <th>26</th>\n      <td>#64</td>\n      <td>#148</td>\n      <td>0.364732</td>\n    </tr>\n    <tr>\n      <th>27</th>\n      <td>#142</td>\n      <td>#342</td>\n      <td>0.272343</td>\n    </tr>\n    <tr>\n      <th>28</th>\n      <td>#291</td>\n      <td>#380</td>\n      <td>0.105574</td>\n    </tr>\n    <tr>\n      <th>29</th>\n      <td>#11</td>\n      <td>#368</td>\n      <td>0.607027</td>\n    </tr>\n    <tr>\n      <th>30</th>\n      <td>#113</td>\n      <td>#192</td>\n      <td>0.031430</td>\n    </tr>\n    <tr>\n      <th>31</th>\n      <td>#121</td>\n      <td>#132</td>\n      <td>-0.021778</td>\n    </tr>\n    <tr>\n      <th>32</th>\n      <td>#228</td>\n      <td>#275</td>\n      <td>0.059633</td>\n    </tr>\n    <tr>\n      <th>33</th>\n      <td>#283</td>\n      <td>#366</td>\n      <td>-0.020198</td>\n    </tr>\n    <tr>\n      <th>34</th>\n      <td>#189</td>\n      <td>#228</td>\n      <td>0.348805</td>\n    </tr>\n    <tr>\n      <th>35</th>\n      <td>#11</td>\n      <td>#84</td>\n      <td>0.435621</td>\n    </tr>\n    <tr>\n      <th>36</th>\n      <td>#228</td>\n      <td>#336</td>\n      <td>-0.188533</td>\n    </tr>\n    <tr>\n      <th>37</th>\n      <td>#347</td>\n      <td>#389</td>\n      <td>-0.043472</td>\n    </tr>\n    <tr>\n      <th>38</th>\n      <td>#99</td>\n      <td>#117</td>\n      <td>-0.103046</td>\n    </tr>\n    <tr>\n      <th>39</th>\n      <td>#193</td>\n      <td>#228</td>\n      <td>0.332352</td>\n    </tr>\n    <tr>\n      <th>40</th>\n      <td>#175</td>\n      <td>#379</td>\n      <td>0.082471</td>\n    </tr>\n    <tr>\n      <th>41</th>\n      <td>#11</td>\n      <td>#264</td>\n      <td>0.401383</td>\n    </tr>\n    <tr>\n      <th>42</th>\n      <td>#21</td>\n      <td>#363</td>\n      <td>0.005064</td>\n    </tr>\n    <tr>\n      <th>43</th>\n      <td>#35</td>\n      <td>#54</td>\n      <td>0.189626</td>\n    </tr>\n    <tr>\n      <th>44</th>\n      <td>#95</td>\n      <td>#398</td>\n      <td>-0.036790</td>\n    </tr>\n    <tr>\n      <th>45</th>\n      <td>#43</td>\n      <td>#58</td>\n      <td>-0.061798</td>\n    </tr>\n    <tr>\n      <th>46</th>\n      <td>#128</td>\n      <td>#309</td>\n      <td>-0.025244</td>\n    </tr>\n    <tr>\n      <th>47</th>\n      <td>#34</td>\n      <td>#189</td>\n      <td>0.280045</td>\n    </tr>\n    <tr>\n      <th>48</th>\n      <td>#34</td>\n      <td>#125</td>\n      <td>-0.052885</td>\n    </tr>\n    <tr>\n      <th>49</th>\n      <td>#142</td>\n      <td>#177</td>\n      <td>0.190731</td>\n    </tr>\n  </tbody>\n</table>\n</div>"
     },
     "execution_count": 294,
     "metadata": {},
     "output_type": "execute_result"
    }
   ],
   "source": [
    "control_CC400"
   ],
   "metadata": {
    "collapsed": false,
    "pycharm": {
     "name": "#%%\n"
    }
   }
  },
  {
   "cell_type": "code",
   "execution_count": 295,
   "outputs": [],
   "source": [
    "control_CC400.to_csv('cc400_control_adj.csv', index=False)\n",
    "asd_CC400.to_csv('cc400_asd_adj.csv', index=False)"
   ],
   "metadata": {
    "collapsed": false,
    "pycharm": {
     "name": "#%%\n"
    }
   }
  },
  {
   "cell_type": "code",
   "execution_count": null,
   "outputs": [],
   "source": [],
   "metadata": {
    "collapsed": false,
    "pycharm": {
     "name": "#%%\n"
    }
   }
  }
 ],
 "metadata": {
  "kernelspec": {
   "display_name": "Python 3",
   "language": "python",
   "name": "python3"
  },
  "language_info": {
   "codemirror_mode": {
    "name": "ipython",
    "version": 2
   },
   "file_extension": ".py",
   "mimetype": "text/x-python",
   "name": "python",
   "nbconvert_exporter": "python",
   "pygments_lexer": "ipython2",
   "version": "2.7.6"
  }
 },
 "nbformat": 4,
 "nbformat_minor": 0
}